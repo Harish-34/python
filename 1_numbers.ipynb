{
 "cells": [
  {
   "cell_type": "markdown",
   "id": "f952eab8-94a9-41c2-99a8-822c90c0ae78",
   "metadata": {},
   "source": [
    "# Numbers"
   ]
  },
  {
   "cell_type": "code",
   "execution_count": 1,
   "id": "9a540dca-8ef5-4821-aa41-0b4fa1c6024a",
   "metadata": {},
   "outputs": [
    {
     "data": {
      "text/plain": [
       "15"
      ]
     },
     "execution_count": 1,
     "metadata": {},
     "output_type": "execute_result"
    }
   ],
   "source": [
    "10+5"
   ]
  },
  {
   "cell_type": "code",
   "execution_count": 9,
   "id": "4b9efa91-4463-49d6-b201-9dae2cbd149f",
   "metadata": {},
   "outputs": [
    {
     "data": {
      "text/plain": [
       "5"
      ]
     },
     "execution_count": 9,
     "metadata": {},
     "output_type": "execute_result"
    }
   ],
   "source": [
    "10-5"
   ]
  },
  {
   "cell_type": "code",
   "execution_count": 12,
   "id": "8ad68e73-2fd8-4145-9b9f-401e6e5b3e57",
   "metadata": {},
   "outputs": [
    {
     "data": {
      "text/plain": [
       "30"
      ]
     },
     "execution_count": 12,
     "metadata": {},
     "output_type": "execute_result"
    }
   ],
   "source": [
    "10*3"
   ]
  },
  {
   "cell_type": "code",
   "execution_count": 15,
   "id": "b7d5e2f9-07f2-4ebf-b93a-7866db4bc7a7",
   "metadata": {},
   "outputs": [
    {
     "data": {
      "text/plain": [
       "8"
      ]
     },
     "execution_count": 15,
     "metadata": {},
     "output_type": "execute_result"
    }
   ],
   "source": [
    "2**3"
   ]
  },
  {
   "cell_type": "code",
   "execution_count": 17,
   "id": "1bd12ea9-36b2-48a1-8e04-0354bff2d12f",
   "metadata": {},
   "outputs": [
    {
     "data": {
      "text/plain": [
       "0.4"
      ]
     },
     "execution_count": 17,
     "metadata": {},
     "output_type": "execute_result"
    }
   ],
   "source": [
    "2/5"
   ]
  },
  {
   "cell_type": "code",
   "execution_count": 19,
   "id": "329d9c96-a1b5-45fd-8b87-b6d92c5b3ae8",
   "metadata": {},
   "outputs": [
    {
     "data": {
      "text/plain": [
       "0"
      ]
     },
     "execution_count": 19,
     "metadata": {},
     "output_type": "execute_result"
    }
   ],
   "source": [
    "2//5"
   ]
  },
  {
   "cell_type": "code",
   "execution_count": 21,
   "id": "e232a212-006a-4e09-b44b-7c36d918e621",
   "metadata": {},
   "outputs": [
    {
     "data": {
      "text/plain": [
       "2"
      ]
     },
     "execution_count": 21,
     "metadata": {},
     "output_type": "execute_result"
    }
   ],
   "source": [
    "2%3"
   ]
  },
  {
   "cell_type": "code",
   "execution_count": 23,
   "id": "888c76aa-5699-4a76-b6f9-e51a23248648",
   "metadata": {},
   "outputs": [
    {
     "data": {
      "text/plain": [
       "2"
      ]
     },
     "execution_count": 23,
     "metadata": {},
     "output_type": "execute_result"
    }
   ],
   "source": [
    "5//2"
   ]
  },
  {
   "cell_type": "markdown",
   "id": "52a548bd-8d4d-4bd2-8d68-215cbcf9c6e5",
   "metadata": {},
   "source": [
    "# keywords"
   ]
  },
  {
   "cell_type": "code",
   "execution_count": 27,
   "id": "028b677b-64aa-4877-806d-0a31d6532e02",
   "metadata": {},
   "outputs": [
    {
     "data": {
      "text/plain": [
       "['False',\n",
       " 'None',\n",
       " 'True',\n",
       " 'and',\n",
       " 'as',\n",
       " 'assert',\n",
       " 'async',\n",
       " 'await',\n",
       " 'break',\n",
       " 'class',\n",
       " 'continue',\n",
       " 'def',\n",
       " 'del',\n",
       " 'elif',\n",
       " 'else',\n",
       " 'except',\n",
       " 'finally',\n",
       " 'for',\n",
       " 'from',\n",
       " 'global',\n",
       " 'if',\n",
       " 'import',\n",
       " 'in',\n",
       " 'is',\n",
       " 'lambda',\n",
       " 'nonlocal',\n",
       " 'not',\n",
       " 'or',\n",
       " 'pass',\n",
       " 'raise',\n",
       " 'return',\n",
       " 'try',\n",
       " 'while',\n",
       " 'with',\n",
       " 'yield']"
      ]
     },
     "execution_count": 27,
     "metadata": {},
     "output_type": "execute_result"
    }
   ],
   "source": [
    "import keyword\n",
    "keyword.kwlist"
   ]
  },
  {
   "cell_type": "code",
   "execution_count": 31,
   "id": "0536bfcb-0fc2-44ce-85a8-24808fc3c48f",
   "metadata": {},
   "outputs": [
    {
     "ename": "AssertionError",
     "evalue": "",
     "output_type": "error",
     "traceback": [
      "\u001b[1;31m---------------------------------------------------------------------------\u001b[0m",
      "\u001b[1;31mAssertionError\u001b[0m                            Traceback (most recent call last)",
      "Cell \u001b[1;32mIn[31], line 1\u001b[0m\n\u001b[1;32m----> 1\u001b[0m \u001b[38;5;28;01massert\u001b[39;00m \u001b[38;5;241m5\u001b[39m \u001b[38;5;241m<\u001b[39m \u001b[38;5;241m3\u001b[39m  \u001b[38;5;66;03m# No error if true\u001b[39;00m\n",
      "\u001b[1;31mAssertionError\u001b[0m: "
     ]
    }
   ],
   "source": [
    "assert 5 < 3  # No error if true"
   ]
  },
  {
   "cell_type": "markdown",
   "id": "a6b985cf-ebcd-4195-9647-c5cdb354a8b8",
   "metadata": {},
   "source": [
    "## working with primitive data types type hex(id()) operators"
   ]
  },
  {
   "cell_type": "code",
   "execution_count": 33,
   "id": "08faa2a4-541e-4caf-a281-2456d0b42e70",
   "metadata": {},
   "outputs": [
    {
     "name": "stdout",
     "output_type": "stream",
     "text": [
      "25\n"
     ]
    }
   ],
   "source": [
    "age = 25\n",
    "print(age)"
   ]
  },
  {
   "cell_type": "code",
   "execution_count": 37,
   "id": "bc4d8f86-0568-4980-8269-2973bfe66c8c",
   "metadata": {},
   "outputs": [
    {
     "name": "stdout",
     "output_type": "stream",
     "text": [
      "harish\n",
      "<class 'str'>\n"
     ]
    }
   ],
   "source": [
    "name = 'harish'\n",
    "print(name)\n",
    "print(type(name))"
   ]
  },
  {
   "cell_type": "code",
   "execution_count": 41,
   "id": "74c9deb3-d2bd-447f-b86b-c6f96da7be35",
   "metadata": {},
   "outputs": [
    {
     "name": "stdout",
     "output_type": "stream",
     "text": [
      "12.99\n",
      "<class 'float'>\n"
     ]
    }
   ],
   "source": [
    "price = 12.99\n",
    "print(price)\n",
    "print(type(price))"
   ]
  },
  {
   "cell_type": "code",
   "execution_count": 43,
   "id": "09c71381-50a5-4f44-9364-4aa120d5129f",
   "metadata": {},
   "outputs": [
    {
     "name": "stdout",
     "output_type": "stream",
     "text": [
      "True\n",
      "<class 'bool'>\n"
     ]
    }
   ],
   "source": [
    "isworking = True\n",
    "print(isworking)\n",
    "print(type(isworking))"
   ]
  },
  {
   "cell_type": "code",
   "execution_count": 5,
   "id": "3527bb9a-84dd-4d2c-90f8-65efe85fbd4b",
   "metadata": {},
   "outputs": [
    {
     "data": {
      "text/plain": [
       "30"
      ]
     },
     "execution_count": 5,
     "metadata": {},
     "output_type": "execute_result"
    }
   ],
   "source": [
    "a, b, c = 10, 20, 30\n",
    "a\n",
    "b\n",
    "c"
   ]
  },
  {
   "cell_type": "code",
   "execution_count": 7,
   "id": "3483ea1a-85a0-4f56-aca2-012ac5381b09",
   "metadata": {},
   "outputs": [
    {
     "name": "stdout",
     "output_type": "stream",
     "text": [
      "10\n",
      "20\n",
      "30\n"
     ]
    }
   ],
   "source": [
    "print(a)\n",
    "print(b)\n",
    "print(c)"
   ]
  },
  {
   "cell_type": "code",
   "execution_count": 21,
   "id": "5bc2fb7c-7d1e-4720-b5ee-ddf7605fbebc",
   "metadata": {},
   "outputs": [
    {
     "data": {
      "text/plain": [
       "'0x7ff814b43ad8'"
      ]
     },
     "execution_count": 21,
     "metadata": {},
     "output_type": "execute_result"
    }
   ],
   "source": [
    "id(a)\n",
    "hex(id(a))"
   ]
  },
  {
   "cell_type": "code",
   "execution_count": 49,
   "id": "6a4b18de-ac24-4451-bcc0-70eda9b9443f",
   "metadata": {},
   "outputs": [
    {
     "name": "stdout",
     "output_type": "stream",
     "text": [
      "10 20 30\n"
     ]
    }
   ],
   "source": [
    "print(a,b,c)"
   ]
  },
  {
   "cell_type": "code",
   "execution_count": 51,
   "id": "5f81b6a5-3ed2-4a4c-94f6-73582ad1072d",
   "metadata": {},
   "outputs": [
    {
     "data": {
      "text/plain": [
       "7"
      ]
     },
     "execution_count": 51,
     "metadata": {},
     "output_type": "execute_result"
    }
   ],
   "source": [
    "a_b = 7\n",
    "a_b"
   ]
  },
  {
   "cell_type": "code",
   "execution_count": 55,
   "id": "66ee4d38-2738-4a27-8a64-da2ba6ef96a1",
   "metadata": {},
   "outputs": [
    {
     "data": {
      "text/plain": [
       "76"
      ]
     },
     "execution_count": 55,
     "metadata": {},
     "output_type": "execute_result"
    }
   ],
   "source": [
    "_nit = 76\n",
    "_nit"
   ]
  },
  {
   "cell_type": "code",
   "execution_count": 59,
   "id": "de9f698a-c9b2-4991-980b-f94d90e6778a",
   "metadata": {},
   "outputs": [
    {
     "data": {
      "text/plain": [
       "int"
      ]
     },
     "execution_count": 59,
     "metadata": {},
     "output_type": "execute_result"
    }
   ],
   "source": [
    "type(a_b)"
   ]
  },
  {
   "cell_type": "code",
   "execution_count": 63,
   "id": "767d6eab-eb24-474c-9fd7-38d505f5f40d",
   "metadata": {},
   "outputs": [
    {
     "data": {
      "text/plain": [
       "3.0"
      ]
     },
     "execution_count": 63,
     "metadata": {},
     "output_type": "execute_result"
    }
   ],
   "source": [
    "f1 = 3e0\n",
    "f1"
   ]
  },
  {
   "cell_type": "code",
   "execution_count": 71,
   "id": "7f557f89-6276-4245-bcb0-ffd7af6e5f9a",
   "metadata": {},
   "outputs": [
    {
     "data": {
      "text/plain": [
       "350000.0"
      ]
     },
     "execution_count": 71,
     "metadata": {},
     "output_type": "execute_result"
    }
   ],
   "source": [
    "f2 = 3.5e5\n",
    "f2"
   ]
  },
  {
   "cell_type": "code",
   "execution_count": 73,
   "id": "59386920-a5a2-40d0-a9be-515120d7fe67",
   "metadata": {},
   "outputs": [
    {
     "data": {
      "text/plain": [
       "30000.0"
      ]
     },
     "execution_count": 73,
     "metadata": {},
     "output_type": "execute_result"
    }
   ],
   "source": [
    "f3 = 3e4\n",
    "f3"
   ]
  },
  {
   "cell_type": "code",
   "execution_count": 75,
   "id": "88977115-5251-4d56-a445-a8c980bd5f77",
   "metadata": {},
   "outputs": [
    {
     "ename": "TypeError",
     "evalue": "unsupported operand type(s) for +: 'int' and 'NoneType'",
     "output_type": "error",
     "traceback": [
      "\u001b[1;31m---------------------------------------------------------------------------\u001b[0m",
      "\u001b[1;31mTypeError\u001b[0m                                 Traceback (most recent call last)",
      "Cell \u001b[1;32mIn[75], line 1\u001b[0m\n\u001b[1;32m----> 1\u001b[0m \u001b[38;5;28;43;01mTrue\u001b[39;49;00m\u001b[43m \u001b[49m\u001b[38;5;241;43m+\u001b[39;49m\u001b[43m \u001b[49m\u001b[38;5;28;43;01mFalse\u001b[39;49;00m\u001b[43m \u001b[49m\u001b[38;5;241;43m+\u001b[39;49m\u001b[43m \u001b[49m\u001b[38;5;28;43;01mNone\u001b[39;49;00m\n",
      "\u001b[1;31mTypeError\u001b[0m: unsupported operand type(s) for +: 'int' and 'NoneType'"
     ]
    }
   ],
   "source": [
    "True + False + None"
   ]
  },
  {
   "cell_type": "code",
   "execution_count": 77,
   "id": "da2e1d0c-83a1-4010-adb1-ff8170b0cbcb",
   "metadata": {},
   "outputs": [
    {
     "data": {
      "text/plain": [
       "1"
      ]
     },
     "execution_count": 77,
     "metadata": {},
     "output_type": "execute_result"
    }
   ],
   "source": [
    "True + False "
   ]
  },
  {
   "cell_type": "code",
   "execution_count": 79,
   "id": "f5ad052c-7c38-4e9e-8ae8-6ef4b4b47b9d",
   "metadata": {},
   "outputs": [
    {
     "data": {
      "text/plain": [
       "True"
      ]
     },
     "execution_count": 79,
     "metadata": {},
     "output_type": "execute_result"
    }
   ],
   "source": [
    "True"
   ]
  },
  {
   "cell_type": "code",
   "execution_count": 81,
   "id": "0142d17c-33d7-4878-b36e-4efb7a99954b",
   "metadata": {},
   "outputs": [
    {
     "data": {
      "text/plain": [
       "False"
      ]
     },
     "execution_count": 81,
     "metadata": {},
     "output_type": "execute_result"
    }
   ],
   "source": [
    "False"
   ]
  },
  {
   "cell_type": "code",
   "execution_count": 83,
   "id": "6776e52b-915c-436c-8284-1d80a38debb5",
   "metadata": {},
   "outputs": [],
   "source": [
    "None"
   ]
  },
  {
   "cell_type": "code",
   "execution_count": 4,
   "id": "f71804f3-fff7-4bb5-b1f1-9e4047775802",
   "metadata": {},
   "outputs": [
    {
     "data": {
      "text/plain": [
       "0"
      ]
     },
     "execution_count": 4,
     "metadata": {},
     "output_type": "execute_result"
    }
   ],
   "source": [
    "True * False"
   ]
  },
  {
   "cell_type": "code",
   "execution_count": 6,
   "id": "96193c0e-37d1-4e32-91fa-90ce770eade4",
   "metadata": {},
   "outputs": [
    {
     "ename": "TypeError",
     "evalue": "unsupported operand type(s) for *: 'bool' and 'NoneType'",
     "output_type": "error",
     "traceback": [
      "\u001b[1;31m---------------------------------------------------------------------------\u001b[0m",
      "\u001b[1;31mTypeError\u001b[0m                                 Traceback (most recent call last)",
      "Cell \u001b[1;32mIn[6], line 1\u001b[0m\n\u001b[1;32m----> 1\u001b[0m \u001b[38;5;28;43;01mTrue\u001b[39;49;00m\u001b[43m \u001b[49m\u001b[38;5;241;43m*\u001b[39;49m\u001b[43m \u001b[49m\u001b[38;5;28;43;01mNone\u001b[39;49;00m\n",
      "\u001b[1;31mTypeError\u001b[0m: unsupported operand type(s) for *: 'bool' and 'NoneType'"
     ]
    }
   ],
   "source": [
    "True * None"
   ]
  },
  {
   "cell_type": "code",
   "execution_count": 85,
   "id": "c2ab3d27-d272-47a0-97a0-4e631bc04b71",
   "metadata": {},
   "outputs": [
    {
     "data": {
      "text/plain": [
       "2"
      ]
     },
     "execution_count": 85,
     "metadata": {},
     "output_type": "execute_result"
    }
   ],
   "source": [
    "True + True"
   ]
  },
  {
   "cell_type": "code",
   "execution_count": 87,
   "id": "58f4f976-88a7-4661-9d76-91f0d3f73a58",
   "metadata": {},
   "outputs": [
    {
     "data": {
      "text/plain": [
       "1"
      ]
     },
     "execution_count": 87,
     "metadata": {},
     "output_type": "execute_result"
    }
   ],
   "source": [
    "True + False * True - False"
   ]
  },
  {
   "cell_type": "code",
   "execution_count": 89,
   "id": "e19565b5-dd14-47f1-96ba-469a4595c06f",
   "metadata": {},
   "outputs": [
    {
     "name": "stdout",
     "output_type": "stream",
     "text": [
      "2\n"
     ]
    }
   ],
   "source": [
    "print(True*2)"
   ]
  },
  {
   "cell_type": "code",
   "execution_count": 93,
   "id": "8b2bdbf9-ffe0-47b8-a0fa-fdf51bcc1b5f",
   "metadata": {},
   "outputs": [
    {
     "name": "stdout",
     "output_type": "stream",
     "text": [
      "sssss\n"
     ]
    }
   ],
   "source": [
    "print('s'*5)"
   ]
  },
  {
   "cell_type": "code",
   "execution_count": 95,
   "id": "83dcc531-a87a-4acb-8a43-f6ba25f5627a",
   "metadata": {},
   "outputs": [],
   "source": [
    "c = 10.5+20.6j"
   ]
  },
  {
   "cell_type": "code",
   "execution_count": 97,
   "id": "a55e18de-8969-4230-a034-4d9712a42304",
   "metadata": {},
   "outputs": [
    {
     "data": {
      "text/plain": [
       "10.5"
      ]
     },
     "execution_count": 97,
     "metadata": {},
     "output_type": "execute_result"
    }
   ],
   "source": [
    "c.real"
   ]
  },
  {
   "cell_type": "code",
   "execution_count": 99,
   "id": "5553e5e4-8b94-454a-b2b3-124ddd0c2d30",
   "metadata": {},
   "outputs": [
    {
     "data": {
      "text/plain": [
       "20.6"
      ]
     },
     "execution_count": 99,
     "metadata": {},
     "output_type": "execute_result"
    }
   ],
   "source": [
    "c.imag"
   ]
  },
  {
   "cell_type": "markdown",
   "id": "283fcd3c-597e-4a8e-98f3-bf47dfff883c",
   "metadata": {},
   "source": [
    "## Working with string slicing/reversing"
   ]
  },
  {
   "cell_type": "code",
   "execution_count": 101,
   "id": "cc843c86-0b29-4363-b874-9b06fd463a88",
   "metadata": {},
   "outputs": [
    {
     "data": {
      "text/plain": [
       "'srting'"
      ]
     },
     "execution_count": 101,
     "metadata": {},
     "output_type": "execute_result"
    }
   ],
   "source": [
    "s= 'srting'\n",
    "s"
   ]
  },
  {
   "cell_type": "code",
   "execution_count": 103,
   "id": "5c5e3d0f-67bc-47da-86c7-a6a4130e8ccf",
   "metadata": {},
   "outputs": [
    {
     "data": {
      "text/plain": [
       "str"
      ]
     },
     "execution_count": 103,
     "metadata": {},
     "output_type": "execute_result"
    }
   ],
   "source": [
    "type(s)"
   ]
  },
  {
   "cell_type": "code",
   "execution_count": 105,
   "id": "ea31b3a4-2fde-4497-8638-e870386df2e5",
   "metadata": {},
   "outputs": [
    {
     "ename": "SyntaxError",
     "evalue": "unterminated string literal (detected at line 1) (1010053039.py, line 1)",
     "output_type": "error",
     "traceback": [
      "\u001b[1;36m  Cell \u001b[1;32mIn[105], line 1\u001b[1;36m\u001b[0m\n\u001b[1;33m    s1 = 'welcome\u001b[0m\n\u001b[1;37m         ^\u001b[0m\n\u001b[1;31mSyntaxError\u001b[0m\u001b[1;31m:\u001b[0m unterminated string literal (detected at line 1)\n"
     ]
    }
   ],
   "source": [
    "s1 = 'welcome\n",
    "        class'\n",
    "s1"
   ]
  },
  {
   "cell_type": "code",
   "execution_count": 107,
   "id": "61cfa6fd-1ffc-4e9a-a34a-db40548d9da0",
   "metadata": {},
   "outputs": [
    {
     "ename": "SyntaxError",
     "evalue": "unterminated string literal (detected at line 1) (3103117966.py, line 1)",
     "output_type": "error",
     "traceback": [
      "\u001b[1;36m  Cell \u001b[1;32mIn[107], line 1\u001b[1;36m\u001b[0m\n\u001b[1;33m    s2 = \"welcome\u001b[0m\n\u001b[1;37m         ^\u001b[0m\n\u001b[1;31mSyntaxError\u001b[0m\u001b[1;31m:\u001b[0m unterminated string literal (detected at line 1)\n"
     ]
    }
   ],
   "source": [
    "s2 = \"welcome\n",
    "        class\"\n",
    "s2"
   ]
  },
  {
   "cell_type": "code",
   "execution_count": 109,
   "id": "f0118ae4-245d-4d69-acc6-ed60f066a9f2",
   "metadata": {},
   "outputs": [
    {
     "data": {
      "text/plain": [
       "'welcome\\n        class'"
      ]
     },
     "execution_count": 109,
     "metadata": {},
     "output_type": "execute_result"
    }
   ],
   "source": [
    "s3 = '''welcome\n",
    "        class'''\n",
    "s3"
   ]
  },
  {
   "cell_type": "code",
   "execution_count": 94,
   "id": "0966b7bc-c21c-49f4-aa1f-ec8728f417a9",
   "metadata": {},
   "outputs": [
    {
     "data": {
      "text/plain": [
       "'nareshit'"
      ]
     },
     "execution_count": 94,
     "metadata": {},
     "output_type": "execute_result"
    }
   ],
   "source": [
    "s4 = 'nareshit'\n",
    "s4"
   ]
  },
  {
   "cell_type": "code",
   "execution_count": 96,
   "id": "1280d83a-f3d7-4c26-9036-19994ebebf91",
   "metadata": {},
   "outputs": [
    {
     "name": "stdout",
     "output_type": "stream",
     "text": [
      "n\n",
      "a\n",
      "r\n",
      "e\n",
      "s\n",
      "h\n",
      "i\n",
      "t\n"
     ]
    }
   ],
   "source": [
    "for i in s4:\n",
    "    print(i)"
   ]
  },
  {
   "cell_type": "code",
   "execution_count": 125,
   "id": "8e03305c-4f3d-4642-8803-7d2531ad61f8",
   "metadata": {},
   "outputs": [
    {
     "name": "stdout",
     "output_type": "stream",
     "text": [
      "nnn\n",
      "aaa\n",
      "rrr\n",
      "eee\n",
      "sss\n",
      "hhh\n",
      "iii\n",
      "ttt\n"
     ]
    }
   ],
   "source": [
    "for i in s4:\n",
    "    print(i*3)"
   ]
  },
  {
   "cell_type": "code",
   "execution_count": 117,
   "id": "1aaf1697-4401-47f8-87b2-fbc00221b615",
   "metadata": {},
   "outputs": [
    {
     "data": {
      "text/plain": [
       "\"naresh's it\""
      ]
     },
     "execution_count": 117,
     "metadata": {},
     "output_type": "execute_result"
    }
   ],
   "source": [
    "s5 = 'naresh\\'s it'\n",
    "s5"
   ]
  },
  {
   "cell_type": "code",
   "execution_count": 121,
   "id": "54ce4195-66a3-464d-b164-f5194ffc4f5b",
   "metadata": {},
   "outputs": [
    {
     "data": {
      "text/plain": [
       "'rams\"'"
      ]
     },
     "execution_count": 121,
     "metadata": {},
     "output_type": "execute_result"
    }
   ],
   "source": [
    "s6 = 'rams\"'\n",
    "s6"
   ]
  },
  {
   "cell_type": "code",
   "execution_count": 127,
   "id": "7c2c10ac-9ec6-47e0-84b1-361f90c94d6d",
   "metadata": {},
   "outputs": [
    {
     "data": {
      "text/plain": [
       "'e'"
      ]
     },
     "execution_count": 127,
     "metadata": {},
     "output_type": "execute_result"
    }
   ],
   "source": [
    "s4[3]"
   ]
  },
  {
   "cell_type": "code",
   "execution_count": 135,
   "id": "686b1a1d-1c51-46b0-8a2e-a460a79c42ba",
   "metadata": {},
   "outputs": [
    {
     "data": {
      "text/plain": [
       "'n'"
      ]
     },
     "execution_count": 135,
     "metadata": {},
     "output_type": "execute_result"
    }
   ],
   "source": [
    "s4[0]"
   ]
  },
  {
   "cell_type": "code",
   "execution_count": 137,
   "id": "95a4541f-863d-4cab-b900-02ba5ea9b427",
   "metadata": {},
   "outputs": [
    {
     "ename": "IndexError",
     "evalue": "string index out of range",
     "output_type": "error",
     "traceback": [
      "\u001b[1;31m---------------------------------------------------------------------------\u001b[0m",
      "\u001b[1;31mIndexError\u001b[0m                                Traceback (most recent call last)",
      "Cell \u001b[1;32mIn[137], line 1\u001b[0m\n\u001b[1;32m----> 1\u001b[0m \u001b[43ms4\u001b[49m\u001b[43m[\u001b[49m\u001b[38;5;241;43m10\u001b[39;49m\u001b[43m]\u001b[49m\n",
      "\u001b[1;31mIndexError\u001b[0m: string index out of range"
     ]
    }
   ],
   "source": [
    "s4[10]"
   ]
  },
  {
   "cell_type": "code",
   "execution_count": 139,
   "id": "8c459148-facb-4c69-b788-e3657a6d93af",
   "metadata": {},
   "outputs": [
    {
     "data": {
      "text/plain": [
       "'h'"
      ]
     },
     "execution_count": 139,
     "metadata": {},
     "output_type": "execute_result"
    }
   ],
   "source": [
    "s4[-3]"
   ]
  },
  {
   "cell_type": "code",
   "execution_count": 143,
   "id": "12c2b1a7-4fb2-49e8-b880-6176c6c1724e",
   "metadata": {},
   "outputs": [
    {
     "data": {
      "text/plain": [
       "'n'"
      ]
     },
     "execution_count": 143,
     "metadata": {},
     "output_type": "execute_result"
    }
   ],
   "source": [
    "s4[-8]"
   ]
  },
  {
   "cell_type": "code",
   "execution_count": 145,
   "id": "1a6d6f69-92de-4230-a231-f24d563731a8",
   "metadata": {},
   "outputs": [
    {
     "data": {
      "text/plain": [
       "'e'"
      ]
     },
     "execution_count": 145,
     "metadata": {},
     "output_type": "execute_result"
    }
   ],
   "source": [
    "s4[-5]"
   ]
  },
  {
   "cell_type": "code",
   "execution_count": 147,
   "id": "444b5cfd-04ee-4da9-8110-f941b6db33d1",
   "metadata": {},
   "outputs": [
    {
     "data": {
      "text/plain": [
       "'nareshit'"
      ]
     },
     "execution_count": 147,
     "metadata": {},
     "output_type": "execute_result"
    }
   ],
   "source": [
    "s4"
   ]
  },
  {
   "cell_type": "code",
   "execution_count": 149,
   "id": "b8987253-4c3a-4961-b577-e068a601b4ee",
   "metadata": {},
   "outputs": [
    {
     "data": {
      "text/plain": [
       "'nare'"
      ]
     },
     "execution_count": 149,
     "metadata": {},
     "output_type": "execute_result"
    }
   ],
   "source": [
    "s4[0:4]"
   ]
  },
  {
   "cell_type": "code",
   "execution_count": 151,
   "id": "233675e9-502b-46b1-88cc-db81d09b8f23",
   "metadata": {},
   "outputs": [
    {
     "data": {
      "text/plain": [
       "'nareshit'"
      ]
     },
     "execution_count": 151,
     "metadata": {},
     "output_type": "execute_result"
    }
   ],
   "source": [
    "s4[0:]"
   ]
  },
  {
   "cell_type": "code",
   "execution_count": 159,
   "id": "4d55ae2c-25fe-4a29-92e4-9eeb851f20ab",
   "metadata": {},
   "outputs": [
    {
     "data": {
      "text/plain": [
       "'nareshit'"
      ]
     },
     "execution_count": 159,
     "metadata": {},
     "output_type": "execute_result"
    }
   ],
   "source": [
    "s4[:len(s4)]"
   ]
  },
  {
   "cell_type": "code",
   "execution_count": 161,
   "id": "301fcb99-65c9-4a52-87b3-ede86d59274c",
   "metadata": {},
   "outputs": [
    {
     "data": {
      "text/plain": [
       "'nareshit'"
      ]
     },
     "execution_count": 161,
     "metadata": {},
     "output_type": "execute_result"
    }
   ],
   "source": [
    "s4[0:len(s4):1]"
   ]
  },
  {
   "cell_type": "code",
   "execution_count": 163,
   "id": "d539f92c-e7be-4146-b924-1610dbfec823",
   "metadata": {},
   "outputs": [
    {
     "data": {
      "text/plain": [
       "'nrsi'"
      ]
     },
     "execution_count": 163,
     "metadata": {},
     "output_type": "execute_result"
    }
   ],
   "source": [
    "s4[0:len(s4):2]"
   ]
  },
  {
   "cell_type": "code",
   "execution_count": 165,
   "id": "4d412114-de8f-4d28-9c6b-7d1671f60896",
   "metadata": {},
   "outputs": [
    {
     "data": {
      "text/plain": [
       "'nrsi'"
      ]
     },
     "execution_count": 165,
     "metadata": {},
     "output_type": "execute_result"
    }
   ],
   "source": [
    "s4[:len(s4):2]"
   ]
  },
  {
   "cell_type": "code",
   "execution_count": 167,
   "id": "fb303ee8-2d09-48fc-9d4d-2b4ca12ee6cc",
   "metadata": {},
   "outputs": [
    {
     "data": {
      "text/plain": [
       "'nrsi'"
      ]
     },
     "execution_count": 167,
     "metadata": {},
     "output_type": "execute_result"
    }
   ],
   "source": [
    "s4[0::2]"
   ]
  },
  {
   "cell_type": "code",
   "execution_count": 169,
   "id": "71d14d91-912e-44bc-ac9d-62c9e6eb4e0f",
   "metadata": {},
   "outputs": [
    {
     "data": {
      "text/plain": [
       "'nrsi'"
      ]
     },
     "execution_count": 169,
     "metadata": {},
     "output_type": "execute_result"
    }
   ],
   "source": [
    "s4[::2]"
   ]
  },
  {
   "cell_type": "code",
   "execution_count": 171,
   "id": "aea79669-894c-42a8-bed6-8e288e62316d",
   "metadata": {},
   "outputs": [
    {
     "data": {
      "text/plain": [
       "'aeht'"
      ]
     },
     "execution_count": 171,
     "metadata": {},
     "output_type": "execute_result"
    }
   ],
   "source": [
    "s4[1:len(s4):2]"
   ]
  },
  {
   "cell_type": "code",
   "execution_count": 173,
   "id": "f43571af-3b32-4d48-8e5e-c63cf6d8e47e",
   "metadata": {},
   "outputs": [
    {
     "data": {
      "text/plain": [
       "'nei'"
      ]
     },
     "execution_count": 173,
     "metadata": {},
     "output_type": "execute_result"
    }
   ],
   "source": [
    "s4[0::3]"
   ]
  },
  {
   "cell_type": "code",
   "execution_count": 175,
   "id": "210b5fbe-0dd5-4665-bf41-a84e90775c5a",
   "metadata": {},
   "outputs": [
    {
     "data": {
      "text/plain": [
       "'ast'"
      ]
     },
     "execution_count": 175,
     "metadata": {},
     "output_type": "execute_result"
    }
   ],
   "source": [
    "s4[1::3]"
   ]
  },
  {
   "cell_type": "code",
   "execution_count": 177,
   "id": "cf75feeb-98be-4aa5-ae9c-7f4d1369a1a1",
   "metadata": {},
   "outputs": [
    {
     "data": {
      "text/plain": [
       "'rh'"
      ]
     },
     "execution_count": 177,
     "metadata": {},
     "output_type": "execute_result"
    }
   ],
   "source": [
    "s4[2::3]"
   ]
  },
  {
   "cell_type": "code",
   "execution_count": 187,
   "id": "d47a57d8-73a4-4f81-8eb6-e3f053a2cf42",
   "metadata": {},
   "outputs": [
    {
     "data": {
      "text/plain": [
       "'t'"
      ]
     },
     "execution_count": 187,
     "metadata": {},
     "output_type": "execute_result"
    }
   ],
   "source": [
    "s4[7:]"
   ]
  },
  {
   "cell_type": "code",
   "execution_count": 189,
   "id": "226f8dfe-f912-47eb-8fff-7d3963ea8d99",
   "metadata": {},
   "outputs": [
    {
     "data": {
      "text/plain": [
       "''"
      ]
     },
     "execution_count": 189,
     "metadata": {},
     "output_type": "execute_result"
    }
   ],
   "source": [
    "s4[8:]"
   ]
  },
  {
   "cell_type": "code",
   "execution_count": 191,
   "id": "7bc10e6d-4811-4ff7-82a7-e4743d592959",
   "metadata": {},
   "outputs": [
    {
     "data": {
      "text/plain": [
       "''"
      ]
     },
     "execution_count": 191,
     "metadata": {},
     "output_type": "execute_result"
    }
   ],
   "source": [
    "s4[8:0]"
   ]
  },
  {
   "cell_type": "code",
   "execution_count": 203,
   "id": "82657f76-bb1f-4afe-9a20-6a1b35c4d0aa",
   "metadata": {},
   "outputs": [
    {
     "data": {
      "text/plain": [
       "'tihseran'"
      ]
     },
     "execution_count": 203,
     "metadata": {},
     "output_type": "execute_result"
    }
   ],
   "source": [
    "s4[1000::-1]"
   ]
  },
  {
   "cell_type": "code",
   "execution_count": 205,
   "id": "5d82d9a3-084c-4edf-adf9-8a09e3b23806",
   "metadata": {},
   "outputs": [
    {
     "data": {
      "text/plain": [
       "'tihseran'"
      ]
     },
     "execution_count": 205,
     "metadata": {},
     "output_type": "execute_result"
    }
   ],
   "source": [
    "s4[::-1]"
   ]
  },
  {
   "cell_type": "code",
   "execution_count": 207,
   "id": "854e1158-b034-48a7-8c7b-fa3c47e1c700",
   "metadata": {},
   "outputs": [
    {
     "data": {
      "text/plain": [
       "'nareshit'"
      ]
     },
     "execution_count": 207,
     "metadata": {},
     "output_type": "execute_result"
    }
   ],
   "source": [
    "s4[::]"
   ]
  },
  {
   "cell_type": "code",
   "execution_count": 209,
   "id": "40cc198a-b8e0-4b5e-bd34-02cbe110fa56",
   "metadata": {},
   "outputs": [
    {
     "data": {
      "text/plain": [
       "'eshi'"
      ]
     },
     "execution_count": 209,
     "metadata": {},
     "output_type": "execute_result"
    }
   ],
   "source": [
    "s4[-5:-1]"
   ]
  },
  {
   "cell_type": "code",
   "execution_count": 211,
   "id": "12940732-171c-4f93-9de6-6951bc8e8ba8",
   "metadata": {},
   "outputs": [
    {
     "data": {
      "text/plain": [
       "'tihseran'"
      ]
     },
     "execution_count": 211,
     "metadata": {},
     "output_type": "execute_result"
    }
   ],
   "source": [
    "s4[::-1]"
   ]
  },
  {
   "cell_type": "code",
   "execution_count": 215,
   "id": "f50ab75e-5a5a-4c88-b304-d79c90428916",
   "metadata": {},
   "outputs": [
    {
     "data": {
      "text/plain": [
       "'nareshit'"
      ]
     },
     "execution_count": 215,
     "metadata": {},
     "output_type": "execute_result"
    }
   ],
   "source": [
    "s4[:]"
   ]
  },
  {
   "cell_type": "code",
   "execution_count": 217,
   "id": "528b2dc1-cb4f-4ab5-9242-37bbfc008e6b",
   "metadata": {},
   "outputs": [
    {
     "data": {
      "text/plain": [
       "'nar'"
      ]
     },
     "execution_count": 217,
     "metadata": {},
     "output_type": "execute_result"
    }
   ],
   "source": [
    "s4[:-5]"
   ]
  },
  {
   "cell_type": "code",
   "execution_count": 219,
   "id": "5e2fea9e-9e94-496d-88ca-b1685f524683",
   "metadata": {},
   "outputs": [
    {
     "data": {
      "text/plain": [
       "'tihs'"
      ]
     },
     "execution_count": 219,
     "metadata": {},
     "output_type": "execute_result"
    }
   ],
   "source": [
    "s4[:-5:-1]"
   ]
  },
  {
   "cell_type": "code",
   "execution_count": 221,
   "id": "867d1867-57e9-485b-8f14-f2c9f885c7ac",
   "metadata": {},
   "outputs": [
    {
     "data": {
      "text/plain": [
       "9"
      ]
     },
     "execution_count": 221,
     "metadata": {},
     "output_type": "execute_result"
    }
   ],
   "source": [
    "s10 = 'natesh it'\n",
    "len(s10)"
   ]
  },
  {
   "cell_type": "code",
   "execution_count": 8,
   "id": "c35f8e0f-d838-4fc4-9f4b-f0ca2278aa8e",
   "metadata": {},
   "outputs": [],
   "source": [
    "s = 'Ramakrishna Guru'"
   ]
  },
  {
   "cell_type": "code",
   "execution_count": 10,
   "id": "dbf85de1-d8d4-46b2-acac-1c82c244277f",
   "metadata": {},
   "outputs": [
    {
     "data": {
      "text/plain": [
       "'Ramakrishn'"
      ]
     },
     "execution_count": 10,
     "metadata": {},
     "output_type": "execute_result"
    }
   ],
   "source": [
    "s[0:10]"
   ]
  },
  {
   "cell_type": "code",
   "execution_count": 12,
   "id": "0973d87b-e0d7-415e-a8b0-d5089795cb0d",
   "metadata": {},
   "outputs": [
    {
     "data": {
      "text/plain": [
       "'Ramakrishna Guru'"
      ]
     },
     "execution_count": 12,
     "metadata": {},
     "output_type": "execute_result"
    }
   ],
   "source": [
    "s[0:]"
   ]
  },
  {
   "cell_type": "code",
   "execution_count": 14,
   "id": "097050fd-17b5-4507-814f-85a5eefcedd6",
   "metadata": {},
   "outputs": [
    {
     "data": {
      "text/plain": [
       "'Ramakrishn'"
      ]
     },
     "execution_count": 14,
     "metadata": {},
     "output_type": "execute_result"
    }
   ],
   "source": [
    "s[:10]"
   ]
  },
  {
   "cell_type": "code",
   "execution_count": 16,
   "id": "7bb71f39-e9f8-4684-8278-621e463c9192",
   "metadata": {},
   "outputs": [
    {
     "data": {
      "text/plain": [
       "''"
      ]
     },
     "execution_count": 16,
     "metadata": {},
     "output_type": "execute_result"
    }
   ],
   "source": [
    "s[-1:-10]"
   ]
  },
  {
   "cell_type": "code",
   "execution_count": 20,
   "id": "e11b379c-5a59-4816-becf-0737a2d72b70",
   "metadata": {},
   "outputs": [
    {
     "data": {
      "text/plain": [
       "'ishna Guru'"
      ]
     },
     "execution_count": 20,
     "metadata": {},
     "output_type": "execute_result"
    }
   ],
   "source": [
    "s[-10:]"
   ]
  },
  {
   "cell_type": "code",
   "execution_count": 22,
   "id": "d6e8a1d6-3dc9-45fc-969a-9ae7be2b6cbb",
   "metadata": {},
   "outputs": [
    {
     "data": {
      "text/plain": [
       "'ishna Gur'"
      ]
     },
     "execution_count": 22,
     "metadata": {},
     "output_type": "execute_result"
    }
   ],
   "source": [
    "s[-10:-1]"
   ]
  },
  {
   "cell_type": "code",
   "execution_count": 28,
   "id": "9c9de6c4-c268-4fa2-bf63-93b35596a11f",
   "metadata": {},
   "outputs": [
    {
     "data": {
      "text/plain": [
       "'Ramakrishna Guru'"
      ]
     },
     "execution_count": 28,
     "metadata": {},
     "output_type": "execute_result"
    }
   ],
   "source": [
    "s[-20:20]"
   ]
  },
  {
   "cell_type": "code",
   "execution_count": 30,
   "id": "8f03bfa0-d41f-4174-8f68-727c6fe69954",
   "metadata": {},
   "outputs": [
    {
     "data": {
      "text/plain": [
       "'Ram'"
      ]
     },
     "execution_count": 30,
     "metadata": {},
     "output_type": "execute_result"
    }
   ],
   "source": [
    "s[-20:3]"
   ]
  },
  {
   "cell_type": "code",
   "execution_count": 32,
   "id": "8eac4430-4ff1-4836-ad4c-a273ba8ca16e",
   "metadata": {},
   "outputs": [
    {
     "data": {
      "text/plain": [
       "'ishna Guru'"
      ]
     },
     "execution_count": 32,
     "metadata": {},
     "output_type": "execute_result"
    }
   ],
   "source": [
    "s[-10:20]"
   ]
  },
  {
   "cell_type": "code",
   "execution_count": 34,
   "id": "898bc566-e27a-4ea4-9f6e-7f7cb7d8ac2b",
   "metadata": {},
   "outputs": [
    {
     "data": {
      "text/plain": [
       "'uruG anhsirkamaR'"
      ]
     },
     "execution_count": 34,
     "metadata": {},
     "output_type": "execute_result"
    }
   ],
   "source": [
    "s[::-1]"
   ]
  },
  {
   "cell_type": "code",
   "execution_count": 40,
   "id": "3388a696-fe47-4c15-a969-a4b1f98d66a0",
   "metadata": {},
   "outputs": [
    {
     "data": {
      "text/plain": [
       "''"
      ]
     },
     "execution_count": 40,
     "metadata": {},
     "output_type": "execute_result"
    }
   ],
   "source": [
    "s[0:20:-1]"
   ]
  },
  {
   "cell_type": "code",
   "execution_count": 42,
   "id": "78b4e92c-8c18-4a0e-9cc3-9db1c302fc85",
   "metadata": {},
   "outputs": [
    {
     "data": {
      "text/plain": [
       "'uruG anhsirkama'"
      ]
     },
     "execution_count": 42,
     "metadata": {},
     "output_type": "execute_result"
    }
   ],
   "source": [
    "s[20:0:-1]"
   ]
  },
  {
   "cell_type": "code",
   "execution_count": 44,
   "id": "fbfdd822-c046-49ea-8ab7-7851ebb0a9f9",
   "metadata": {},
   "outputs": [
    {
     "data": {
      "text/plain": [
       "'ruG anhsirkama'"
      ]
     },
     "execution_count": 44,
     "metadata": {},
     "output_type": "execute_result"
    }
   ],
   "source": [
    "s[14:0:-1]"
   ]
  },
  {
   "cell_type": "code",
   "execution_count": 46,
   "id": "9a0b42d7-ac48-4aee-a363-7b3f1bdf7daa",
   "metadata": {},
   "outputs": [
    {
     "data": {
      "text/plain": [
       "'uruG anhsi'"
      ]
     },
     "execution_count": 46,
     "metadata": {},
     "output_type": "execute_result"
    }
   ],
   "source": [
    "s[:5:-1]"
   ]
  },
  {
   "cell_type": "code",
   "execution_count": 48,
   "id": "02debf81-b87d-40a0-9c60-c9101383b105",
   "metadata": {},
   "outputs": [
    {
     "data": {
      "text/plain": [
       "16"
      ]
     },
     "execution_count": 48,
     "metadata": {},
     "output_type": "execute_result"
    }
   ],
   "source": [
    "len(s)"
   ]
  },
  {
   "cell_type": "code",
   "execution_count": 56,
   "id": "4bdf2cd2-61b9-4aba-aa5f-fde0ea227550",
   "metadata": {},
   "outputs": [
    {
     "data": {
      "text/plain": [
       "'Ramakrishna Guru'"
      ]
     },
     "execution_count": 56,
     "metadata": {},
     "output_type": "execute_result"
    }
   ],
   "source": [
    "s[0:16]"
   ]
  },
  {
   "cell_type": "code",
   "execution_count": 58,
   "id": "dc208b95-bf1c-41ce-bcf9-22883177f24c",
   "metadata": {},
   "outputs": [
    {
     "data": {
      "text/plain": [
       "'Ramakrishna Guru'"
      ]
     },
     "execution_count": 58,
     "metadata": {},
     "output_type": "execute_result"
    }
   ],
   "source": [
    "s[-17:]"
   ]
  },
  {
   "cell_type": "code",
   "execution_count": 70,
   "id": "58040548-3a10-4ba6-8305-036296ca0823",
   "metadata": {},
   "outputs": [
    {
     "data": {
      "text/plain": [
       "'uruG anhsirkama'"
      ]
     },
     "execution_count": 70,
     "metadata": {},
     "output_type": "execute_result"
    }
   ],
   "source": [
    "s[15:0:-1]"
   ]
  },
  {
   "cell_type": "code",
   "execution_count": 72,
   "id": "ee1cbe1e-b1f8-4a7c-912a-0a997f59d1e5",
   "metadata": {},
   "outputs": [
    {
     "data": {
      "text/plain": [
       "''"
      ]
     },
     "execution_count": 72,
     "metadata": {},
     "output_type": "execute_result"
    }
   ],
   "source": [
    "s[15:0]"
   ]
  },
  {
   "cell_type": "code",
   "execution_count": 74,
   "id": "4567ddf6-c669-46b8-98fc-4d5b2fbca912",
   "metadata": {},
   "outputs": [
    {
     "data": {
      "text/plain": [
       "'uu nsraa'"
      ]
     },
     "execution_count": 74,
     "metadata": {},
     "output_type": "execute_result"
    }
   ],
   "source": [
    "s[15:0:-2]"
   ]
  },
  {
   "cell_type": "code",
   "execution_count": 76,
   "id": "d8d1c88b-e2b3-4caa-8fbe-1c73d6035901",
   "metadata": {},
   "outputs": [
    {
     "data": {
      "text/plain": [
       "'uGnia'"
      ]
     },
     "execution_count": 76,
     "metadata": {},
     "output_type": "execute_result"
    }
   ],
   "source": [
    "s[15:0:-3]"
   ]
  },
  {
   "cell_type": "code",
   "execution_count": 78,
   "id": "5b6f7d47-0c1e-4c08-bb0b-3e59908ab00b",
   "metadata": {},
   "outputs": [
    {
     "data": {
      "text/plain": [
       "'uruG anhsirkamaR'"
      ]
     },
     "execution_count": 78,
     "metadata": {},
     "output_type": "execute_result"
    }
   ],
   "source": [
    "s[::-1]"
   ]
  },
  {
   "cell_type": "code",
   "execution_count": 80,
   "id": "b2cf9510-19f9-4835-a665-7d5a0c2df098",
   "metadata": {},
   "outputs": [
    {
     "data": {
      "text/plain": [
       "''"
      ]
     },
     "execution_count": 80,
     "metadata": {},
     "output_type": "execute_result"
    }
   ],
   "source": [
    "s[16:0:1]"
   ]
  },
  {
   "cell_type": "code",
   "execution_count": 82,
   "id": "1fe6dbe7-8277-4708-9fa7-e9d3570218f8",
   "metadata": {},
   "outputs": [
    {
     "data": {
      "text/plain": [
       "''"
      ]
     },
     "execution_count": 82,
     "metadata": {},
     "output_type": "execute_result"
    }
   ],
   "source": [
    "s[-1:-16:1]"
   ]
  },
  {
   "cell_type": "code",
   "execution_count": 84,
   "id": "bed0b01a-441b-49b1-9fc1-a26604a892da",
   "metadata": {},
   "outputs": [
    {
     "data": {
      "text/plain": [
       "'uruG anhsirkama'"
      ]
     },
     "execution_count": 84,
     "metadata": {},
     "output_type": "execute_result"
    }
   ],
   "source": [
    "s[16:0:-1]"
   ]
  },
  {
   "cell_type": "markdown",
   "id": "c6c983af-37f0-4449-a5dc-c6854cf8bd71",
   "metadata": {},
   "source": [
    "# Complex numbers"
   ]
  },
  {
   "cell_type": "code",
   "execution_count": 99,
   "id": "34fecb3a-6bbf-462f-9909-941552da2d5a",
   "metadata": {},
   "outputs": [],
   "source": [
    "comp = 1+2j"
   ]
  },
  {
   "cell_type": "code",
   "execution_count": 101,
   "id": "5686a106-c360-4509-8a15-4a7b439a1aff",
   "metadata": {},
   "outputs": [
    {
     "data": {
      "text/plain": [
       "1.0"
      ]
     },
     "execution_count": 101,
     "metadata": {},
     "output_type": "execute_result"
    }
   ],
   "source": [
    "comp.real"
   ]
  },
  {
   "cell_type": "code",
   "execution_count": 103,
   "id": "ed52d595-82e3-49b0-8915-bb9012c03846",
   "metadata": {},
   "outputs": [
    {
     "data": {
      "text/plain": [
       "2.0"
      ]
     },
     "execution_count": 103,
     "metadata": {},
     "output_type": "execute_result"
    }
   ],
   "source": [
    "comp.imag"
   ]
  },
  {
   "cell_type": "code",
   "execution_count": 105,
   "id": "4e104fd9-f925-4e76-b841-1f3ffefca3ca",
   "metadata": {},
   "outputs": [],
   "source": [
    "import cmath"
   ]
  },
  {
   "cell_type": "code",
   "execution_count": 113,
   "id": "7e8231af-1896-41de-8e05-acce98a8222a",
   "metadata": {},
   "outputs": [
    {
     "name": "stdout",
     "output_type": "stream",
     "text": [
      "2.23606797749979\n"
     ]
    }
   ],
   "source": [
    "print(abs(comp))  # (1**2 +2**2)**0.5"
   ]
  },
  {
   "cell_type": "code",
   "execution_count": 129,
   "id": "f3cfbfeb-2bda-4ec3-ba7c-2f1fca5c0bba",
   "metadata": {},
   "outputs": [
    {
     "name": "stdout",
     "output_type": "stream",
     "text": [
      "(1-2j)\n"
     ]
    }
   ],
   "source": [
    "print(comp.conjugate())"
   ]
  },
  {
   "cell_type": "code",
   "execution_count": 133,
   "id": "e403a120-0a0c-40a8-abe5-c31f1284fa3d",
   "metadata": {},
   "outputs": [
    {
     "data": {
      "text/plain": [
       "1.1071487177940904"
      ]
     },
     "execution_count": 133,
     "metadata": {},
     "output_type": "execute_result"
    }
   ],
   "source": [
    "cmath.phase(comp) # getting the phase of a complex number"
   ]
  },
  {
   "cell_type": "code",
   "execution_count": 137,
   "id": "f22bfbf1-3007-4bec-bbe7-14f157ea7405",
   "metadata": {},
   "outputs": [
    {
     "data": {
      "text/plain": [
       "(2.23606797749979, 1.1071487177940904)"
      ]
     },
     "execution_count": 137,
     "metadata": {},
     "output_type": "execute_result"
    }
   ],
   "source": [
    "cmath.polar(comp)  # get the polar form of the complex number (magnitude, angle)"
   ]
  },
  {
   "cell_type": "code",
   "execution_count": 139,
   "id": "8aab3a90-75f8-4b3c-9c3f-0666022b0bbd",
   "metadata": {},
   "outputs": [
    {
     "data": {
      "text/plain": [
       "(1.272019649514069+0.7861513777574233j)"
      ]
     },
     "execution_count": 139,
     "metadata": {},
     "output_type": "execute_result"
    }
   ],
   "source": [
    "cmath.sqrt(comp)  # get the squareroot of a complex number"
   ]
  },
  {
   "cell_type": "markdown",
   "id": "418d7e7b-e0ca-46be-bd4f-5c3ca38cc4ff",
   "metadata": {},
   "source": [
    "# check the type of variable"
   ]
  },
  {
   "cell_type": "code",
   "execution_count": 158,
   "id": "081e9c55-d037-4b25-8d37-bf3f3cd0cdd6",
   "metadata": {},
   "outputs": [
    {
     "data": {
      "text/plain": [
       "complex"
      ]
     },
     "execution_count": 158,
     "metadata": {},
     "output_type": "execute_result"
    }
   ],
   "source": [
    "type(comp)"
   ]
  },
  {
   "cell_type": "code",
   "execution_count": 156,
   "id": "a05dbe87-8125-4f63-8ab0-3c0d97c90442",
   "metadata": {},
   "outputs": [
    {
     "data": {
      "text/plain": [
       "False"
      ]
     },
     "execution_count": 156,
     "metadata": {},
     "output_type": "execute_result"
    }
   ],
   "source": [
    "type(comp) == 'complex'"
   ]
  },
  {
   "cell_type": "code",
   "execution_count": 145,
   "id": "5917f9ff-a509-4da7-b08b-86431b46f85c",
   "metadata": {},
   "outputs": [
    {
     "data": {
      "text/plain": [
       "True"
      ]
     },
     "execution_count": 145,
     "metadata": {},
     "output_type": "execute_result"
    }
   ],
   "source": [
    "isinstance(comp,complex)"
   ]
  },
  {
   "cell_type": "code",
   "execution_count": 147,
   "id": "365e02de-7350-4e9a-9358-da2d6d8f3c3b",
   "metadata": {},
   "outputs": [
    {
     "ename": "AttributeError",
     "evalue": "'complex' object has no attribute 'type'",
     "output_type": "error",
     "traceback": [
      "\u001b[1;31m---------------------------------------------------------------------------\u001b[0m",
      "\u001b[1;31mAttributeError\u001b[0m                            Traceback (most recent call last)",
      "Cell \u001b[1;32mIn[147], line 1\u001b[0m\n\u001b[1;32m----> 1\u001b[0m \u001b[43mcomp\u001b[49m\u001b[38;5;241;43m.\u001b[39;49m\u001b[43mtype\u001b[49m()\u001b[38;5;241m==\u001b[39m\u001b[38;5;124m'\u001b[39m\u001b[38;5;124mcomplex\u001b[39m\u001b[38;5;124m'\u001b[39m\n",
      "\u001b[1;31mAttributeError\u001b[0m: 'complex' object has no attribute 'type'"
     ]
    }
   ],
   "source": [
    "comp.type()=='complex'"
   ]
  },
  {
   "cell_type": "code",
   "execution_count": 154,
   "id": "43a36e42-813e-456f-8f03-b39d35e87362",
   "metadata": {},
   "outputs": [
    {
     "ename": "AttributeError",
     "evalue": "'complex' object has no attribute 'iscomplex'",
     "output_type": "error",
     "traceback": [
      "\u001b[1;31m---------------------------------------------------------------------------\u001b[0m",
      "\u001b[1;31mAttributeError\u001b[0m                            Traceback (most recent call last)",
      "Cell \u001b[1;32mIn[154], line 1\u001b[0m\n\u001b[1;32m----> 1\u001b[0m \u001b[43mcomp\u001b[49m\u001b[38;5;241;43m.\u001b[39;49m\u001b[43miscomplex\u001b[49m()\n",
      "\u001b[1;31mAttributeError\u001b[0m: 'complex' object has no attribute 'iscomplex'"
     ]
    }
   ],
   "source": [
    "comp.iscomplex()"
   ]
  },
  {
   "cell_type": "code",
   "execution_count": 160,
   "id": "ecc3c0af-bb75-40f2-af85-10443d598c1b",
   "metadata": {},
   "outputs": [
    {
     "data": {
      "text/plain": [
       "50"
      ]
     },
     "execution_count": 160,
     "metadata": {},
     "output_type": "execute_result"
    }
   ],
   "source": [
    "lst = [20,30,50,30]\n",
    "max(lst)"
   ]
  },
  {
   "cell_type": "code",
   "execution_count": 162,
   "id": "21e676c3-2d16-4942-a9dc-ebf959236558",
   "metadata": {},
   "outputs": [
    {
     "data": {
      "text/plain": [
       "60"
      ]
     },
     "execution_count": 162,
     "metadata": {},
     "output_type": "execute_result"
    }
   ],
   "source": [
    "max(50,60)"
   ]
  },
  {
   "cell_type": "code",
   "execution_count": 197,
   "id": "d5f3e883-75b8-4af3-8486-4e163e165d58",
   "metadata": {},
   "outputs": [
    {
     "data": {
      "text/plain": [
       "'HARISH'"
      ]
     },
     "execution_count": 197,
     "metadata": {},
     "output_type": "execute_result"
    }
   ],
   "source": [
    "str1 = ['H','A','R','I','S','H']\n",
    "\"\".join(str1)"
   ]
  },
  {
   "cell_type": "code",
   "execution_count": 199,
   "id": "7e549803-b043-461f-a1b1-deddb9dcaa50",
   "metadata": {},
   "outputs": [
    {
     "data": {
      "text/plain": [
       "complex"
      ]
     },
     "execution_count": 199,
     "metadata": {},
     "output_type": "execute_result"
    }
   ],
   "source": [
    "num = 4+0j\n",
    "type(num)"
   ]
  },
  {
   "cell_type": "code",
   "execution_count": 211,
   "id": "ad35b7dc-bfee-4083-8927-c1d8acb14fc6",
   "metadata": {},
   "outputs": [
    {
     "ename": "TypeError",
     "evalue": "'list' object is not callable",
     "output_type": "error",
     "traceback": [
      "\u001b[1;31m---------------------------------------------------------------------------\u001b[0m",
      "\u001b[1;31mTypeError\u001b[0m                                 Traceback (most recent call last)",
      "Cell \u001b[1;32mIn[211], line 1\u001b[0m\n\u001b[1;32m----> 1\u001b[0m \u001b[38;5;28;43mstr\u001b[39;49m\u001b[43m(\u001b[49m\u001b[38;5;241;43m10\u001b[39;49m\u001b[43m)\u001b[49m\n",
      "\u001b[1;31mTypeError\u001b[0m: 'list' object is not callable"
     ]
    }
   ],
   "source": [
    "str(10)"
   ]
  },
  {
   "cell_type": "code",
   "execution_count": 2,
   "id": "4a4cc3ed-6ada-4aad-ab67-530c7ff3fb57",
   "metadata": {},
   "outputs": [
    {
     "data": {
      "text/plain": [
       "7.0"
      ]
     },
     "execution_count": 2,
     "metadata": {},
     "output_type": "execute_result"
    }
   ],
   "source": [
    "5 + 3 * 2 / 2 - (4 % 3) ** 2"
   ]
  },
  {
   "cell_type": "code",
   "execution_count": 8,
   "id": "285931aa-bbaf-46e1-b04e-dc4b55d1a110",
   "metadata": {},
   "outputs": [
    {
     "name": "stdout",
     "output_type": "stream",
     "text": [
      "a == b: True\n",
      "a is b: True\n"
     ]
    }
   ],
   "source": [
    "a=5\n",
    "b=5\n",
    "print('a == b:', a == b)\n",
    "print('a is b:', a is b)"
   ]
  },
  {
   "cell_type": "code",
   "execution_count": 10,
   "id": "99161c5c-2177-4d05-8209-a7918fbdc237",
   "metadata": {},
   "outputs": [
    {
     "name": "stdout",
     "output_type": "stream",
     "text": [
      "c == d: True\n",
      "c is d: False\n"
     ]
    }
   ],
   "source": [
    "c=5.0\n",
    "d=5.0\n",
    "print('c == d:', c == d)\n",
    "print('c is d:', c is d)"
   ]
  },
  {
   "cell_type": "code",
   "execution_count": 12,
   "id": "3a2e2852-2613-4af0-b192-1d84934cdeb2",
   "metadata": {},
   "outputs": [
    {
     "name": "stdout",
     "output_type": "stream",
     "text": [
      "e == f: True\n",
      "e is f: True\n"
     ]
    }
   ],
   "source": [
    "e= 'abc'\n",
    "f= 'abc'\n",
    "print('e == f:', e == f)\n",
    "print('e is f:', e is f)"
   ]
  },
  {
   "cell_type": "code",
   "execution_count": 14,
   "id": "4b9d6062-ab88-4211-a3f7-67005e05c860",
   "metadata": {},
   "outputs": [
    {
     "name": "stdout",
     "output_type": "stream",
     "text": [
      "g == h: True\n",
      "g is h: False\n"
     ]
    }
   ],
   "source": [
    "g= [1,2,3]\n",
    "h= [1,2,3]\n",
    "print('g == h:', g == h)\n",
    "print('g is h:', g is h)"
   ]
  },
  {
   "cell_type": "code",
   "execution_count": 16,
   "id": "b27ab725-71a0-4662-8455-9bd2f275c1fb",
   "metadata": {},
   "outputs": [
    {
     "name": "stdout",
     "output_type": "stream",
     "text": [
      "x is y: True\n"
     ]
    }
   ],
   "source": [
    "x=5 # Python interns small integers (typically -5 to 256)\n",
    "y=5\n",
    "print('x is y:', x is y)"
   ]
  },
  {
   "cell_type": "code",
   "execution_count": 18,
   "id": "ad32f1d7-60c4-4f03-abcf-74739b2fa15d",
   "metadata": {},
   "outputs": [
    {
     "data": {
      "text/plain": [
       "True"
      ]
     },
     "execution_count": 18,
     "metadata": {},
     "output_type": "execute_result"
    }
   ],
   "source": [
    "x is y and a is b"
   ]
  },
  {
   "cell_type": "code",
   "execution_count": 20,
   "id": "acfe3245-1a91-41f3-b2c7-078797661abf",
   "metadata": {},
   "outputs": [],
   "source": [
    "y = 6"
   ]
  },
  {
   "cell_type": "code",
   "execution_count": 22,
   "id": "a1e5d1f7-d49b-4f0c-8afc-3c58982e1542",
   "metadata": {},
   "outputs": [
    {
     "data": {
      "text/plain": [
       "True"
      ]
     },
     "execution_count": 22,
     "metadata": {},
     "output_type": "execute_result"
    }
   ],
   "source": [
    "x is b is a"
   ]
  },
  {
   "cell_type": "code",
   "execution_count": 24,
   "id": "1a82affd-26e2-4b3b-a3d7-8c1ae77aded7",
   "metadata": {},
   "outputs": [
    {
     "data": {
      "text/plain": [
       "False"
      ]
     },
     "execution_count": 24,
     "metadata": {},
     "output_type": "execute_result"
    }
   ],
   "source": [
    "x is y"
   ]
  },
  {
   "cell_type": "code",
   "execution_count": 26,
   "id": "c65b76fb-cd63-4db5-a1ee-8b121150a1e2",
   "metadata": {},
   "outputs": [
    {
     "data": {
      "text/plain": [
       "False"
      ]
     },
     "execution_count": 26,
     "metadata": {},
     "output_type": "execute_result"
    }
   ],
   "source": [
    "a1 = 500 # Python interns small integers (typically -5 to 256)\n",
    "a2 = 500\n",
    "a1 is a2"
   ]
  },
  {
   "cell_type": "code",
   "execution_count": 28,
   "id": "b976d34c-fd66-4016-96c9-ef51ac0d406c",
   "metadata": {},
   "outputs": [
    {
     "data": {
      "text/plain": [
       "True"
      ]
     },
     "execution_count": 28,
     "metadata": {},
     "output_type": "execute_result"
    }
   ],
   "source": [
    "s1 = 'awesdrtfgyhujikaqwesdrtfgvybhu'\n",
    "s2 = 'awesdrtfgyhujikaqwesdrtfgvybhu'\n",
    "s1 is s2"
   ]
  },
  {
   "cell_type": "code",
   "execution_count": 30,
   "id": "e97cde47-f991-43b3-a193-afe2305706d2",
   "metadata": {},
   "outputs": [
    {
     "data": {
      "text/plain": [
       "False"
      ]
     },
     "execution_count": 30,
     "metadata": {},
     "output_type": "execute_result"
    }
   ],
   "source": [
    "s3 = 'k987y654322q3w4e5drtfgyhu-[;.,./A'\n",
    "s4 = 'k987y654322q3w4e5drtfgyhu-[;.,./A'\n",
    "s3 is s4"
   ]
  },
  {
   "cell_type": "code",
   "execution_count": 32,
   "id": "1c0cac37-e917-4f22-be69-91a598ff44a9",
   "metadata": {},
   "outputs": [
    {
     "data": {
      "text/plain": [
       "True"
      ]
     },
     "execution_count": 32,
     "metadata": {},
     "output_type": "execute_result"
    }
   ],
   "source": [
    "s5 = 'HdIvRuF'\n",
    "s6 = 'HdIvRuF'\n",
    "s5 is s6"
   ]
  },
  {
   "cell_type": "code",
   "execution_count": 34,
   "id": "c12c8e87-6346-47a1-81ad-be62b7ace6bf",
   "metadata": {},
   "outputs": [
    {
     "data": {
      "text/plain": [
       "False"
      ]
     },
     "execution_count": 34,
     "metadata": {},
     "output_type": "execute_result"
    }
   ],
   "source": [
    "s7 = 'JHGWSEDRFTGYHUkjhgfdsdfgthJHYGTFRDESDRFTGYHUJijuhygtfrdefrgth mytrrftgyhuJIHUYGTFRTGYHmkjhgfgh FDFGH FGVHJKbvbhj FGHJHbhj'\n",
    "s8 = 'JHGWSEDRFTGYHUkjhgfdsdfgthJHYGTFRDESDRFTGYHUJijuhygtfrdefrgth mytrrftgyhuJIHUYGTFRTGYHmkjhgfgh FDFGH FGVHJKbvbhj FGHJHbhj'\n",
    "s7 is s8"
   ]
  },
  {
   "cell_type": "code",
   "execution_count": 59,
   "id": "3a26f72c-a5fe-492d-aaad-eb06ffb2e96e",
   "metadata": {},
   "outputs": [
    {
     "data": {
      "text/plain": [
       "True"
      ]
     },
     "execution_count": 59,
     "metadata": {},
     "output_type": "execute_result"
    }
   ],
   "source": [
    "s9 = '''qwaesrdtfgyuhijokplmnjbhvwssdrxctfgvybhuinjkmozewsrxdctfgvybhunjikmxrdctfgvybhnjexdrctvybunimonbvcxzsxdcfvgtttttttttaabbccddeeffgghhiijjkkllmmnnooppqqrrssttuuvvwwxxyyzzawsedrftgy'''\n",
    "s10 = '''qwaesrdtfgyuhijokplmnjbhvwssdrxctfgvybhuinjkmozewsrxdctfgvybhunjikmxrdctfgvybhnjexdrctvybunimonbvcxzsxdcfvgtttttttttaabbccddeeffgghhiijjkkllmmnnooppqqrrssttuuvvwwxxyyzzawsedrftgy'''\n",
    "s9 is s10"
   ]
  },
  {
   "cell_type": "code",
   "execution_count": null,
   "id": "9caff4d1-8a36-43a1-80c2-590b640c9b4f",
   "metadata": {},
   "outputs": [],
   "source": []
  }
 ],
 "metadata": {
  "kernelspec": {
   "display_name": "Python 3 (ipykernel)",
   "language": "python",
   "name": "python3"
  },
  "language_info": {
   "codemirror_mode": {
    "name": "ipython",
    "version": 3
   },
   "file_extension": ".py",
   "mimetype": "text/x-python",
   "name": "python",
   "nbconvert_exporter": "python",
   "pygments_lexer": "ipython3",
   "version": "3.12.4"
  }
 },
 "nbformat": 4,
 "nbformat_minor": 5
}
