{
 "cells": [
  {
   "cell_type": "code",
   "execution_count": 1,
   "id": "7c638aa0-bff8-4ca8-a3cc-7a71685db9d1",
   "metadata": {},
   "outputs": [
    {
     "data": {
      "text/plain": [
       "20"
      ]
     },
     "execution_count": 1,
     "metadata": {},
     "output_type": "execute_result"
    }
   ],
   "source": [
    "a = 10\n",
    "b = 20\n",
    "a\n",
    "b"
   ]
  },
  {
   "cell_type": "code",
   "execution_count": 247,
   "id": "c1c13852-6033-4f61-a159-93e0cda29972",
   "metadata": {},
   "outputs": [
    {
     "name": "stdout",
     "output_type": "stream",
     "text": [
      "10 20\n"
     ]
    }
   ],
   "source": [
    "print(a,b)"
   ]
  },
  {
   "cell_type": "code",
   "execution_count": 3,
   "id": "1004da5b-0679-4aa7-bd5f-a5d17ace213c",
   "metadata": {},
   "outputs": [
    {
     "name": "stdout",
     "output_type": "stream",
     "text": [
      "10\n",
      "20\n"
     ]
    }
   ],
   "source": [
    "print(a)\n",
    "print(b)"
   ]
  },
  {
   "cell_type": "code",
   "execution_count": 5,
   "id": "394a42b5-2f49-44db-abf1-dc79b0b09a15",
   "metadata": {},
   "outputs": [
    {
     "name": "stdout",
     "output_type": "stream",
     "text": [
      "10\n",
      "10 20\n",
      "Hello\n",
      "hello ram\n"
     ]
    }
   ],
   "source": [
    "print(10)\n",
    "print(10,20)\n",
    "print('Hello')\n",
    "print('hello','ram')"
   ]
  },
  {
   "cell_type": "code",
   "execution_count": 7,
   "id": "b7f86e61-0ff2-4f72-9bc7-0a4594dbe4d2",
   "metadata": {},
   "outputs": [
    {
     "data": {
      "text/plain": [
       "27"
      ]
     },
     "execution_count": 7,
     "metadata": {},
     "output_type": "execute_result"
    }
   ],
   "source": [
    "num1 = 5\n",
    "num2 = 22\n",
    "add = num1 + num2\n",
    "add"
   ]
  },
  {
   "cell_type": "code",
   "execution_count": 17,
   "id": "4cd64dbe-ae33-4d8c-a502-2b32395044bf",
   "metadata": {},
   "outputs": [
    {
     "name": "stdout",
     "output_type": "stream",
     "text": [
      "The addition of 5 and 22 is = 27\n"
     ]
    }
   ],
   "source": [
    "print('The addition of',num1,'and',num2,'is =',add)"
   ]
  },
  {
   "cell_type": "code",
   "execution_count": 35,
   "id": "3b2ed87c-0ea9-42c4-9533-60ddb4f3eafe",
   "metadata": {},
   "outputs": [
    {
     "name": "stdout",
     "output_type": "stream",
     "text": [
      "My name is Harish and I am 27 years old, weigh 170llb from Hyderabad\n"
     ]
    }
   ],
   "source": [
    "name = 'Harish'\n",
    "age = 27\n",
    "city = 'Hyderabad'\n",
    "weight = '170llb'\n",
    "print('My name is',name,'and I am',age,'years old, weigh',weight,'from',city)"
   ]
  },
  {
   "cell_type": "markdown",
   "id": "f51ef5fe-f2ab-4736-b110-5ac295fd060e",
   "metadata": {},
   "source": [
    "# Format method"
   ]
  },
  {
   "cell_type": "code",
   "execution_count": 42,
   "id": "93488f58-5f5f-4fbb-89c3-8b7edd15c613",
   "metadata": {},
   "outputs": [
    {
     "name": "stdout",
     "output_type": "stream",
     "text": [
      "The addition of 20 and 40 is = 60\n"
     ]
    }
   ],
   "source": [
    "num1 =20\n",
    "num2 = 40\n",
    "add = num1 + num2 \n",
    "print('The addition of {} and {} is = {}'.format(num1, num2, add))"
   ]
  },
  {
   "cell_type": "code",
   "execution_count": 44,
   "id": "52be0aa8-ee40-4872-8cb5-4da95f04fba1",
   "metadata": {},
   "outputs": [
    {
     "name": "stdout",
     "output_type": "stream",
     "text": [
      "The addition of 40 and 40 is = 60\n"
     ]
    }
   ],
   "source": [
    "num1 =20\n",
    "num2 = 40\n",
    "add = num1 + num2 \n",
    "print('The addition of {} and {} is = {}'.format(num2, num2, add))"
   ]
  },
  {
   "cell_type": "code",
   "execution_count": 46,
   "id": "1420d6ae-890d-414c-9020-7ad017819e7a",
   "metadata": {},
   "outputs": [
    {
     "name": "stdout",
     "output_type": "stream",
     "text": [
      "Hello, my name is Python, and i am 20years old from hyd\n"
     ]
    }
   ],
   "source": [
    "name='Python'\n",
    "age=20\n",
    "city='hyd'\n",
    "print('Hello, my name is {}, and i am {}years old from {}'.format(name,age,city))"
   ]
  },
  {
   "cell_type": "code",
   "execution_count": 48,
   "id": "4be74bd4-50f1-4757-940f-e491ce9127dc",
   "metadata": {},
   "outputs": [
    {
     "name": "stdout",
     "output_type": "stream",
     "text": [
      "The average of 45,67 and 55 is = 55.67\n"
     ]
    }
   ],
   "source": [
    "num1 = 45\n",
    "num2 = 67\n",
    "num3 = 55\n",
    "avg = round((num1 + num2 + num3)/3,2)\n",
    "print('The average of {},{} and {} is = {}'.format(num1,num2,num3,avg))"
   ]
  },
  {
   "cell_type": "code",
   "execution_count": 84,
   "id": "c99adcd0-5d7f-46e8-bedd-ad73a5d9ff2c",
   "metadata": {},
   "outputs": [
    {
     "data": {
      "text/plain": [
       "56.79"
      ]
     },
     "execution_count": 84,
     "metadata": {},
     "output_type": "execute_result"
    }
   ],
   "source": [
    "round(56.7890,2)"
   ]
  },
  {
   "cell_type": "code",
   "execution_count": 86,
   "id": "dc661d7c-46ad-41ac-b3c2-e2ac4f1d0265",
   "metadata": {},
   "outputs": [
    {
     "data": {
      "text/plain": [
       "56.8"
      ]
     },
     "execution_count": 86,
     "metadata": {},
     "output_type": "execute_result"
    }
   ],
   "source": [
    "round(56.7890,1)"
   ]
  },
  {
   "cell_type": "code",
   "execution_count": 88,
   "id": "a36c5f46-0aea-49ec-b5da-074809724cfc",
   "metadata": {},
   "outputs": [
    {
     "data": {
      "text/plain": [
       "57.0"
      ]
     },
     "execution_count": 88,
     "metadata": {},
     "output_type": "execute_result"
    }
   ],
   "source": [
    "round(56.7890,0)"
   ]
  },
  {
   "cell_type": "code",
   "execution_count": 90,
   "id": "571845a1-b3bd-4f7f-b6f7-9c643502fc72",
   "metadata": {},
   "outputs": [
    {
     "data": {
      "text/plain": [
       "60.0"
      ]
     },
     "execution_count": 90,
     "metadata": {},
     "output_type": "execute_result"
    }
   ],
   "source": [
    "round(56.7890,-1)"
   ]
  },
  {
   "cell_type": "code",
   "execution_count": 110,
   "id": "802f1897-36f4-4817-8525-7304ad0800c1",
   "metadata": {},
   "outputs": [
    {
     "data": {
      "text/plain": [
       "100.0"
      ]
     },
     "execution_count": 110,
     "metadata": {},
     "output_type": "execute_result"
    }
   ],
   "source": [
    "round(56.7890, -2)"
   ]
  },
  {
   "cell_type": "code",
   "execution_count": 98,
   "id": "062c23ee-7eda-4030-9a95-2ab125684544",
   "metadata": {},
   "outputs": [
    {
     "data": {
      "text/plain": [
       "100.0"
      ]
     },
     "execution_count": 98,
     "metadata": {},
     "output_type": "execute_result"
    }
   ],
   "source": [
    "round(50.7890,-2)"
   ]
  },
  {
   "cell_type": "code",
   "execution_count": 104,
   "id": "c3ed579e-8c00-4e0c-827a-7617ffc89e0f",
   "metadata": {},
   "outputs": [
    {
     "data": {
      "text/plain": [
       "0.0"
      ]
     },
     "execution_count": 104,
     "metadata": {},
     "output_type": "execute_result"
    }
   ],
   "source": [
    "round(50.0000,-2)"
   ]
  },
  {
   "cell_type": "code",
   "execution_count": 106,
   "id": "ff335594-c90a-4e01-afd6-41526c135e44",
   "metadata": {},
   "outputs": [
    {
     "data": {
      "text/plain": [
       "100.0"
      ]
     },
     "execution_count": 106,
     "metadata": {},
     "output_type": "execute_result"
    }
   ],
   "source": [
    "round(50.7890,-2)"
   ]
  },
  {
   "cell_type": "code",
   "execution_count": 108,
   "id": "c3490bbb-85aa-45a4-b4b1-7e6c033bffc9",
   "metadata": {},
   "outputs": [
    {
     "data": {
      "text/plain": [
       "100.0"
      ]
     },
     "execution_count": 108,
     "metadata": {},
     "output_type": "execute_result"
    }
   ],
   "source": [
    "round(50.0090,-2)"
   ]
  },
  {
   "cell_type": "code",
   "execution_count": 112,
   "id": "04cdf27f-ff3c-46c3-be23-372948252fa1",
   "metadata": {},
   "outputs": [
    {
     "data": {
      "text/plain": [
       "0.0"
      ]
     },
     "execution_count": 112,
     "metadata": {},
     "output_type": "execute_result"
    }
   ],
   "source": [
    "round(50.0090,-3)"
   ]
  },
  {
   "cell_type": "markdown",
   "id": "f12b592a-28d9-4e85-9611-517a3f43d32f",
   "metadata": {},
   "source": [
    "# f string method"
   ]
  },
  {
   "cell_type": "code",
   "execution_count": 119,
   "id": "8c1d7afe-1149-4291-886c-086a562d4bf7",
   "metadata": {},
   "outputs": [
    {
     "name": "stdout",
     "output_type": "stream",
     "text": [
      "The addition of 20 and 40 is = 60\n"
     ]
    }
   ],
   "source": [
    "num1 =20\n",
    "num2 = 40\n",
    "add = num1 + num2 \n",
    "print(f'The addition of {num1} and {num2} is = {add}')"
   ]
  },
  {
   "cell_type": "code",
   "execution_count": 121,
   "id": "66c16e17-f623-444b-92e6-a8b35624e2dc",
   "metadata": {},
   "outputs": [
    {
     "name": "stdout",
     "output_type": "stream",
     "text": [
      "Hello, my name is Python, and i am 20years old from hyd\n"
     ]
    }
   ],
   "source": [
    "name='Python'\n",
    "age=20\n",
    "city='hyd'\n",
    "print(f'Hello, my name is {name}, and i am {age}years old from {city}')"
   ]
  },
  {
   "cell_type": "code",
   "execution_count": 127,
   "id": "8ce9b2a8-6e9b-4c6b-a61f-0a36388309b6",
   "metadata": {},
   "outputs": [
    {
     "name": "stdout",
     "output_type": "stream",
     "text": [
      "The average of 45,67 and 55 is = 55.67\n"
     ]
    }
   ],
   "source": [
    "num1 = 45\n",
    "num2 = 67\n",
    "num3 = 55\n",
    "avg = round((num1 + num2 + num3)/3,2)\n",
    "print(f'The average of {num1},{num2} and {num3} is = {avg}')"
   ]
  },
  {
   "cell_type": "markdown",
   "id": "a8b7aa91-17a4-4da0-8da7-e7a38e58eaba",
   "metadata": {},
   "source": [
    "## end statement statement along with print"
   ]
  },
  {
   "cell_type": "code",
   "execution_count": 130,
   "id": "ce0aa477-747e-4689-bd72-bdb591faaa0f",
   "metadata": {},
   "outputs": [
    {
     "name": "stdout",
     "output_type": "stream",
     "text": [
      "hello\n",
      "good morning\n"
     ]
    }
   ],
   "source": [
    "print('hello')\n",
    "print('good morning')"
   ]
  },
  {
   "cell_type": "markdown",
   "id": "86f65599-beef-488b-801c-ee31ba5ed2b5",
   "metadata": {},
   "source": [
    "Here we will use end statement that joint line from end of one string to starting of other\n",
    "string"
   ]
  },
  {
   "cell_type": "code",
   "execution_count": 146,
   "id": "81a4c6b6-50d2-4f28-9942-dc0500bc7ef6",
   "metadata": {},
   "outputs": [
    {
     "name": "stdout",
     "output_type": "stream",
     "text": [
      "hello good morning\n"
     ]
    }
   ],
   "source": [
    "print('hello', end =' ')\n",
    "print('good morning')"
   ]
  },
  {
   "cell_type": "code",
   "execution_count": 170,
   "id": "e8d14510-5ef7-4085-a60e-46bcb4fd1ae6",
   "metadata": {},
   "outputs": [
    {
     "name": "stdout",
     "output_type": "stream",
     "text": [
      "hello ram good morning\n"
     ]
    }
   ],
   "source": [
    "name = 'ram'\n",
    "print('hello', end = f' {name} ')\n",
    "print('good morning')"
   ]
  },
  {
   "cell_type": "code",
   "execution_count": 184,
   "id": "891399d1-cc8b-4e88-b1be-d36ff1b319f9",
   "metadata": {},
   "outputs": [
    {
     "name": "stdout",
     "output_type": "stream",
     "text": [
      "hello ram good morning\n",
      "hello krish good morning\n",
      "hello hanum good morning\n"
     ]
    }
   ],
   "source": [
    "names = ['ram','krish','hanum']\n",
    "for name in names:\n",
    "    print('hello', end = f' {name} ')\n",
    "    print('good morning')"
   ]
  },
  {
   "cell_type": "code",
   "execution_count": 190,
   "id": "be4202b4-f968-4d95-9951-d20465776408",
   "metadata": {},
   "outputs": [
    {
     "name": "stdin",
     "output_type": "stream",
     "text": [
      " ram\n"
     ]
    },
    {
     "name": "stdout",
     "output_type": "stream",
     "text": [
      "hello ram good morning\n"
     ]
    }
   ],
   "source": [
    "print('hello', end = f' {input()} ')\n",
    "print('good morning')"
   ]
  },
  {
   "cell_type": "markdown",
   "id": "4644f757-5052-41fb-b634-c5b376a0e8cf",
   "metadata": {},
   "source": [
    "## seperator"
   ]
  },
  {
   "cell_type": "code",
   "execution_count": 193,
   "id": "49a8b48a-1968-4b3c-9d64-6aa165a63ee0",
   "metadata": {},
   "outputs": [
    {
     "name": "stdout",
     "output_type": "stream",
     "text": [
      "hello--->hai--->how are you\n"
     ]
    }
   ],
   "source": [
    "print('hello','hai','how are you',sep='--->')"
   ]
  },
  {
   "cell_type": "code",
   "execution_count": 199,
   "id": "43bca70f-91ea-4b19-91bd-e433e6a847ad",
   "metadata": {},
   "outputs": [
    {
     "name": "stdin",
     "output_type": "stream",
     "text": [
      " ram\n"
     ]
    },
    {
     "name": "stdout",
     "output_type": "stream",
     "text": [
      "hello---> ram--->hai--->how are you\n"
     ]
    }
   ],
   "source": [
    "print('hello',f' {input()}','hai','how are you',sep='--->')"
   ]
  },
  {
   "cell_type": "code",
   "execution_count": 201,
   "id": "8b9d002e-d2f7-41f5-b2c2-dd13c1c4812c",
   "metadata": {},
   "outputs": [
    {
     "name": "stdin",
     "output_type": "stream",
     "text": [
      " ram\n"
     ]
    },
    {
     "name": "stdout",
     "output_type": "stream",
     "text": [
      "hello ram--->hai--->how are you\n"
     ]
    }
   ],
   "source": [
    "print(f'hello {input()}','hai','how are you',sep='--->')"
   ]
  },
  {
   "cell_type": "code",
   "execution_count": 203,
   "id": "3e08f2cc-adfc-479e-ac55-83fccbc93e13",
   "metadata": {},
   "outputs": [
    {
     "name": "stdin",
     "output_type": "stream",
     "text": [
      " ram\n",
      " 21\n"
     ]
    },
    {
     "name": "stdout",
     "output_type": "stream",
     "text": [
      "hello---> ram--->hai--->how old are you 21\n"
     ]
    }
   ],
   "source": [
    "print('hello',f' {input()}','hai',f'how old are you {input()}',sep='--->')"
   ]
  },
  {
   "cell_type": "code",
   "execution_count": 205,
   "id": "d0611e67-2d0e-4773-a316-924924ac806f",
   "metadata": {},
   "outputs": [
    {
     "name": "stdout",
     "output_type": "stream",
     "text": [
      "hello hai how are you\n"
     ]
    }
   ],
   "source": [
    "print('hello','hai','how are you',sep=' ')"
   ]
  },
  {
   "cell_type": "code",
   "execution_count": 259,
   "id": "414ecada-c3e7-4982-b6fe-b16d5d89fe13",
   "metadata": {},
   "outputs": [
    {
     "name": "stdout",
     "output_type": "stream",
     "text": [
      "1,2,3."
     ]
    }
   ],
   "source": [
    "print(1,2,3,end = '.',sep=',')"
   ]
  },
  {
   "cell_type": "code",
   "execution_count": 257,
   "id": "f167a8da-707b-456a-9db5-1b9f1fe55302",
   "metadata": {},
   "outputs": [
    {
     "name": "stdout",
     "output_type": "stream",
     "text": [
      "1,2,3\n"
     ]
    }
   ],
   "source": [
    "print(1,2,3,sep=',')"
   ]
  },
  {
   "cell_type": "code",
   "execution_count": 263,
   "id": "cc9c23a4-7893-48f8-ade2-a004bf9248f2",
   "metadata": {},
   "outputs": [
    {
     "name": "stdout",
     "output_type": "stream",
     "text": [
      "1 2 3."
     ]
    }
   ],
   "source": [
    "print(1,2,3,end = '.')"
   ]
  },
  {
   "cell_type": "code",
   "execution_count": 261,
   "id": "48be73e4-2016-4048-af78-2d5aa61ba2ce",
   "metadata": {},
   "outputs": [
    {
     "name": "stdout",
     "output_type": "stream",
     "text": [
      "1 2 3\n"
     ]
    }
   ],
   "source": [
    "print(1,2,3)"
   ]
  },
  {
   "cell_type": "code",
   "execution_count": 307,
   "id": "9c871f8e-c8e2-4f7e-86b5-165b09858095",
   "metadata": {},
   "outputs": [
    {
     "name": "stdout",
     "output_type": "stream",
     "text": [
      "1934537013504\n",
      "1\n",
      "2\n",
      "3\n",
      "4\n",
      "5\n"
     ]
    }
   ],
   "source": [
    "numb  = [1,2,3,4,5]\n",
    "print(id(numb))\n",
    "for num in numb:\n",
    "    print(num)"
   ]
  },
  {
   "cell_type": "code",
   "execution_count": 305,
   "id": "5eacda3b-aa79-41d7-ba08-90d8518edae8",
   "metadata": {},
   "outputs": [
    {
     "name": "stdout",
     "output_type": "stream",
     "text": [
      "1934537227840\n",
      "1,2,3,4,5,6,"
     ]
    }
   ],
   "source": [
    "numb  = [1,2,3,4,5,6]\n",
    "print(id(numb))\n",
    "for num in numb:\n",
    "    print(num, end = ',')"
   ]
  },
  {
   "cell_type": "code",
   "execution_count": 245,
   "id": "0048260b-f44f-4f87-863e-030befef455c",
   "metadata": {},
   "outputs": [
    {
     "name": "stdout",
     "output_type": "stream",
     "text": [
      "1\n",
      "2\n",
      "3\n",
      "4\n",
      "5\n",
      "6\n"
     ]
    }
   ],
   "source": [
    "numb  = [1,2,3,4,5,6]\n",
    "for num in numb:\n",
    "    print(num, sep = '.')"
   ]
  },
  {
   "cell_type": "code",
   "execution_count": 267,
   "id": "280b3a37-dc36-443f-8238-d5997720dad3",
   "metadata": {},
   "outputs": [
    {
     "name": "stdout",
     "output_type": "stream",
     "text": [
      "1,2,3 4 5 6\n"
     ]
    }
   ],
   "source": [
    "print(1,2,3,sep = ',', end=' ')\n",
    "print(4,5,6)"
   ]
  },
  {
   "cell_type": "code",
   "execution_count": 269,
   "id": "5b18dd7e-6b76-4480-8ffb-860a553e0267",
   "metadata": {},
   "outputs": [
    {
     "name": "stdout",
     "output_type": "stream",
     "text": [
      "1,2,3\n",
      "4 5 6\n"
     ]
    }
   ],
   "source": [
    "print(1,2,3,sep = ',')\n",
    "print(4,5,6)"
   ]
  },
  {
   "cell_type": "code",
   "execution_count": 275,
   "id": "cc50a9f6-8ad3-4e42-b17f-ff52aeced9cd",
   "metadata": {},
   "outputs": [
    {
     "name": "stdout",
     "output_type": "stream",
     "text": [
      "1 2 3 4,5,6\n"
     ]
    }
   ],
   "source": [
    "print(1,2,3,end=' ')\n",
    "print(4,5,6,sep = ',')"
   ]
  },
  {
   "cell_type": "markdown",
   "id": "a3b31c5c-7106-4ed4-a328-305e31cbc233",
   "metadata": {},
   "source": [
    "# redirecting the output to a file"
   ]
  },
  {
   "cell_type": "code",
   "execution_count": 291,
   "id": "f8be1ac3-d30c-4ed2-a799-a12f87b385fe",
   "metadata": {},
   "outputs": [
    {
     "name": "stdin",
     "output_type": "stream",
     "text": [
      " ram\n"
     ]
    }
   ],
   "source": [
    "with open('redirecting.txt','w') as file: # redirecting.txt file is created by user & o/p updated in that file \n",
    "    print(f'hello world! {input()}', file = file)\n",
    "    print('hi', file = file)"
   ]
  },
  {
   "cell_type": "code",
   "execution_count": null,
   "id": "1b9adcc2-a239-4e68-89a4-39454175cfac",
   "metadata": {},
   "outputs": [],
   "source": []
  }
 ],
 "metadata": {
  "kernelspec": {
   "display_name": "Python 3 (ipykernel)",
   "language": "python",
   "name": "python3"
  },
  "language_info": {
   "codemirror_mode": {
    "name": "ipython",
    "version": 3
   },
   "file_extension": ".py",
   "mimetype": "text/x-python",
   "name": "python",
   "nbconvert_exporter": "python",
   "pygments_lexer": "ipython3",
   "version": "3.12.4"
  }
 },
 "nbformat": 4,
 "nbformat_minor": 5
}
