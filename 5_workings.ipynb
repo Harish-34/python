{
 "cells": [
  {
   "cell_type": "code",
   "execution_count": 1,
   "id": "bcc194c5-fcab-4485-8c81-8c233e5e97b4",
   "metadata": {},
   "outputs": [],
   "source": [
    "import sys\n",
    "import keyword\n",
    "import operator\n",
    "from datetime import datetime\n",
    "import os"
   ]
  },
  {
   "cell_type": "markdown",
   "id": "4cb2a0eb-b7f4-471d-aa1e-ea7e4b571beb",
   "metadata": {},
   "source": [
    "# keywords"
   ]
  },
  {
   "cell_type": "code",
   "execution_count": 6,
   "id": "aeccdd46-ed7f-49a7-9d35-6fdd74d6de9e",
   "metadata": {},
   "outputs": [
    {
     "name": "stdout",
     "output_type": "stream",
     "text": [
      "['False', 'None', 'True', 'and', 'as', 'assert', 'async', 'await', 'break', 'class', 'continue', 'def', 'del', 'elif', 'else', 'except', 'finally', 'for', 'from', 'global', 'if', 'import', 'in', 'is', 'lambda', 'nonlocal', 'not', 'or', 'pass', 'raise', 'return', 'try', 'while', 'with', 'yield']\n"
     ]
    }
   ],
   "source": [
    "print(keyword.kwlist)"
   ]
  },
  {
   "cell_type": "markdown",
   "id": "f60148ca-4071-427b-83d1-bbffd6f6cc9f",
   "metadata": {},
   "source": [
    "# statements"
   ]
  },
  {
   "cell_type": "code",
   "execution_count": 44,
   "id": "49aa321d-2f3b-49c7-a64f-d1df100c04b8",
   "metadata": {},
   "outputs": [
    {
     "data": {
      "text/plain": [
       "(20, 30, 30)"
      ]
     },
     "execution_count": 44,
     "metadata": {},
     "output_type": "execute_result"
    }
   ],
   "source": [
    "p =20\n",
    "q =30\n",
    "r=q\n",
    "p,q,r"
   ]
  },
  {
   "cell_type": "code",
   "execution_count": 38,
   "id": "cc50c244-4933-4291-8bca-f4e7c66e1a07",
   "metadata": {},
   "outputs": [
    {
     "data": {
      "text/plain": [
       "(int, int, int)"
      ]
     },
     "execution_count": 38,
     "metadata": {},
     "output_type": "execute_result"
    }
   ],
   "source": [
    "type(p),type(q),type(r)"
   ]
  },
  {
   "cell_type": "code",
   "execution_count": 40,
   "id": "6bda2060-a5b3-4a74-9b01-e729fa7a569a",
   "metadata": {},
   "outputs": [
    {
     "data": {
      "text/plain": [
       "(140703475973144, 140703475973464, 140703475973464)"
      ]
     },
     "execution_count": 40,
     "metadata": {},
     "output_type": "execute_result"
    }
   ],
   "source": [
    "id(p),id(q),id(r)"
   ]
  },
  {
   "cell_type": "code",
   "execution_count": 42,
   "id": "2759ca59-c898-4005-b920-8145abe20b24",
   "metadata": {},
   "outputs": [
    {
     "data": {
      "text/plain": [
       "('0x7ff814b43c18', '0x7ff814b43d58', '0x7ff814b43d58')"
      ]
     },
     "execution_count": 42,
     "metadata": {},
     "output_type": "execute_result"
    }
   ],
   "source": [
    "hex(id(p)),hex(id(q)),hex(id(r))"
   ]
  },
  {
   "cell_type": "code",
   "execution_count": 88,
   "id": "fc5c8059-1391-45d5-9cba-511b212a8e0d",
   "metadata": {},
   "outputs": [
    {
     "data": {
      "text/plain": [
       "(20, 20, 20)"
      ]
     },
     "execution_count": 88,
     "metadata": {},
     "output_type": "execute_result"
    }
   ],
   "source": [
    "a = 20\n",
    "b = 20\n",
    "c = b\n",
    "a, b, c"
   ]
  },
  {
   "cell_type": "code",
   "execution_count": 90,
   "id": "60a0a74c-4021-40c5-aeeb-bcca49fe420e",
   "metadata": {},
   "outputs": [
    {
     "data": {
      "text/plain": [
       "(int, int, int)"
      ]
     },
     "execution_count": 90,
     "metadata": {},
     "output_type": "execute_result"
    }
   ],
   "source": [
    "type(a),type(b),type(c)"
   ]
  },
  {
   "cell_type": "code",
   "execution_count": 92,
   "id": "f0635435-4d09-49a0-8a7d-8cc3c9905fb6",
   "metadata": {},
   "outputs": [
    {
     "data": {
      "text/plain": [
       "(140703475973144, 140703475973144, 140703475973144)"
      ]
     },
     "execution_count": 92,
     "metadata": {},
     "output_type": "execute_result"
    }
   ],
   "source": [
    "id(a),id(b),id(c)"
   ]
  },
  {
   "cell_type": "code",
   "execution_count": 94,
   "id": "4564af43-549a-4ca5-94f4-7f4930a67155",
   "metadata": {},
   "outputs": [
    {
     "data": {
      "text/plain": [
       "('0x7ff814b43c18', '0x7ff814b43c18', '0x7ff814b43c18')"
      ]
     },
     "execution_count": 94,
     "metadata": {},
     "output_type": "execute_result"
    }
   ],
   "source": [
    "hex(id(a)),hex(id(b)),hex(id(c))"
   ]
  },
  {
   "cell_type": "code",
   "execution_count": 100,
   "id": "a3213313-8a1b-429b-b3f4-f4ec0cd90efa",
   "metadata": {},
   "outputs": [
    {
     "data": {
      "text/plain": [
       "140703475973144"
      ]
     },
     "execution_count": 100,
     "metadata": {},
     "output_type": "execute_result"
    }
   ],
   "source": [
    "a = 20\n",
    "id(a)"
   ]
  },
  {
   "cell_type": "code",
   "execution_count": 113,
   "id": "086dc7a1-2f9b-498c-b527-1b658672dd1c",
   "metadata": {},
   "outputs": [
    {
     "data": {
      "text/plain": [
       "(140703475974744, 140703475973144, 140703475973144)"
      ]
     },
     "execution_count": 113,
     "metadata": {},
     "output_type": "execute_result"
    }
   ],
   "source": [
    "a= a + 10\n",
    "id(a),id(b),id(c)"
   ]
  },
  {
   "cell_type": "code",
   "execution_count": 117,
   "id": "7f63a641-9beb-4fd6-8a70-8934e3d4e639",
   "metadata": {},
   "outputs": [
    {
     "name": "stdout",
     "output_type": "stream",
     "text": [
      "500\n",
      "<class 'int'>\n",
      "28\n",
      "500 is integer? True\n"
     ]
    }
   ],
   "source": [
    "integer = 500\n",
    "print(integer)\n",
    "print(type(integer))\n",
    "print(sys.getsizeof(integer))\n",
    "print(f'{integer} is integer?', isinstance(integer,int))"
   ]
  },
  {
   "cell_type": "code",
   "execution_count": 119,
   "id": "2124da45-8a3c-4066-a179-62523861063d",
   "metadata": {},
   "outputs": [
    {
     "name": "stdout",
     "output_type": "stream",
     "text": [
      "500.567\n",
      "<class 'float'>\n",
      "24\n",
      "500.567 is floating number? True\n"
     ]
    }
   ],
   "source": [
    "floating = 500.567\n",
    "print(floating)\n",
    "print(type(floating))\n",
    "print(sys.getsizeof(floating))\n",
    "print(f'{floating} is floating number?', isinstance(floating,float))"
   ]
  },
  {
   "cell_type": "code",
   "execution_count": null,
   "id": "298a71d0-3eb3-4197-b04c-45c573b354e6",
   "metadata": {},
   "outputs": [],
   "source": []
  }
 ],
 "metadata": {
  "kernelspec": {
   "display_name": "Python 3 (ipykernel)",
   "language": "python",
   "name": "python3"
  },
  "language_info": {
   "codemirror_mode": {
    "name": "ipython",
    "version": 3
   },
   "file_extension": ".py",
   "mimetype": "text/x-python",
   "name": "python",
   "nbconvert_exporter": "python",
   "pygments_lexer": "ipython3",
   "version": "3.12.4"
  }
 },
 "nbformat": 4,
 "nbformat_minor": 5
}
