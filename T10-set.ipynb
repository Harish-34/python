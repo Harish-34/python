{
 "cells": [
  {
   "cell_type": "markdown",
   "id": "0e090ad1-40ac-4f3b-90e2-26dd7d27438f",
   "metadata": {},
   "source": [
    "# set"
   ]
  },
  {
   "cell_type": "markdown",
   "id": "f5749fbf-4d24-4e1b-aa31-666cb941b931",
   "metadata": {},
   "source": [
    "- unordered\n",
    "- uniindexed\n",
    "- all elements are unique\n",
    "- elements areimmutable cant be changed\n",
    "- set itself ismutable but not the elements\n",
    "  "
   ]
  },
  {
   "cell_type": "code",
   "execution_count": 5,
   "id": "6dc64f54-ac68-46e1-8fbf-0a128297f46d",
   "metadata": {},
   "outputs": [
    {
     "data": {
      "text/plain": [
       "{1, 2, 3, 4, 5}"
      ]
     },
     "execution_count": 5,
     "metadata": {},
     "output_type": "execute_result"
    }
   ],
   "source": [
    "myset = {1,2,3,4,5}\n",
    "myset"
   ]
  },
  {
   "cell_type": "code",
   "execution_count": 7,
   "id": "0942b778-6d64-41a0-bea4-049c13e0af97",
   "metadata": {},
   "outputs": [
    {
     "data": {
      "text/plain": [
       "5"
      ]
     },
     "execution_count": 7,
     "metadata": {},
     "output_type": "execute_result"
    }
   ],
   "source": [
    "len(myset)"
   ]
  },
  {
   "cell_type": "code",
   "execution_count": 15,
   "id": "d4abe579-2a1c-45b7-8aec-a81450518645",
   "metadata": {},
   "outputs": [
    {
     "data": {
      "text/plain": [
       "{}"
      ]
     },
     "execution_count": 15,
     "metadata": {},
     "output_type": "execute_result"
    }
   ],
   "source": [
    "s = {}  \n",
    "s"
   ]
  },
  {
   "cell_type": "code",
   "execution_count": 11,
   "id": "5efa5c58-a542-4918-99cc-4f10dca2b8b0",
   "metadata": {},
   "outputs": [
    {
     "data": {
      "text/plain": [
       "dict"
      ]
     },
     "execution_count": 11,
     "metadata": {},
     "output_type": "execute_result"
    }
   ],
   "source": [
    "type(s)"
   ]
  },
  {
   "cell_type": "code",
   "execution_count": 13,
   "id": "e3552198-9559-4d3a-a45e-23d359548b5b",
   "metadata": {},
   "outputs": [
    {
     "data": {
      "text/plain": [
       "set"
      ]
     },
     "execution_count": 13,
     "metadata": {},
     "output_type": "execute_result"
    }
   ],
   "source": [
    "type(myset)"
   ]
  },
  {
   "cell_type": "code",
   "execution_count": 17,
   "id": "3a9cc26a-d991-4395-aa77-a906450a3867",
   "metadata": {},
   "outputs": [],
   "source": [
    "s1  = set()"
   ]
  },
  {
   "cell_type": "code",
   "execution_count": 19,
   "id": "3d6d8348-adb5-4f76-a2c2-f5edf19c132b",
   "metadata": {},
   "outputs": [
    {
     "data": {
      "text/plain": [
       "set"
      ]
     },
     "execution_count": 19,
     "metadata": {},
     "output_type": "execute_result"
    }
   ],
   "source": [
    "type(s1)"
   ]
  },
  {
   "cell_type": "code",
   "execution_count": 23,
   "id": "24c83c72-51f9-49bc-a0f4-7c52e05961fe",
   "metadata": {},
   "outputs": [
    {
     "data": {
      "text/plain": [
       "{1, 2, 3, 4, 5, 6, 34, 43}"
      ]
     },
     "execution_count": 23,
     "metadata": {},
     "output_type": "execute_result"
    }
   ],
   "source": [
    "s2 = {1,2,3,4,5,1,2,2,3,4,5,6,2,34,43}\n",
    "s2"
   ]
  },
  {
   "cell_type": "code",
   "execution_count": 27,
   "id": "d7dbf8a2-4020-45de-9b77-0b0d033e3de2",
   "metadata": {},
   "outputs": [
    {
     "data": {
      "text/plain": [
       "{(2+3j), (5+8j), 34.234, 356, 4553, 543, 69.04, 'a', 'ram'}"
      ]
     },
     "execution_count": 27,
     "metadata": {},
     "output_type": "execute_result"
    }
   ],
   "source": [
    "s3 = {543,356,4553,'ram','a',69.04,34.234, 5+8j,2+3j}\n",
    "s3"
   ]
  },
  {
   "cell_type": "code",
   "execution_count": 31,
   "id": "0648de9a-57df-415c-be97-e15ae4c51ab2",
   "metadata": {},
   "outputs": [
    {
     "data": {
      "text/plain": [
       "{(5+8j), 34.234, 356, 4553, 543, 69.04, 'a', 'ram'}"
      ]
     },
     "execution_count": 31,
     "metadata": {},
     "output_type": "execute_result"
    }
   ],
   "source": [
    "s3 = {543,356,4553,'ram','a',69.04,34.234, 5+8j}\n",
    "s3"
   ]
  },
  {
   "cell_type": "code",
   "execution_count": 35,
   "id": "7215fb4d-659a-4f07-bc5c-dc742da908d2",
   "metadata": {},
   "outputs": [
    {
     "data": {
      "text/plain": [
       "{(2+3j), (5+8j), 34.234, 356, 4553, 5, 543, 69.04, 'a', 'ram'}"
      ]
     },
     "execution_count": 35,
     "metadata": {},
     "output_type": "execute_result"
    }
   ],
   "source": [
    "s3 = {543,356,4553,'ram','a',69.04,34.234, 5+8j,2+3j,5}\n",
    "s3"
   ]
  },
  {
   "cell_type": "code",
   "execution_count": 37,
   "id": "0e568024-360d-4a36-b165-97d372608610",
   "metadata": {},
   "outputs": [
    {
     "ename": "TypeError",
     "evalue": "'set' object is not subscriptable",
     "output_type": "error",
     "traceback": [
      "\u001b[1;31m---------------------------------------------------------------------------\u001b[0m",
      "\u001b[1;31mTypeError\u001b[0m                                 Traceback (most recent call last)",
      "Cell \u001b[1;32mIn[37], line 1\u001b[0m\n\u001b[1;32m----> 1\u001b[0m \u001b[43ms3\u001b[49m\u001b[43m[\u001b[49m\u001b[38;5;241;43m0\u001b[39;49m\u001b[43m]\u001b[49m\n",
      "\u001b[1;31mTypeError\u001b[0m: 'set' object is not subscriptable"
     ]
    }
   ],
   "source": [
    "s3[0]"
   ]
  },
  {
   "cell_type": "code",
   "execution_count": 39,
   "id": "3b9f0764-5941-4016-907e-46c256dd9532",
   "metadata": {},
   "outputs": [
    {
     "data": {
      "text/plain": [
       "{(2+3j), (5+8j), 34.234, 3445, 356, 4553, 5, 543, 69.04, 'a', 'ram'}"
      ]
     },
     "execution_count": 39,
     "metadata": {},
     "output_type": "execute_result"
    }
   ],
   "source": [
    "s3.add(3445)\n",
    "s3"
   ]
  },
  {
   "cell_type": "code",
   "execution_count": 41,
   "id": "23e833f0-faab-4ccc-8512-a3074e047daa",
   "metadata": {},
   "outputs": [
    {
     "ename": "TypeError",
     "evalue": "set.add() takes exactly one argument (2 given)",
     "output_type": "error",
     "traceback": [
      "\u001b[1;31m---------------------------------------------------------------------------\u001b[0m",
      "\u001b[1;31mTypeError\u001b[0m                                 Traceback (most recent call last)",
      "Cell \u001b[1;32mIn[41], line 1\u001b[0m\n\u001b[1;32m----> 1\u001b[0m \u001b[43ms3\u001b[49m\u001b[38;5;241;43m.\u001b[39;49m\u001b[43madd\u001b[49m\u001b[43m(\u001b[49m\u001b[38;5;241;43m567\u001b[39;49m\u001b[43m,\u001b[49m\u001b[38;5;241;43m456\u001b[39;49m\u001b[43m)\u001b[49m\n",
      "\u001b[1;31mTypeError\u001b[0m: set.add() takes exactly one argument (2 given)"
     ]
    }
   ],
   "source": [
    "s3.add(567,456)"
   ]
  },
  {
   "cell_type": "code",
   "execution_count": 43,
   "id": "122c9347-a94f-4f73-8089-5382bf8b0e5e",
   "metadata": {},
   "outputs": [
    {
     "ename": "TypeError",
     "evalue": "'set' object is not subscriptable",
     "output_type": "error",
     "traceback": [
      "\u001b[1;31m---------------------------------------------------------------------------\u001b[0m",
      "\u001b[1;31mTypeError\u001b[0m                                 Traceback (most recent call last)",
      "Cell \u001b[1;32mIn[43], line 1\u001b[0m\n\u001b[1;32m----> 1\u001b[0m \u001b[43ms3\u001b[49m\u001b[43m[\u001b[49m\u001b[38;5;241;43m0\u001b[39;49m\u001b[43m]\u001b[49m\n",
      "\u001b[1;31mTypeError\u001b[0m: 'set' object is not subscriptable"
     ]
    }
   ],
   "source": [
    "s3[0]"
   ]
  },
  {
   "cell_type": "code",
   "execution_count": 45,
   "id": "e1004aaa-228e-4ba2-ae18-bd3b49d8ff07",
   "metadata": {},
   "outputs": [
    {
     "data": {
      "text/plain": [
       "34.234"
      ]
     },
     "execution_count": 45,
     "metadata": {},
     "output_type": "execute_result"
    }
   ],
   "source": [
    "s3.pop()"
   ]
  },
  {
   "cell_type": "code",
   "execution_count": 47,
   "id": "4ef41523-269e-4ef5-b093-c5c6dd1066a2",
   "metadata": {},
   "outputs": [],
   "source": [
    "s4 = s3.copy()"
   ]
  },
  {
   "cell_type": "code",
   "execution_count": 49,
   "id": "40d1a9eb-641a-4198-a63e-7f7335c1a5df",
   "metadata": {},
   "outputs": [
    {
     "data": {
      "text/plain": [
       "{(2+3j), (5+8j), 3445, 356, 4553, 5, 543, 69.04, 'a', 'ram'}"
      ]
     },
     "execution_count": 49,
     "metadata": {},
     "output_type": "execute_result"
    }
   ],
   "source": [
    "s4"
   ]
  },
  {
   "cell_type": "markdown",
   "id": "78930898-a2da-499f-b103-030ce804243f",
   "metadata": {},
   "source": [
    "# set operations"
   ]
  },
  {
   "cell_type": "code",
   "execution_count": 52,
   "id": "595b4ab9-2d0f-47bd-8ea9-c117680fa244",
   "metadata": {},
   "outputs": [],
   "source": [
    "A = {1,2,3,4,5}\n",
    "B = {4,5,6,7,8}\n",
    "C = {8,9,10}"
   ]
  },
  {
   "cell_type": "markdown",
   "id": "f1140467-38cf-4fbc-bd9c-3725ceb4e9c0",
   "metadata": {},
   "source": [
    "## Union"
   ]
  },
  {
   "cell_type": "code",
   "execution_count": 54,
   "id": "7c5d2788-7782-4a57-89ff-01dafb0f5956",
   "metadata": {},
   "outputs": [
    {
     "data": {
      "text/plain": [
       "{1, 2, 3, 4, 5, 6, 7, 8}"
      ]
     },
     "execution_count": 54,
     "metadata": {},
     "output_type": "execute_result"
    }
   ],
   "source": [
    "A.union(B)"
   ]
  },
  {
   "cell_type": "code",
   "execution_count": 58,
   "id": "38f7afef-0985-4135-93de-bc300692d931",
   "metadata": {},
   "outputs": [
    {
     "data": {
      "text/plain": [
       "{1, 2, 3, 4, 5, 6, 7, 8, 9, 10}"
      ]
     },
     "execution_count": 58,
     "metadata": {},
     "output_type": "execute_result"
    }
   ],
   "source": [
    "A.union(B,C)"
   ]
  },
  {
   "cell_type": "code",
   "execution_count": 64,
   "id": "dc688fc7-eef9-4faf-b35f-cbed1420185b",
   "metadata": {},
   "outputs": [
    {
     "data": {
      "text/plain": [
       "{1, 2, 3, 4, 5, 6, 7, 8, 9, 10}"
      ]
     },
     "execution_count": 64,
     "metadata": {},
     "output_type": "execute_result"
    }
   ],
   "source": [
    "A.update(B,C)\n",
    "A"
   ]
  },
  {
   "cell_type": "code",
   "execution_count": 66,
   "id": "0086260e-f6f4-431b-a303-1b2bed05cf59",
   "metadata": {},
   "outputs": [
    {
     "data": {
      "text/plain": [
       "{1, 2, 3, 4, 5, 6, 7, 8, 9, 10}"
      ]
     },
     "execution_count": 66,
     "metadata": {},
     "output_type": "execute_result"
    }
   ],
   "source": [
    "A|B"
   ]
  },
  {
   "cell_type": "markdown",
   "id": "8085badb-3084-49fa-93be-9798c23d49d7",
   "metadata": {},
   "source": [
    "## Intersection and intersection_update"
   ]
  },
  {
   "cell_type": "code",
   "execution_count": 70,
   "id": "06083950-489e-4619-a38b-cc77f4779c0b",
   "metadata": {},
   "outputs": [
    {
     "data": {
      "text/plain": [
       "{4, 5, 6, 7, 8}"
      ]
     },
     "execution_count": 70,
     "metadata": {},
     "output_type": "execute_result"
    }
   ],
   "source": [
    "A & B"
   ]
  },
  {
   "cell_type": "code",
   "execution_count": 72,
   "id": "0aa56ff0-1d18-4bba-9572-804da43c2c6d",
   "metadata": {},
   "outputs": [
    {
     "data": {
      "text/plain": [
       "{4, 5, 6, 7, 8}"
      ]
     },
     "execution_count": 72,
     "metadata": {},
     "output_type": "execute_result"
    }
   ],
   "source": [
    "A.intersection(B)"
   ]
  },
  {
   "cell_type": "code",
   "execution_count": 76,
   "id": "fdf5feb3-41ba-4541-8afd-2a5e4bf8cbab",
   "metadata": {},
   "outputs": [
    {
     "data": {
      "text/plain": [
       "{4, 5, 6, 7, 8}"
      ]
     },
     "execution_count": 76,
     "metadata": {},
     "output_type": "execute_result"
    }
   ],
   "source": [
    "A.intersection_update(B)\n",
    "A"
   ]
  },
  {
   "cell_type": "markdown",
   "id": "9d077ead-203c-4a71-8cd0-fb4ee3d46005",
   "metadata": {},
   "source": [
    "## Difference and difference_update"
   ]
  },
  {
   "cell_type": "code",
   "execution_count": 79,
   "id": "9596e289-181a-4677-a9b6-7b36df47955a",
   "metadata": {},
   "outputs": [
    {
     "data": {
      "text/plain": [
       "set()"
      ]
     },
     "execution_count": 79,
     "metadata": {},
     "output_type": "execute_result"
    }
   ],
   "source": [
    "A-B  # Only values in A not in B"
   ]
  },
  {
   "cell_type": "code",
   "execution_count": 81,
   "id": "b03ef8e4-e1c8-426d-ac0c-58df2da0937a",
   "metadata": {},
   "outputs": [
    {
     "data": {
      "text/plain": [
       "{4, 5, 6, 7}"
      ]
     },
     "execution_count": 81,
     "metadata": {},
     "output_type": "execute_result"
    }
   ],
   "source": [
    "B-C # only values in B not in C"
   ]
  },
  {
   "cell_type": "code",
   "execution_count": 83,
   "id": "4f93b2da-f298-4b88-b4c2-4cd9c4945307",
   "metadata": {},
   "outputs": [
    {
     "data": {
      "text/plain": [
       "{4, 5, 6, 7}"
      ]
     },
     "execution_count": 83,
     "metadata": {},
     "output_type": "execute_result"
    }
   ],
   "source": [
    "B.difference(C)"
   ]
  },
  {
   "cell_type": "code",
   "execution_count": 89,
   "id": "b208cd6c-abb8-4870-857c-28a046138fc8",
   "metadata": {},
   "outputs": [
    {
     "data": {
      "text/plain": [
       "{4, 5, 6, 7}"
      ]
     },
     "execution_count": 89,
     "metadata": {},
     "output_type": "execute_result"
    }
   ],
   "source": [
    "B.difference_update(C)\n",
    "B"
   ]
  },
  {
   "cell_type": "markdown",
   "id": "944d7a4c-f7a2-493a-89f4-0e2054504eb0",
   "metadata": {},
   "source": [
    "## symmetric difference & symmetric diff update"
   ]
  },
  {
   "cell_type": "code",
   "execution_count": 92,
   "id": "ee8852c0-16ac-4d23-a6d0-2b3f0e7d3138",
   "metadata": {},
   "outputs": [
    {
     "data": {
      "text/plain": [
       "{8}"
      ]
     },
     "execution_count": 92,
     "metadata": {},
     "output_type": "execute_result"
    }
   ],
   "source": [
    "A.symmetric_difference(B)"
   ]
  },
  {
   "cell_type": "code",
   "execution_count": 94,
   "id": "db3acaa3-2c10-4523-8967-37054c52b684",
   "metadata": {},
   "outputs": [
    {
     "data": {
      "text/plain": [
       "{8}"
      ]
     },
     "execution_count": 94,
     "metadata": {},
     "output_type": "execute_result"
    }
   ],
   "source": [
    "A^B"
   ]
  },
  {
   "cell_type": "code",
   "execution_count": 98,
   "id": "7a87941a-fdfb-4250-a837-e678240a6a2e",
   "metadata": {},
   "outputs": [
    {
     "data": {
      "text/plain": [
       "{8}"
      ]
     },
     "execution_count": 98,
     "metadata": {},
     "output_type": "execute_result"
    }
   ],
   "source": [
    "A.symmetric_difference_update(B)\n",
    "A"
   ]
  },
  {
   "cell_type": "markdown",
   "id": "eb39b6e8-e508-433b-8aea-9bc60c40aa47",
   "metadata": {},
   "source": [
    "## Subset , Superset & Disjoint"
   ]
  },
  {
   "cell_type": "code",
   "execution_count": 101,
   "id": "a66c7526-8906-4dfd-b950-eaafd07b23a1",
   "metadata": {},
   "outputs": [],
   "source": [
    "D={1,2,3,4,5,6,7,8,9,0}\n",
    "E={3,7,4}\n",
    "F={2343,2345}"
   ]
  },
  {
   "cell_type": "code",
   "execution_count": 103,
   "id": "1ed26639-b239-45fa-98b1-1fb51e039c13",
   "metadata": {},
   "outputs": [
    {
     "data": {
      "text/plain": [
       "True"
      ]
     },
     "execution_count": 103,
     "metadata": {},
     "output_type": "execute_result"
    }
   ],
   "source": [
    "E.issubset(D)"
   ]
  },
  {
   "cell_type": "code",
   "execution_count": 105,
   "id": "c060b8bb-a23a-4369-95c7-7330bd03f1d5",
   "metadata": {},
   "outputs": [
    {
     "data": {
      "text/plain": [
       "True"
      ]
     },
     "execution_count": 105,
     "metadata": {},
     "output_type": "execute_result"
    }
   ],
   "source": [
    "D.issuperset(E)"
   ]
  },
  {
   "cell_type": "code",
   "execution_count": 107,
   "id": "1ce64322-c3b7-458a-8327-b89a6d8ad2cc",
   "metadata": {},
   "outputs": [
    {
     "data": {
      "text/plain": [
       "True"
      ]
     },
     "execution_count": 107,
     "metadata": {},
     "output_type": "execute_result"
    }
   ],
   "source": [
    "F.isdisjoint(D)"
   ]
  },
  {
   "cell_type": "code",
   "execution_count": 109,
   "id": "3d391298-8d0a-463a-bd7f-9d4e2f4a9514",
   "metadata": {},
   "outputs": [
    {
     "data": {
      "text/plain": [
       "False"
      ]
     },
     "execution_count": 109,
     "metadata": {},
     "output_type": "execute_result"
    }
   ],
   "source": [
    "E.isdisjoint(D)"
   ]
  },
  {
   "cell_type": "code",
   "execution_count": 111,
   "id": "2c58d09a-00c6-4cb8-9519-609202bb28c5",
   "metadata": {},
   "outputs": [
    {
     "data": {
      "text/plain": [
       "[(0, 3), (1, 4), (2, 7)]"
      ]
     },
     "execution_count": 111,
     "metadata": {},
     "output_type": "execute_result"
    }
   ],
   "source": [
    "list(enumerate(E))"
   ]
  },
  {
   "cell_type": "code",
   "execution_count": 113,
   "id": "26b85d07-df85-45b6-9d4d-cba28972edf6",
   "metadata": {},
   "outputs": [
    {
     "data": {
      "text/plain": [
       "[3, 4, 7]"
      ]
     },
     "execution_count": 113,
     "metadata": {},
     "output_type": "execute_result"
    }
   ],
   "source": [
    "Z= sorted(E)\n",
    "Z"
   ]
  },
  {
   "cell_type": "code",
   "execution_count": null,
   "id": "e252fb52-aba7-4457-a0a1-275c11192346",
   "metadata": {},
   "outputs": [],
   "source": []
  }
 ],
 "metadata": {
  "kernelspec": {
   "display_name": "Python 3 (ipykernel)",
   "language": "python",
   "name": "python3"
  },
  "language_info": {
   "codemirror_mode": {
    "name": "ipython",
    "version": 3
   },
   "file_extension": ".py",
   "mimetype": "text/x-python",
   "name": "python",
   "nbconvert_exporter": "python",
   "pygments_lexer": "ipython3",
   "version": "3.12.4"
  }
 },
 "nbformat": 4,
 "nbformat_minor": 5
}
