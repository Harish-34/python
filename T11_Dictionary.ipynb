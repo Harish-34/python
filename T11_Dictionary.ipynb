{
 "cells": [
  {
   "cell_type": "markdown",
   "id": "48efc65e-6742-41d2-b233-d3cb5a4239e6",
   "metadata": {},
   "source": [
    "# Dictionary"
   ]
  },
  {
   "cell_type": "markdown",
   "id": "86eef50c-c607-45d9-891c-b5a8e4b2b593",
   "metadata": {},
   "source": [
    "- mutable\n",
    "- key:value pairs with curly braces\n",
    "- keys must be unique and value can be duplicated"
   ]
  },
  {
   "cell_type": "code",
   "execution_count": 4,
   "id": "f647c1e5-0925-4572-8e5f-73020d8114cc",
   "metadata": {},
   "outputs": [],
   "source": [
    "my_dict = dict()"
   ]
  },
  {
   "cell_type": "code",
   "execution_count": 6,
   "id": "665bf038-761b-4380-aaad-d65425065b36",
   "metadata": {},
   "outputs": [
    {
     "data": {
      "text/plain": [
       "{}"
      ]
     },
     "execution_count": 6,
     "metadata": {},
     "output_type": "execute_result"
    }
   ],
   "source": [
    "my_dict"
   ]
  },
  {
   "cell_type": "code",
   "execution_count": 8,
   "id": "f45b9e48-ea0f-4957-82c2-a77369af9d7b",
   "metadata": {},
   "outputs": [
    {
     "data": {
      "text/plain": [
       "{}"
      ]
     },
     "execution_count": 8,
     "metadata": {},
     "output_type": "execute_result"
    }
   ],
   "source": [
    "my_dict1 = {}\n",
    "my_dict"
   ]
  },
  {
   "cell_type": "code",
   "execution_count": 10,
   "id": "c4b04162-2000-49b2-b9d7-26a719dd5892",
   "metadata": {},
   "outputs": [
    {
     "data": {
      "text/plain": [
       "{1: 'one', 2: 'two', 3: 'three'}"
      ]
     },
     "execution_count": 10,
     "metadata": {},
     "output_type": "execute_result"
    }
   ],
   "source": [
    "mydict2 = {1:'one', 2:'two',3:'three'} # dictionary with integer keys\n",
    "mydict2"
   ]
  },
  {
   "cell_type": "code",
   "execution_count": 12,
   "id": "7c832bee-2c42-497c-afa4-72ae412855b3",
   "metadata": {},
   "outputs": [
    {
     "data": {
      "text/plain": [
       "{1: 'one', 2: 'two', 3: 'three'}"
      ]
     },
     "execution_count": 12,
     "metadata": {},
     "output_type": "execute_result"
    }
   ],
   "source": [
    "mydict3 = dict({1:'one', 2:'two',3:'three'}) # creating dictionary using dict()\n",
    "mydict3"
   ]
  },
  {
   "cell_type": "code",
   "execution_count": 16,
   "id": "56b6374e-0eb0-41a9-9022-9bcd62e8d420",
   "metadata": {},
   "outputs": [
    {
     "data": {
      "text/plain": [
       "{'A': 'one', 'B': 'two', 'C': 'three'}"
      ]
     },
     "execution_count": 16,
     "metadata": {},
     "output_type": "execute_result"
    }
   ],
   "source": [
    "mydict4 = {'A':'one','B':'two','C':'three'}  # dictionary with character keys\n",
    "mydict4"
   ]
  },
  {
   "cell_type": "code",
   "execution_count": 18,
   "id": "46b375d4-2613-41d5-9184-10d5f85601d7",
   "metadata": {},
   "outputs": [
    {
     "data": {
      "text/plain": [
       "{'A': 'one', 2: 'two', 'ram': 'three'}"
      ]
     },
     "execution_count": 18,
     "metadata": {},
     "output_type": "execute_result"
    }
   ],
   "source": [
    "mydict5 = {'A':'one', 2:'two','ram':'three'}  # dictionary with mixed keys\n",
    "mydict5"
   ]
  },
  {
   "cell_type": "code",
   "execution_count": 32,
   "id": "271c7454-3e02-45a7-b0e8-0c50edad56ff",
   "metadata": {},
   "outputs": [
    {
     "data": {
      "text/plain": [
       "dict_keys(['A', 2, 'ram'])"
      ]
     },
     "execution_count": 32,
     "metadata": {},
     "output_type": "execute_result"
    }
   ],
   "source": [
    "mydict5.keys() # return a dictionary keys "
   ]
  },
  {
   "cell_type": "code",
   "execution_count": 34,
   "id": "36068906-45f6-47e1-b367-116694f2d503",
   "metadata": {},
   "outputs": [
    {
     "data": {
      "text/plain": [
       "dict_values(['one', 'two', 'three'])"
      ]
     },
     "execution_count": 34,
     "metadata": {},
     "output_type": "execute_result"
    }
   ],
   "source": [
    "mydict5.values() # return dictionary values"
   ]
  },
  {
   "cell_type": "code",
   "execution_count": 36,
   "id": "dd372f63-aa1e-41ae-bc29-c2b238313670",
   "metadata": {},
   "outputs": [
    {
     "data": {
      "text/plain": [
       "dict_items([('A', 'one'), (2, 'two'), ('ram', 'three')])"
      ]
     },
     "execution_count": 36,
     "metadata": {},
     "output_type": "execute_result"
    }
   ],
   "source": [
    "mydict5.items()  #return dictionary key:va;lue pairs"
   ]
  },
  {
   "cell_type": "code",
   "execution_count": 38,
   "id": "0d85b0ed-1634-480e-8bf4-bc32ba616737",
   "metadata": {},
   "outputs": [
    {
     "data": {
      "text/plain": [
       "{1: 'one', 'B': 2, 'Ram': ['ram', 24, 68.6], 'animals': ('bat', 'cat', 'dog')}"
      ]
     },
     "execution_count": 38,
     "metadata": {},
     "output_type": "execute_result"
    }
   ],
   "source": [
    "mydict6 ={1:'one','B':2,'Ram':['ram',24,68.6], 'animals':('bat','cat','dog')}   # dictionary with multidata types\n",
    "mydict6"
   ]
  },
  {
   "cell_type": "code",
   "execution_count": 40,
   "id": "92907386-43ea-435f-af5d-0a03640f1580",
   "metadata": {},
   "outputs": [
    {
     "data": {
      "text/plain": [
       "{'b': None, 'a': None, 'c': None, 'd': None}"
      ]
     },
     "execution_count": 40,
     "metadata": {},
     "output_type": "execute_result"
    }
   ],
   "source": [
    "keys ={'a','b','c','d'}  # creating    a dict from a sequence of keys\n",
    "mydict7 = dict.fromkeys(keys)\n",
    "mydict7"
   ]
  },
  {
   "cell_type": "code",
   "execution_count": 44,
   "id": "73bb8977-45cb-493a-8b87-0a7fb3b41903",
   "metadata": {},
   "outputs": [
    {
     "data": {
      "text/plain": [
       "{'a': None, 'b': None, 'c': None, 'd': None}"
      ]
     },
     "execution_count": 44,
     "metadata": {},
     "output_type": "execute_result"
    }
   ],
   "source": [
    "keys =['a','b','c','d']  # creating    a dict from a sequence of keys\n",
    "mydict7 = dict.fromkeys(keys)\n",
    "mydict7"
   ]
  },
  {
   "cell_type": "code",
   "execution_count": 46,
   "id": "19c8db8a-5e39-43ad-b1bb-33b05e2846ac",
   "metadata": {},
   "outputs": [
    {
     "data": {
      "text/plain": [
       "{'a': None, 'b': None, 'c': None, 'd': None}"
      ]
     },
     "execution_count": 46,
     "metadata": {},
     "output_type": "execute_result"
    }
   ],
   "source": [
    "a =['a','b','c','d']  # creating    a dict from a sequence of keys\n",
    "mydict7 = dict.fromkeys(a)\n",
    "mydict7"
   ]
  },
  {
   "cell_type": "code",
   "execution_count": 48,
   "id": "556bfd5f-8bf6-4c86-959d-c81cf9471a4e",
   "metadata": {},
   "outputs": [
    {
     "data": {
      "text/plain": [
       "{'a': [1, 2, 3, 4], 'b': [1, 2, 3, 4], 'c': [1, 2, 3, 4], 'd': [1, 2, 3, 4]}"
      ]
     },
     "execution_count": 48,
     "metadata": {},
     "output_type": "execute_result"
    }
   ],
   "source": [
    "b =['a','b','c','d']  # creating    a dict from a sequence of keys\n",
    "values = [1,2,3,4]\n",
    "mydict8 = dict.fromkeys(a,values)\n",
    "mydict8"
   ]
  },
  {
   "cell_type": "code",
   "execution_count": 50,
   "id": "11795c05-6a44-4e8e-a38b-9e010e57bd36",
   "metadata": {},
   "outputs": [],
   "source": [
    "values.append(50)"
   ]
  },
  {
   "cell_type": "code",
   "execution_count": 52,
   "id": "274db4fe-ac7f-42b3-82bf-a44c6f976b87",
   "metadata": {},
   "outputs": [
    {
     "data": {
      "text/plain": [
       "{'a': [1, 2, 3, 4, 50],\n",
       " 'b': [1, 2, 3, 4, 50],\n",
       " 'c': [1, 2, 3, 4, 50],\n",
       " 'd': [1, 2, 3, 4, 50]}"
      ]
     },
     "execution_count": 52,
     "metadata": {},
     "output_type": "execute_result"
    }
   ],
   "source": [
    "mydict8"
   ]
  },
  {
   "cell_type": "markdown",
   "id": "17365cbc-7bd0-4dd4-b658-5de802e29c6f",
   "metadata": {},
   "source": [
    "## accessing the items"
   ]
  },
  {
   "cell_type": "code",
   "execution_count": 55,
   "id": "c142ba56-4b9f-4b0e-9021-be6934722ae1",
   "metadata": {},
   "outputs": [
    {
     "data": {
      "text/plain": [
       "{'a': [1, 2, 3, 4, 50],\n",
       " 'b': [1, 2, 3, 4, 50],\n",
       " 'c': [1, 2, 3, 4, 50],\n",
       " 'd': [1, 2, 3, 4, 50]}"
      ]
     },
     "execution_count": 55,
     "metadata": {},
     "output_type": "execute_result"
    }
   ],
   "source": [
    "mydict8"
   ]
  },
  {
   "cell_type": "code",
   "execution_count": 59,
   "id": "92c042f3-2ec7-4e93-8390-86ffef9b4ef0",
   "metadata": {},
   "outputs": [
    {
     "data": {
      "text/plain": [
       "[1, 2, 3, 4, 50]"
      ]
     },
     "execution_count": 59,
     "metadata": {},
     "output_type": "execute_result"
    }
   ],
   "source": [
    "mydict8['a']  # access item using key"
   ]
  },
  {
   "cell_type": "code",
   "execution_count": 61,
   "id": "31a012c1-641b-4ae2-aedc-1dfd1b8bd7f5",
   "metadata": {},
   "outputs": [
    {
     "data": {
      "text/plain": [
       "[1, 2, 3, 4, 50]"
      ]
     },
     "execution_count": 61,
     "metadata": {},
     "output_type": "execute_result"
    }
   ],
   "source": [
    "mydict8.get('b')  # access item using get method"
   ]
  },
  {
   "cell_type": "markdown",
   "id": "51c46fb1-4c3a-4aff-977c-8d5677d4a6d7",
   "metadata": {},
   "source": [
    "## add remove change items"
   ]
  },
  {
   "cell_type": "code",
   "execution_count": 65,
   "id": "1e616405-b057-4b6b-876d-0ee4f42d07e2",
   "metadata": {},
   "outputs": [
    {
     "ename": "KeyError",
     "evalue": "1",
     "output_type": "error",
     "traceback": [
      "\u001b[1;31m---------------------------------------------------------------------------\u001b[0m",
      "\u001b[1;31mKeyError\u001b[0m                                  Traceback (most recent call last)",
      "Cell \u001b[1;32mIn[65], line 1\u001b[0m\n\u001b[1;32m----> 1\u001b[0m \u001b[43mmydict8\u001b[49m\u001b[43m[\u001b[49m\u001b[38;5;241;43m1\u001b[39;49m\u001b[43m]\u001b[49m\n",
      "\u001b[1;31mKeyError\u001b[0m: 1"
     ]
    }
   ],
   "source": [
    "mydict8[1]"
   ]
  },
  {
   "cell_type": "code",
   "execution_count": 67,
   "id": "e9be2818-28d4-41ae-b239-b7d53fb02512",
   "metadata": {},
   "outputs": [
    {
     "data": {
      "text/plain": [
       "{'a': [1, 2, 3, 4, 50],\n",
       " 'b': [1, 2, 3, 4, 50],\n",
       " 'c': [1, 2, 3, 4, 50],\n",
       " 'd': [1, 2, 3, 4, 50]}"
      ]
     },
     "execution_count": 67,
     "metadata": {},
     "output_type": "execute_result"
    }
   ],
   "source": [
    "mydict8"
   ]
  },
  {
   "cell_type": "code",
   "execution_count": 69,
   "id": "5b9708ac-94be-4974-bdfa-f8db7340c4d6",
   "metadata": {},
   "outputs": [
    {
     "data": {
      "text/plain": [
       "[1, 2, 3, 4, 50]"
      ]
     },
     "execution_count": 69,
     "metadata": {},
     "output_type": "execute_result"
    }
   ],
   "source": [
    "mydict8['d']"
   ]
  },
  {
   "cell_type": "code",
   "execution_count": 71,
   "id": "dbf5e8e5-85f4-4ec3-a4cc-e617370a6cbe",
   "metadata": {},
   "outputs": [],
   "source": [
    "mydict8['d'] = 5\n",
    "mydict8['e'] = 6"
   ]
  },
  {
   "cell_type": "code",
   "execution_count": 73,
   "id": "a4752788-69c6-4555-bade-32dd39450d40",
   "metadata": {},
   "outputs": [
    {
     "data": {
      "text/plain": [
       "{'a': [1, 2, 3, 4, 50],\n",
       " 'b': [1, 2, 3, 4, 50],\n",
       " 'c': [1, 2, 3, 4, 50],\n",
       " 'd': 5,\n",
       " 'e': 6}"
      ]
     },
     "execution_count": 73,
     "metadata": {},
     "output_type": "execute_result"
    }
   ],
   "source": [
    "mydict8"
   ]
  },
  {
   "cell_type": "code",
   "execution_count": 75,
   "id": "a6f7d41a-3a86-46f1-863c-38e2d4f09441",
   "metadata": {},
   "outputs": [],
   "source": [
    "mydict9={'f':76}"
   ]
  },
  {
   "cell_type": "code",
   "execution_count": 79,
   "id": "19206035-1e00-4aee-b196-512508fbf230",
   "metadata": {},
   "outputs": [],
   "source": [
    "mydict8.update(mydict9)"
   ]
  },
  {
   "cell_type": "code",
   "execution_count": 81,
   "id": "c3523ada-607c-41d6-bfe0-572e9a708989",
   "metadata": {},
   "outputs": [
    {
     "data": {
      "text/plain": [
       "{'a': [1, 2, 3, 4, 50],\n",
       " 'b': [1, 2, 3, 4, 50],\n",
       " 'c': [1, 2, 3, 4, 50],\n",
       " 'd': 5,\n",
       " 'e': 6,\n",
       " 'f': 76}"
      ]
     },
     "execution_count": 81,
     "metadata": {},
     "output_type": "execute_result"
    }
   ],
   "source": [
    "mydict8"
   ]
  },
  {
   "cell_type": "code",
   "execution_count": 83,
   "id": "9676552f-dea0-4727-acb5-18bfa4236866",
   "metadata": {},
   "outputs": [
    {
     "data": {
      "text/plain": [
       "('f', 76)"
      ]
     },
     "execution_count": 83,
     "metadata": {},
     "output_type": "execute_result"
    }
   ],
   "source": [
    "mydict9.popitem()"
   ]
  },
  {
   "cell_type": "code",
   "execution_count": 87,
   "id": "a57aa50a-18d7-4141-8f82-7ebf8bb22a3d",
   "metadata": {},
   "outputs": [
    {
     "data": {
      "text/plain": [
       "[1, 2, 3, 4, 50]"
      ]
     },
     "execution_count": 87,
     "metadata": {},
     "output_type": "execute_result"
    }
   ],
   "source": [
    "mydict8.pop('b')"
   ]
  },
  {
   "cell_type": "code",
   "execution_count": 91,
   "id": "5d37abce-afc5-4edd-969e-f4c6bea0693b",
   "metadata": {},
   "outputs": [],
   "source": [
    " del  mydict8['c']"
   ]
  },
  {
   "cell_type": "code",
   "execution_count": 93,
   "id": "e9bd0984-2e87-4e0d-bd3e-9e1ef3526614",
   "metadata": {},
   "outputs": [
    {
     "data": {
      "text/plain": [
       "{'a': [1, 2, 3, 4, 50], 'd': 5, 'e': 6, 'f': 76}"
      ]
     },
     "execution_count": 93,
     "metadata": {},
     "output_type": "execute_result"
    }
   ],
   "source": [
    "mydict8"
   ]
  },
  {
   "cell_type": "code",
   "execution_count": 95,
   "id": "266df406-b811-4686-8134-df1725c5f1ae",
   "metadata": {},
   "outputs": [],
   "source": [
    "mydict8.clear()"
   ]
  },
  {
   "cell_type": "code",
   "execution_count": 97,
   "id": "023e51c8-4ab9-4bff-9013-492852bc60d7",
   "metadata": {},
   "outputs": [
    {
     "data": {
      "text/plain": [
       "{}"
      ]
     },
     "execution_count": 97,
     "metadata": {},
     "output_type": "execute_result"
    }
   ],
   "source": [
    "mydict8"
   ]
  },
  {
   "cell_type": "code",
   "execution_count": 99,
   "id": "3e7a4620-0418-47c2-8fb8-5cead413a845",
   "metadata": {},
   "outputs": [],
   "source": [
    "del mydict8"
   ]
  },
  {
   "cell_type": "code",
   "execution_count": 101,
   "id": "0b62579e-01d1-4bd5-987b-d9e8e967d1de",
   "metadata": {},
   "outputs": [
    {
     "ename": "NameError",
     "evalue": "name 'mydict8' is not defined",
     "output_type": "error",
     "traceback": [
      "\u001b[1;31m---------------------------------------------------------------------------\u001b[0m",
      "\u001b[1;31mNameError\u001b[0m                                 Traceback (most recent call last)",
      "Cell \u001b[1;32mIn[101], line 1\u001b[0m\n\u001b[1;32m----> 1\u001b[0m \u001b[43mmydict8\u001b[49m\n",
      "\u001b[1;31mNameError\u001b[0m: name 'mydict8' is not defined"
     ]
    }
   ],
   "source": [
    "mydict8"
   ]
  },
  {
   "cell_type": "code",
   "execution_count": 103,
   "id": "be46db0f-6e03-4d29-b964-28a5c5bbf642",
   "metadata": {},
   "outputs": [
    {
     "data": {
      "text/plain": [
       "{'a': None, 'b': None, 'c': None, 'd': None}"
      ]
     },
     "execution_count": 103,
     "metadata": {},
     "output_type": "execute_result"
    }
   ],
   "source": [
    "mydict7"
   ]
  },
  {
   "cell_type": "code",
   "execution_count": 105,
   "id": "6c4c537b-ad85-499e-a27b-a8f9d58de069",
   "metadata": {},
   "outputs": [
    {
     "data": {
      "text/plain": [
       "{'a': None, 'b': None, 'c': None, 'd': None}"
      ]
     },
     "execution_count": 105,
     "metadata": {},
     "output_type": "execute_result"
    }
   ],
   "source": [
    "mydict7"
   ]
  },
  {
   "cell_type": "markdown",
   "id": "959f8aa1-0b42-4e5b-9957-b15e413cdbee",
   "metadata": {},
   "source": [
    "## copy "
   ]
  },
  {
   "cell_type": "code",
   "execution_count": 108,
   "id": "4e02dadb-e4a9-470b-8763-919e3ce33a73",
   "metadata": {},
   "outputs": [],
   "source": [
    "mydict8 = mydict7"
   ]
  },
  {
   "cell_type": "code",
   "execution_count": 110,
   "id": "b4b7b77a-da70-4996-9b09-8a3267b8223e",
   "metadata": {},
   "outputs": [
    {
     "data": {
      "text/plain": [
       "{'a': None, 'b': None, 'c': None, 'd': None}"
      ]
     },
     "execution_count": 110,
     "metadata": {},
     "output_type": "execute_result"
    }
   ],
   "source": [
    "mydict8"
   ]
  },
  {
   "cell_type": "code",
   "execution_count": 112,
   "id": "438baab5-5225-4258-8903-fff657db2636",
   "metadata": {},
   "outputs": [
    {
     "data": {
      "text/plain": [
       "(2054797424448, 2054797424448)"
      ]
     },
     "execution_count": 112,
     "metadata": {},
     "output_type": "execute_result"
    }
   ],
   "source": [
    "id(mydict7), id(mydict8)"
   ]
  },
  {
   "cell_type": "code",
   "execution_count": 114,
   "id": "1349a946-b33d-4728-b336-c13b0499f2ae",
   "metadata": {},
   "outputs": [
    {
     "data": {
      "text/plain": [
       "{'a': None, 'b': None, 'c': None, 'd': None}"
      ]
     },
     "execution_count": 114,
     "metadata": {},
     "output_type": "execute_result"
    }
   ],
   "source": [
    "mydict9 = mydict8.copy()\n",
    "mydict9"
   ]
  },
  {
   "cell_type": "code",
   "execution_count": 116,
   "id": "1f85fbdb-a223-4b05-9c01-d89cf46a5109",
   "metadata": {},
   "outputs": [],
   "source": [
    "mydict7['f']=10"
   ]
  },
  {
   "cell_type": "code",
   "execution_count": 118,
   "id": "1779f251-48ba-4f96-a7f0-78db578b0e90",
   "metadata": {},
   "outputs": [
    {
     "data": {
      "text/plain": [
       "{'a': None, 'b': None, 'c': None, 'd': None, 'f': 10}"
      ]
     },
     "execution_count": 118,
     "metadata": {},
     "output_type": "execute_result"
    }
   ],
   "source": [
    "mydict8"
   ]
  },
  {
   "cell_type": "code",
   "execution_count": 120,
   "id": "639461dd-42fe-45b9-93f1-08ff59e4f2fe",
   "metadata": {},
   "outputs": [
    {
     "data": {
      "text/plain": [
       "{'a': None, 'b': None, 'c': None, 'd': None}"
      ]
     },
     "execution_count": 120,
     "metadata": {},
     "output_type": "execute_result"
    }
   ],
   "source": [
    "mydict9"
   ]
  },
  {
   "cell_type": "code",
   "execution_count": 122,
   "id": "e1ea4875-b921-41d0-8e46-99380516723f",
   "metadata": {},
   "outputs": [
    {
     "name": "stdout",
     "output_type": "stream",
     "text": [
      "a\n",
      "b\n",
      "c\n",
      "d\n",
      "f\n"
     ]
    }
   ],
   "source": [
    "## Loop through the values innthe dictionary\n",
    "for i in mydict7:\n",
    "    print(i)"
   ]
  },
  {
   "cell_type": "code",
   "execution_count": 124,
   "id": "043b2f5c-d073-4eb3-b6e2-442740410f34",
   "metadata": {},
   "outputs": [
    {
     "name": "stdout",
     "output_type": "stream",
     "text": [
      "a : None\n",
      "b : None\n",
      "c : None\n",
      "d : None\n",
      "f : 10\n"
     ]
    }
   ],
   "source": [
    "for i in mydict7:\n",
    "    print(i, ':',mydict7[i])"
   ]
  },
  {
   "cell_type": "code",
   "execution_count": 128,
   "id": "d738af40-e3e7-4fa5-a756-99efb87f737a",
   "metadata": {},
   "outputs": [
    {
     "name": "stdout",
     "output_type": "stream",
     "text": [
      "('a', None)\n",
      "('b', None)\n",
      "('c', None)\n",
      "('d', None)\n",
      "('f', 10)\n"
     ]
    }
   ],
   "source": [
    "for i in mydict8.items():\n",
    "    print(i)"
   ]
  },
  {
   "cell_type": "code",
   "execution_count": 130,
   "id": "ae2e8058-20a9-4fda-b69f-4a00fb6f91fc",
   "metadata": {},
   "outputs": [
    {
     "name": "stdout",
     "output_type": "stream",
     "text": [
      "a\n",
      "b\n",
      "c\n",
      "d\n",
      "f\n"
     ]
    }
   ],
   "source": [
    "for i in mydict8.keys():\n",
    "    print(i)"
   ]
  },
  {
   "cell_type": "code",
   "execution_count": 132,
   "id": "88b97cd1-dcb1-4afa-af2a-5baaae55e070",
   "metadata": {},
   "outputs": [
    {
     "name": "stdout",
     "output_type": "stream",
     "text": [
      "None\n",
      "None\n",
      "None\n",
      "None\n",
      "10\n"
     ]
    }
   ],
   "source": [
    "for i in mydict8.values():\n",
    "    print(i)"
   ]
  },
  {
   "cell_type": "markdown",
   "id": "a0ec32ad-dcf0-48e6-ab51-d0f0469f7ec9",
   "metadata": {},
   "source": [
    "## all any"
   ]
  },
  {
   "cell_type": "code",
   "execution_count": 135,
   "id": "3299ce16-292a-40e8-926b-c0bed5fe35c3",
   "metadata": {},
   "outputs": [
    {
     "data": {
      "text/plain": [
       "True"
      ]
     },
     "execution_count": 135,
     "metadata": {},
     "output_type": "execute_result"
    }
   ],
   "source": [
    "all(mydict8)"
   ]
  },
  {
   "cell_type": "code",
   "execution_count": 137,
   "id": "c7f121b9-e904-44bd-92ee-a51c03e21156",
   "metadata": {},
   "outputs": [
    {
     "data": {
      "text/plain": [
       "True"
      ]
     },
     "execution_count": 137,
     "metadata": {},
     "output_type": "execute_result"
    }
   ],
   "source": [
    "any(mydict7)"
   ]
  }
 ],
 "metadata": {
  "kernelspec": {
   "display_name": "Python 3 (ipykernel)",
   "language": "python",
   "name": "python3"
  },
  "language_info": {
   "codemirror_mode": {
    "name": "ipython",
    "version": 3
   },
   "file_extension": ".py",
   "mimetype": "text/x-python",
   "name": "python",
   "nbconvert_exporter": "python",
   "pygments_lexer": "ipython3",
   "version": "3.12.4"
  }
 },
 "nbformat": 4,
 "nbformat_minor": 5
}
