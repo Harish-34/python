{
 "cells": [
  {
   "cell_type": "code",
   "execution_count": 1,
   "id": "64e97668-012c-4a73-974f-7c501a88f1fb",
   "metadata": {},
   "outputs": [
    {
     "name": "stdout",
     "output_type": "stream",
     "text": [
      "Data Science\n"
     ]
    }
   ],
   "source": [
    "# logigcal\n",
    "if True:\n",
    "    print('Data Science')"
   ]
  },
  {
   "cell_type": "code",
   "execution_count": 3,
   "id": "273c1bef-5593-4d41-abe9-cc9e719432b0",
   "metadata": {},
   "outputs": [],
   "source": [
    "if False:\n",
    "    print('Nothing')"
   ]
  },
  {
   "cell_type": "code",
   "execution_count": 5,
   "id": "9d87186d-5cf1-4d52-9e62-6b627b2fab19",
   "metadata": {},
   "outputs": [
    {
     "name": "stdout",
     "output_type": "stream",
     "text": [
      "Good\n"
     ]
    }
   ],
   "source": [
    "if False:\n",
    "    print('DS')\n",
    "print('Good')"
   ]
  },
  {
   "cell_type": "code",
   "execution_count": 7,
   "id": "4473e290-13b0-40d5-8f14-dc814e0f0df9",
   "metadata": {},
   "outputs": [
    {
     "name": "stdout",
     "output_type": "stream",
     "text": [
      "DS\n"
     ]
    }
   ],
   "source": [
    "#if else\n",
    "if True:\n",
    "    print('DS')\n",
    "else:\n",
    "    print('Engg')"
   ]
  },
  {
   "cell_type": "code",
   "execution_count": 21,
   "id": "4d99d7f2-5494-44b9-aa96-fe44233d9a1e",
   "metadata": {},
   "outputs": [
    {
     "name": "stdin",
     "output_type": "stream",
     "text": [
      "Enter a number:  10\n"
     ]
    },
    {
     "name": "stdout",
     "output_type": "stream",
     "text": [
      "10 is even number\n"
     ]
    }
   ],
   "source": [
    "# number divisible by 2\n",
    "x = int(input('Enter a number: '))\n",
    "if x%2 ==0:\n",
    "    print(f'{x} is even number')\n",
    "else:\n",
    "    print(f'{x} is odd number')"
   ]
  },
  {
   "cell_type": "code",
   "execution_count": 25,
   "id": "d0653ffa-546a-4a0b-a63a-f01a511c3812",
   "metadata": {},
   "outputs": [
    {
     "name": "stdin",
     "output_type": "stream",
     "text": [
      "Enter anu number:  20\n"
     ]
    },
    {
     "name": "stdout",
     "output_type": "stream",
     "text": [
      "20 is positive even number\n"
     ]
    }
   ],
   "source": [
    "# print +ve even number\n",
    "x = int(input('Enter anu number: '))\n",
    "if x<0:\n",
    "    print(f'{x} is a negitive number')\n",
    "elif x==0:\n",
    "    print(f'{x} is null')\n",
    "elif x>0 and x%2==0:\n",
    "    print(f'{x} is positive even number')\n",
    "else:\n",
    "    print(f'{x} is positive odd number')"
   ]
  },
  {
   "cell_type": "code",
   "execution_count": null,
   "id": "16f31dd5-5ed5-4e83-b7c0-bc07b296757c",
   "metadata": {},
   "outputs": [],
   "source": []
  }
 ],
 "metadata": {
  "kernelspec": {
   "display_name": "Python 3 (ipykernel)",
   "language": "python",
   "name": "python3"
  },
  "language_info": {
   "codemirror_mode": {
    "name": "ipython",
    "version": 3
   },
   "file_extension": ".py",
   "mimetype": "text/x-python",
   "name": "python",
   "nbconvert_exporter": "python",
   "pygments_lexer": "ipython3",
   "version": "3.12.4"
  }
 },
 "nbformat": 4,
 "nbformat_minor": 5
}
