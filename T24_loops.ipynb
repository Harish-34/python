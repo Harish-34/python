{
 "cells": [
  {
   "cell_type": "code",
   "execution_count": 2,
   "id": "8df8e2ad-7578-414e-a47c-63e7cd0db81a",
   "metadata": {},
   "outputs": [
    {
     "name": "stdout",
     "output_type": "stream",
     "text": [
      "0 1 2 0 2 4 "
     ]
    }
   ],
   "source": [
    "#loops\n",
    "i=1\n",
    "\n",
    "while i <=2:\n",
    "    j = 0\n",
    "    while j <= 2:\n",
    "        print(i*j, end=' ')\n",
    "        j+=1\n",
    "    i+=1"
   ]
  },
  {
   "cell_type": "code",
   "execution_count": 18,
   "id": "ab7ecd14-4084-4819-868e-e37bcd1cae90",
   "metadata": {},
   "outputs": [
    {
     "name": "stdout",
     "output_type": "stream",
     "text": [
      "0 1 2 3 4 0 2 4 6 8 0 3 6 9 12 "
     ]
    }
   ],
   "source": [
    "#loops\n",
    "i=1\n",
    "while i <=3:\n",
    "    j = 0\n",
    "    while j <= 4:\n",
    "        print(i*j, end=' ')\n",
    "        j+=1\n",
    "    i+=1"
   ]
  },
  {
   "cell_type": "code",
   "execution_count": 6,
   "id": "0cd7fea3-4273-4c1e-afbc-2f5bd8297371",
   "metadata": {},
   "outputs": [
    {
     "name": "stdout",
     "output_type": "stream",
     "text": [
      "1\n",
      "2\n",
      "3\n",
      "4\n",
      "5\n",
      "6\n",
      "7\n",
      "8\n",
      "9\n",
      "10\n",
      "11\n",
      "12\n",
      "13\n",
      "14\n",
      "15\n",
      "16\n",
      "17\n",
      "18\n",
      "19\n",
      "20\n"
     ]
    }
   ],
   "source": [
    "for i in range(1,21):\n",
    "    print(i)"
   ]
  },
  {
   "cell_type": "code",
   "execution_count": 10,
   "id": "1148aba1-8abd-43a9-8dcb-c1bce16043fa",
   "metadata": {},
   "outputs": [
    {
     "name": "stdout",
     "output_type": "stream",
     "text": [
      "0\n",
      "5\n",
      "10\n",
      "15\n"
     ]
    }
   ],
   "source": [
    "for i in range(20):\n",
    "    if i%5==0:\n",
    "        print(i)"
   ]
  },
  {
   "cell_type": "code",
   "execution_count": 14,
   "id": "52e46ded-7535-4b4f-a19b-6ffae9377a7d",
   "metadata": {},
   "outputs": [
    {
     "name": "stdout",
     "output_type": "stream",
     "text": [
      "n\n",
      "i\n",
      "t\n"
     ]
    }
   ],
   "source": [
    "a = 'nit'\n",
    "for letter in a:\n",
    "    print(letter)"
   ]
  },
  {
   "cell_type": "code",
   "execution_count": 16,
   "id": "a6af4f96-d8a0-4e33-a567-71d1a31d9e71",
   "metadata": {},
   "outputs": [
    {
     "name": "stdout",
     "output_type": "stream",
     "text": [
      "1\n",
      "2\n",
      "3\n",
      "4\n",
      "5\n"
     ]
    }
   ],
   "source": [
    "#break continue pass\n",
    "for i in range(1,11):\n",
    "    if i==6:\n",
    "        break\n",
    "    print(i)"
   ]
  },
  {
   "cell_type": "code",
   "execution_count": 20,
   "id": "5ac6d2c3-55ba-4183-af3f-b7b009ae84ab",
   "metadata": {},
   "outputs": [
    {
     "name": "stdout",
     "output_type": "stream",
     "text": [
      "1\n",
      "2\n",
      "3\n",
      "4\n",
      "5\n",
      "7\n",
      "8\n",
      "9\n",
      "10\n"
     ]
    }
   ],
   "source": [
    "#break continue pass\n",
    "for i in range(1,11):\n",
    "    if i==6:\n",
    "        continue\n",
    "    print(i)"
   ]
  },
  {
   "cell_type": "code",
   "execution_count": 24,
   "id": "c2210a59-efa4-41d4-be48-b7198ad6e2d4",
   "metadata": {},
   "outputs": [
    {
     "name": "stdout",
     "output_type": "stream",
     "text": [
      "hello: 1\n",
      "hello: 2\n",
      "hello: 3\n",
      "hello: 4\n",
      "hello: 5\n",
      "hello: 7\n",
      "hello: 8\n",
      "hello: 9\n",
      "hello: 10\n"
     ]
    }
   ],
   "source": [
    "#break continue pass\n",
    "for i in range(1,11):\n",
    "    if i==6:\n",
    "        continue\n",
    "    print(\"hello:\",i)"
   ]
  },
  {
   "cell_type": "code",
   "execution_count": 28,
   "id": "db2ff970-770a-4e2f-a79f-c37077b39402",
   "metadata": {},
   "outputs": [],
   "source": [
    "#break continue pass\n",
    "for i in range(1,11):\n",
    "    pass\n",
    "    #print(i)"
   ]
  }
 ],
 "metadata": {
  "kernelspec": {
   "display_name": "Python 3 (ipykernel)",
   "language": "python",
   "name": "python3"
  },
  "language_info": {
   "codemirror_mode": {
    "name": "ipython",
    "version": 3
   },
   "file_extension": ".py",
   "mimetype": "text/x-python",
   "name": "python",
   "nbconvert_exporter": "python",
   "pygments_lexer": "ipython3",
   "version": "3.12.4"
  }
 },
 "nbformat": 4,
 "nbformat_minor": 5
}
