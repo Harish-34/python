{
 "cells": [
  {
   "cell_type": "markdown",
   "id": "6e2b79b1-1ab4-4800-9093-6e2f369aeae7",
   "metadata": {},
   "source": [
    "# 1. right angle triangle pattern"
   ]
  },
  {
   "cell_type": "code",
   "execution_count": 5,
   "id": "14aac27c-308b-43f5-a523-2dc266e8196e",
   "metadata": {},
   "outputs": [
    {
     "name": "stdout",
     "output_type": "stream",
     "text": [
      "\n",
      "* \n",
      "* * \n",
      "* * * \n",
      "* * * * \n",
      "* * * * * \n"
     ]
    }
   ],
   "source": [
    "for i in range(6):\n",
    "    print(i* \"* \")"
   ]
  },
  {
   "cell_type": "markdown",
   "id": "5f6fcec6-b658-4ee9-bcbf-e08a12bdbefe",
   "metadata": {},
   "source": [
    "# 2. Inverted right angle triangle pattern"
   ]
  },
  {
   "cell_type": "code",
   "execution_count": 16,
   "id": "2ba27a0c-6a20-491d-838f-91be560797f2",
   "metadata": {},
   "outputs": [
    {
     "name": "stdout",
     "output_type": "stream",
     "text": [
      "* * * * * * \n",
      "* * * * * \n",
      "* * * * \n",
      "* * * \n",
      "* * \n",
      "* \n"
     ]
    }
   ],
   "source": [
    "for i in range(6,0,-1):\n",
    "    print(i* \"* \")"
   ]
  },
  {
   "cell_type": "markdown",
   "id": "c0e9ef66-f540-4743-ab2d-7ca77d12832b",
   "metadata": {},
   "source": [
    "# 3. pyramid pattern"
   ]
  },
  {
   "cell_type": "code",
   "execution_count": 52,
   "id": "808b1992-f66a-4044-b21b-518b4fdeee43",
   "metadata": {},
   "outputs": [
    {
     "name": "stdout",
     "output_type": "stream",
     "text": [
      "      \n",
      "     * \n",
      "    * * \n",
      "   * * * \n",
      "  * * * * \n",
      " * * * * * \n"
     ]
    }
   ],
   "source": [
    "j=6\n",
    "for i in range(0,6):\n",
    "    print(j*\" \"+ i* \"* \")\n",
    "    j-=1"
   ]
  },
  {
   "cell_type": "markdown",
   "id": "f7666798-8d2a-4dc0-b085-3156131ecff4",
   "metadata": {},
   "source": [
    "# 4. Inverted Pyramid Pattern"
   ]
  },
  {
   "cell_type": "code",
   "execution_count": 50,
   "id": "6506d81b-8d63-465a-b77f-c38a8f890d34",
   "metadata": {},
   "outputs": [
    {
     "name": "stdout",
     "output_type": "stream",
     "text": [
      "* * * * * * \n",
      " * * * * * \n",
      "  * * * * \n",
      "   * * * \n",
      "    * * \n",
      "     * \n"
     ]
    }
   ],
   "source": [
    "j=6\n",
    "for i in range(0,6):\n",
    "    print(i*\" \"+ j* \"* \")\n",
    "    j-=1"
   ]
  },
  {
   "cell_type": "markdown",
   "id": "e069fd7c-2e2d-48c4-9522-d5ee12968e23",
   "metadata": {},
   "source": [
    "# 5.Diamond Pattern"
   ]
  },
  {
   "cell_type": "code",
   "execution_count": 54,
   "id": "8a4bff2a-d776-4493-9b10-cdf56d74a3e4",
   "metadata": {},
   "outputs": [
    {
     "name": "stdout",
     "output_type": "stream",
     "text": [
      "      \n",
      "     * \n",
      "    * * \n",
      "   * * * \n",
      "  * * * * \n",
      " * * * * * \n",
      "* * * * * * \n",
      " * * * * * \n",
      "  * * * * \n",
      "   * * * \n",
      "    * * \n",
      "     * \n"
     ]
    }
   ],
   "source": [
    "j=6\n",
    "for i in range(0,6):\n",
    "    print(j*\" \"+ i* \"* \")\n",
    "    j-=1\n",
    "    \n",
    "j=6\n",
    "for i in range(0,6):\n",
    "    print(i*\" \"+ j* \"* \")\n",
    "    j-=1"
   ]
  },
  {
   "cell_type": "markdown",
   "id": "9e94d4b7-9819-427b-93b7-c08535445e64",
   "metadata": {},
   "source": [
    "# 6.Hallow Square pattern"
   ]
  },
  {
   "cell_type": "code",
   "execution_count": 79,
   "id": "32574918-e298-49c3-bfce-c5b641ce2589",
   "metadata": {},
   "outputs": [
    {
     "name": "stdout",
     "output_type": "stream",
     "text": [
      "* * * * * * \n",
      "*         * \n",
      "*         * \n",
      "*         * \n",
      "*         * \n",
      "* * * * * * \n"
     ]
    }
   ],
   "source": [
    "a=1\n",
    "b=7\n",
    "for i in range(a,b):\n",
    "    if i==a or i==b-1:\n",
    "        print((b-a)*'* ')\n",
    "    else:\n",
    "        print(\"*\"+(b+2)*\" \"+\"* \")"
   ]
  },
  {
   "cell_type": "markdown",
   "id": "cba358f2-68e2-42cc-bde4-0fb18b7e5af1",
   "metadata": {},
   "source": [
    "# 7.Full Square pattern"
   ]
  },
  {
   "cell_type": "code",
   "execution_count": 82,
   "id": "71134366-6ba8-4809-aae7-fcc7ea3ecd32",
   "metadata": {},
   "outputs": [
    {
     "name": "stdout",
     "output_type": "stream",
     "text": [
      "* * * * * * * \n",
      "* * * * * * * \n",
      "* * * * * * * \n",
      "* * * * * * * \n",
      "* * * * * * * \n",
      "* * * * * * * \n",
      "* * * * * * * \n"
     ]
    }
   ],
   "source": [
    "a=7\n",
    "for i in range(0,7):\n",
    "    print(\"* \"*a)"
   ]
  },
  {
   "cell_type": "markdown",
   "id": "4dfb064a-e1b6-4989-abc9-165fe6f7cfa6",
   "metadata": {},
   "source": [
    "# 8. Right angle triangle (Number Pattern)"
   ]
  },
  {
   "cell_type": "code",
   "execution_count": 87,
   "id": "f91c68a5-1e7c-477a-a136-00b30aa217c4",
   "metadata": {},
   "outputs": [
    {
     "name": "stdout",
     "output_type": "stream",
     "text": [
      "\n",
      "1 \n",
      "2 2 \n",
      "3 3 3 \n",
      "4 4 4 4 \n",
      "5 5 5 5 5 \n"
     ]
    }
   ],
   "source": [
    "for i in range(6):\n",
    "    print(i* (str(i)+\" \"))"
   ]
  },
  {
   "cell_type": "markdown",
   "id": "d40aebab-295d-4f32-9e78-b3dbe1b55f23",
   "metadata": {},
   "source": [
    "# 9. Inverted right angle triangle pattern"
   ]
  },
  {
   "cell_type": "code",
   "execution_count": 90,
   "id": "6cd1478f-9355-499e-b211-ffb14d123e2a",
   "metadata": {},
   "outputs": [
    {
     "name": "stdout",
     "output_type": "stream",
     "text": [
      "6 6 6 6 6 6 \n",
      "5 5 5 5 5 \n",
      "4 4 4 4 \n",
      "3 3 3 \n",
      "2 2 \n",
      "1 \n"
     ]
    }
   ],
   "source": [
    "for i in range(6,0,-1):\n",
    "    print(i* (str(i)+\" \"))"
   ]
  },
  {
   "cell_type": "markdown",
   "id": "0b730127-defc-40ef-b870-76990f5c94e0",
   "metadata": {},
   "source": [
    "# 10.Floyds triangle"
   ]
  },
  {
   "cell_type": "code",
   "execution_count": 111,
   "id": "14701c0c-6ece-43a0-b666-2d79d4b39bff",
   "metadata": {},
   "outputs": [
    {
     "name": "stdout",
     "output_type": "stream",
     "text": [
      "1 \n",
      "2 3 \n",
      "4 5 6 \n",
      "7 8 9 10 \n",
      "11 12 13 14 15 \n"
     ]
    }
   ],
   "source": [
    "a=1\n",
    "for i in range(1,6):\n",
    "    for j in range(0,i):\n",
    "        print(a,end =\" \")\n",
    "        a+=1\n",
    "    print()"
   ]
  },
  {
   "cell_type": "markdown",
   "id": "3c77bc45-427c-4547-91fa-2fe304d9dc22",
   "metadata": {},
   "source": [
    "# 11.Hallow right angle triangle"
   ]
  },
  {
   "cell_type": "code",
   "execution_count": 142,
   "id": "faa42b08-1879-414d-8cd9-174d73b201c8",
   "metadata": {},
   "outputs": [
    {
     "name": "stdout",
     "output_type": "stream",
     "text": [
      "1\n",
      "22\n",
      "3 3\n",
      "4  4\n",
      "5   5\n",
      "6    6\n",
      "7     7\n",
      "8      8\n",
      "999999999\n"
     ]
    }
   ],
   "source": [
    "num=1\n",
    "start=1\n",
    "end=10\n",
    "for i in range(start,end):\n",
    "    if i==start or i== (end-1):\n",
    "        print(i* str(i) )\n",
    "    else:\n",
    "        print( str(i)+ (num-1)* \" \" + str(i))\n",
    "        num+=1"
   ]
  },
  {
   "cell_type": "markdown",
   "id": "d2010f28-0148-47dc-9f92-f231ee0db11e",
   "metadata": {},
   "source": [
    "# 12. Hallow pyramid pattern"
   ]
  },
  {
   "cell_type": "code",
   "execution_count": 32,
   "id": "0128e51d-18b7-4773-ae54-064ad47a27fd",
   "metadata": {},
   "outputs": [
    {
     "name": "stdout",
     "output_type": "stream",
     "text": [
      "         *\n",
      "        *  *\n",
      "       *   *\n",
      "      *    *\n",
      "     *     *\n",
      "    *      *\n",
      "   *       *\n",
      "  *        *\n",
      " *         *\n",
      "*******************\n"
     ]
    }
   ],
   "source": [
    "start=1\n",
    "end=20\n",
    "\n",
    "for i in range(start,end):\n",
    "    b=int((end-i)//2)\n",
    "    if i%2!=0 and i==start:\n",
    "        print(\" \"*b+i*\"*\")\n",
    "    elif i%2!=0 and i==end-1:\n",
    "        print(i*'*')\n",
    "    elif i%2!=0:\n",
    "        print(' '*b+'* '+' '*int(i//2)+'*')\n",
    "    else:\n",
    "        pass"
   ]
  },
  {
   "cell_type": "code",
   "execution_count": null,
   "id": "033ffcff-767b-472e-b1f7-af65a6b6967f",
   "metadata": {},
   "outputs": [],
   "source": []
  }
 ],
 "metadata": {
  "kernelspec": {
   "display_name": "Python 3 (ipykernel)",
   "language": "python",
   "name": "python3"
  },
  "language_info": {
   "codemirror_mode": {
    "name": "ipython",
    "version": 3
   },
   "file_extension": ".py",
   "mimetype": "text/x-python",
   "name": "python",
   "nbconvert_exporter": "python",
   "pygments_lexer": "ipython3",
   "version": "3.12.4"
  }
 },
 "nbformat": 4,
 "nbformat_minor": 5
}
