{
 "cells": [
  {
   "cell_type": "markdown",
   "id": "3a4c0f17-4ea4-46aa-8b79-01ef3d1d9293",
   "metadata": {},
   "source": [
    "# list"
   ]
  },
  {
   "cell_type": "markdown",
   "id": "afc1bb11-ddd9-47c9-b1c2-08868a428dd8",
   "metadata": {},
   "source": [
    "## data type : user can assign only one value\n",
    "## data struture: can pass multile values"
   ]
  },
  {
   "cell_type": "code",
   "execution_count": 60,
   "id": "c1ec042e-3cbe-46b3-b399-660ecba1e272",
   "metadata": {},
   "outputs": [],
   "source": [
    "l = [10,20,30,40]"
   ]
  },
  {
   "cell_type": "markdown",
   "id": "1ed28698-7d47-4012-911e-31de45e3eada",
   "metadata": {},
   "source": [
    "## append()"
   ]
  },
  {
   "cell_type": "code",
   "execution_count": 62,
   "id": "44ecdbeb-10b8-43de-94af-e3b9261c31e9",
   "metadata": {},
   "outputs": [],
   "source": [
    "l.append(10)"
   ]
  },
  {
   "cell_type": "code",
   "execution_count": 64,
   "id": "1f55850c-4970-4bd7-9827-4c1ca2525ef6",
   "metadata": {},
   "outputs": [],
   "source": [
    "l.append(20)"
   ]
  },
  {
   "cell_type": "code",
   "execution_count": 66,
   "id": "83cb2961-9fc3-435a-bbb1-e81946bc1ecc",
   "metadata": {},
   "outputs": [],
   "source": [
    "l.append(30)"
   ]
  },
  {
   "cell_type": "code",
   "execution_count": 68,
   "id": "6eb98264-226e-4129-b1f2-632abc6001c2",
   "metadata": {},
   "outputs": [],
   "source": [
    "l.append(40)"
   ]
  },
  {
   "cell_type": "code",
   "execution_count": 70,
   "id": "17fbd9d8-1cc6-4e1a-8ad2-419ce61e7508",
   "metadata": {},
   "outputs": [
    {
     "data": {
      "text/plain": [
       "[10, 20, 30, 40, 10, 20, 30, 40]"
      ]
     },
     "execution_count": 70,
     "metadata": {},
     "output_type": "execute_result"
    }
   ],
   "source": [
    "l"
   ]
  },
  {
   "cell_type": "code",
   "execution_count": 72,
   "id": "5ff478cb-dbd1-4f6d-a5a5-d98c4d8a7a67",
   "metadata": {},
   "outputs": [],
   "source": [
    "l1 = []"
   ]
  },
  {
   "cell_type": "code",
   "execution_count": 74,
   "id": "17207210-0af6-4148-b2a2-bea6367101c7",
   "metadata": {},
   "outputs": [],
   "source": [
    "l1.append(70)"
   ]
  },
  {
   "cell_type": "code",
   "execution_count": 76,
   "id": "00d07f8f-93d8-4074-b571-b0a09497c5ca",
   "metadata": {},
   "outputs": [],
   "source": [
    "l1.append(2.3)"
   ]
  },
  {
   "cell_type": "code",
   "execution_count": 78,
   "id": "39aa01ef-2a98-47f6-b6df-67a754e2497a",
   "metadata": {},
   "outputs": [],
   "source": [
    "l1.append('ram')"
   ]
  },
  {
   "cell_type": "code",
   "execution_count": 80,
   "id": "f74df632-c119-4549-8307-a4b27a0ccdd7",
   "metadata": {},
   "outputs": [],
   "source": [
    "l1.append(True)"
   ]
  },
  {
   "cell_type": "code",
   "execution_count": 82,
   "id": "b3fb7b12-69ab-462a-b680-715227641972",
   "metadata": {},
   "outputs": [],
   "source": [
    "l1.append('3+2j')"
   ]
  },
  {
   "cell_type": "code",
   "execution_count": 84,
   "id": "6649f70b-078b-418e-b86e-4c41fbd22427",
   "metadata": {},
   "outputs": [
    {
     "data": {
      "text/plain": [
       "[70, 2.3, 'ram', True, '3+2j']"
      ]
     },
     "execution_count": 84,
     "metadata": {},
     "output_type": "execute_result"
    }
   ],
   "source": [
    "l1"
   ]
  },
  {
   "cell_type": "markdown",
   "id": "fdd18514-6195-491d-816c-8f1de7195fbf",
   "metadata": {},
   "source": [
    "## copy()"
   ]
  },
  {
   "cell_type": "code",
   "execution_count": 86,
   "id": "27930285-1eab-43de-9bf9-934636b8f8fd",
   "metadata": {},
   "outputs": [],
   "source": [
    "l2 = l1.copy()"
   ]
  },
  {
   "cell_type": "code",
   "execution_count": 90,
   "id": "3ac75840-f731-4f3f-9d6f-7a86482dd101",
   "metadata": {},
   "outputs": [
    {
     "name": "stdout",
     "output_type": "stream",
     "text": [
      "2172524370752\n",
      "2172524288832\n"
     ]
    }
   ],
   "source": [
    "print(id(l1))\n",
    "print(id(l2))"
   ]
  },
  {
   "cell_type": "code",
   "execution_count": 92,
   "id": "326e35a7-0b0c-4efd-97e5-9993aa974928",
   "metadata": {},
   "outputs": [],
   "source": [
    "a = 5\n",
    "b = 5"
   ]
  },
  {
   "cell_type": "code",
   "execution_count": 94,
   "id": "f1695779-9514-4964-9a82-c00dabe068bd",
   "metadata": {},
   "outputs": [
    {
     "name": "stdout",
     "output_type": "stream",
     "text": [
      "140703592233528\n",
      "140703592233528\n"
     ]
    }
   ],
   "source": [
    "print(id(a))\n",
    "print(id(b))"
   ]
  },
  {
   "cell_type": "markdown",
   "id": "8594529e-75e7-4b3e-8df4-e6f4918d3df6",
   "metadata": {},
   "source": [
    "## remove()"
   ]
  },
  {
   "cell_type": "code",
   "execution_count": 96,
   "id": "99ef2eec-029d-424d-aa0e-b15f3868ccae",
   "metadata": {
    "scrolled": true
   },
   "outputs": [
    {
     "ename": "ValueError",
     "evalue": "list.remove(x): x not in list",
     "output_type": "error",
     "traceback": [
      "\u001b[1;31m---------------------------------------------------------------------------\u001b[0m",
      "\u001b[1;31mValueError\u001b[0m                                Traceback (most recent call last)",
      "Cell \u001b[1;32mIn[96], line 1\u001b[0m\n\u001b[1;32m----> 1\u001b[0m \u001b[43ml\u001b[49m\u001b[38;5;241;43m.\u001b[39;49m\u001b[43mremove\u001b[49m\u001b[43m(\u001b[49m\u001b[38;5;241;43m1000\u001b[39;49m\u001b[43m)\u001b[49m\n",
      "\u001b[1;31mValueError\u001b[0m: list.remove(x): x not in list"
     ]
    }
   ],
   "source": [
    "l.remove(1000)"
   ]
  },
  {
   "cell_type": "code",
   "execution_count": 122,
   "id": "c110b482-71a2-4093-b71a-7bae6131d7b8",
   "metadata": {
    "scrolled": true
   },
   "outputs": [
    {
     "ename": "ValueError",
     "evalue": "list.remove(x): x not in list",
     "output_type": "error",
     "traceback": [
      "\u001b[1;31m---------------------------------------------------------------------------\u001b[0m",
      "\u001b[1;31mValueError\u001b[0m                                Traceback (most recent call last)",
      "Cell \u001b[1;32mIn[122], line 1\u001b[0m\n\u001b[1;32m----> 1\u001b[0m \u001b[43ml\u001b[49m\u001b[38;5;241;43m.\u001b[39;49m\u001b[43mremove\u001b[49m\u001b[43m(\u001b[49m\u001b[38;5;241;43m10\u001b[39;49m\u001b[43m)\u001b[49m\n\u001b[0;32m      2\u001b[0m l\n",
      "\u001b[1;31mValueError\u001b[0m: list.remove(x): x not in list"
     ]
    }
   ],
   "source": [
    "l.remove(10)\n",
    "l"
   ]
  },
  {
   "cell_type": "code",
   "execution_count": 150,
   "id": "b1750b67-f3c6-4104-a167-ad08c4401c8c",
   "metadata": {},
   "outputs": [
    {
     "data": {
      "text/plain": [
       "[20, 30, 40, 20, 30, 40]"
      ]
     },
     "execution_count": 150,
     "metadata": {},
     "output_type": "execute_result"
    }
   ],
   "source": [
    "l.reverse()\n",
    "l"
   ]
  },
  {
   "cell_type": "code",
   "execution_count": 156,
   "id": "dc14bbf8-373b-4c59-9909-db01ce5fcdea",
   "metadata": {},
   "outputs": [],
   "source": [
    "l5 = l.reverse()\n",
    "l5"
   ]
  },
  {
   "cell_type": "markdown",
   "id": "de6ae54c-dfd2-4c67-af98-c116d43c986c",
   "metadata": {},
   "source": [
    "## list indexing and slicing"
   ]
  },
  {
   "cell_type": "code",
   "execution_count": 161,
   "id": "3d13d21b-8aa9-4f63-a633-40919cf15d43",
   "metadata": {},
   "outputs": [
    {
     "data": {
      "text/plain": [
       "40"
      ]
     },
     "execution_count": 161,
     "metadata": {},
     "output_type": "execute_result"
    }
   ],
   "source": [
    "l[5]"
   ]
  },
  {
   "cell_type": "code",
   "execution_count": 163,
   "id": "969786fe-0645-4aa6-ba03-d0a01a1bbfaa",
   "metadata": {},
   "outputs": [
    {
     "data": {
      "text/plain": [
       "6"
      ]
     },
     "execution_count": 163,
     "metadata": {},
     "output_type": "execute_result"
    }
   ],
   "source": [
    "len(l)"
   ]
  },
  {
   "cell_type": "code",
   "execution_count": 173,
   "id": "71b760f2-d7a0-4974-9b6a-1bca1f01ab08",
   "metadata": {},
   "outputs": [
    {
     "data": {
      "text/plain": [
       "40"
      ]
     },
     "execution_count": 173,
     "metadata": {},
     "output_type": "execute_result"
    }
   ],
   "source": [
    "l[5]"
   ]
  },
  {
   "cell_type": "code",
   "execution_count": 175,
   "id": "8f51a054-03c3-4efa-a16a-64aa00cc5e65",
   "metadata": {},
   "outputs": [],
   "source": [
    "s = 'fine'"
   ]
  },
  {
   "cell_type": "code",
   "execution_count": 177,
   "id": "4f39038f-8af5-45e2-a13c-bf5f9e47f0f7",
   "metadata": {},
   "outputs": [
    {
     "data": {
      "text/plain": [
       "'dine'"
      ]
     },
     "execution_count": 177,
     "metadata": {},
     "output_type": "execute_result"
    }
   ],
   "source": [
    "'d'+s[1:]"
   ]
  },
  {
   "cell_type": "markdown",
   "id": "751df3fb-fcd3-4737-94fc-220e15fd01ba",
   "metadata": {},
   "source": [
    "# list"
   ]
  },
  {
   "cell_type": "code",
   "execution_count": 180,
   "id": "601df1ce-67bf-40fd-b360-a19397a94192",
   "metadata": {},
   "outputs": [],
   "source": [
    "l = []"
   ]
  },
  {
   "cell_type": "code",
   "execution_count": 182,
   "id": "0b8dd05b-3a43-48d2-94c4-54fe54ade2cf",
   "metadata": {},
   "outputs": [
    {
     "data": {
      "text/plain": [
       "[]"
      ]
     },
     "execution_count": 182,
     "metadata": {},
     "output_type": "execute_result"
    }
   ],
   "source": [
    "l"
   ]
  },
  {
   "cell_type": "code",
   "execution_count": 184,
   "id": "fcd9e6f9-0181-46e8-bb70-c5f4019d39a6",
   "metadata": {},
   "outputs": [
    {
     "ename": "TypeError",
     "evalue": "len() takes exactly one argument (0 given)",
     "output_type": "error",
     "traceback": [
      "\u001b[1;31m---------------------------------------------------------------------------\u001b[0m",
      "\u001b[1;31mTypeError\u001b[0m                                 Traceback (most recent call last)",
      "Cell \u001b[1;32mIn[184], line 1\u001b[0m\n\u001b[1;32m----> 1\u001b[0m \u001b[38;5;28;43mlen\u001b[39;49m\u001b[43m(\u001b[49m\u001b[43m)\u001b[49m\n",
      "\u001b[1;31mTypeError\u001b[0m: len() takes exactly one argument (0 given)"
     ]
    }
   ],
   "source": [
    "len()  # length function accept one argument"
   ]
  },
  {
   "cell_type": "code",
   "execution_count": 186,
   "id": "457a4763-9a87-4ff9-b266-011cb303ce2f",
   "metadata": {},
   "outputs": [
    {
     "data": {
      "text/plain": [
       "0"
      ]
     },
     "execution_count": 186,
     "metadata": {},
     "output_type": "execute_result"
    }
   ],
   "source": [
    "len(l)"
   ]
  },
  {
   "cell_type": "code",
   "execution_count": 190,
   "id": "d082a8c0-ea00-4323-b6b8-7ac52a943f0a",
   "metadata": {},
   "outputs": [],
   "source": [
    "#l. tab gives all functions assigned with that list or object"
   ]
  },
  {
   "cell_type": "code",
   "execution_count": 198,
   "id": "f6abe9d9-0c72-4d9f-bb30-9df3f7300038",
   "metadata": {},
   "outputs": [],
   "source": [
    "l.append(10)  # add the given argument at the end of the object and accept one argument or parameter"
   ]
  },
  {
   "cell_type": "code",
   "execution_count": 194,
   "id": "1a3f7e0f-5973-45f8-9134-939e3b40bf0f",
   "metadata": {},
   "outputs": [
    {
     "data": {
      "text/plain": [
       "[10]"
      ]
     },
     "execution_count": 194,
     "metadata": {},
     "output_type": "execute_result"
    }
   ],
   "source": [
    "l"
   ]
  },
  {
   "cell_type": "code",
   "execution_count": 196,
   "id": "185a93f0-dbd8-4720-9f88-71bea08bea2c",
   "metadata": {},
   "outputs": [
    {
     "data": {
      "text/plain": [
       "1"
      ]
     },
     "execution_count": 196,
     "metadata": {},
     "output_type": "execute_result"
    }
   ],
   "source": [
    "len(l)"
   ]
  },
  {
   "cell_type": "code",
   "execution_count": 202,
   "id": "6dd7ec72-1ff9-4561-bfc9-314f35b8546c",
   "metadata": {},
   "outputs": [
    {
     "ename": "TypeError",
     "evalue": "list.append() takes exactly one argument (4 given)",
     "output_type": "error",
     "traceback": [
      "\u001b[1;31m---------------------------------------------------------------------------\u001b[0m",
      "\u001b[1;31mTypeError\u001b[0m                                 Traceback (most recent call last)",
      "Cell \u001b[1;32mIn[202], line 1\u001b[0m\n\u001b[1;32m----> 1\u001b[0m \u001b[43ml\u001b[49m\u001b[38;5;241;43m.\u001b[39;49m\u001b[43mappend\u001b[49m\u001b[43m(\u001b[49m\u001b[38;5;241;43m10\u001b[39;49m\u001b[43m,\u001b[49m\u001b[38;5;241;43m20\u001b[39;49m\u001b[43m,\u001b[49m\u001b[38;5;241;43m30\u001b[39;49m\u001b[43m,\u001b[49m\u001b[38;5;241;43m40\u001b[39;49m\u001b[43m)\u001b[49m\n",
      "\u001b[1;31mTypeError\u001b[0m: list.append() takes exactly one argument (4 given)"
     ]
    }
   ],
   "source": [
    "l.append(10,20,30,40)"
   ]
  },
  {
   "cell_type": "code",
   "execution_count": 204,
   "id": "94da2463-7d73-405b-b1f3-20394445f110",
   "metadata": {},
   "outputs": [],
   "source": [
    "l.append(10)\n",
    "l.append(20)"
   ]
  },
  {
   "cell_type": "code",
   "execution_count": 206,
   "id": "09779c3f-3a65-4308-b332-93ea65a19b4d",
   "metadata": {},
   "outputs": [],
   "source": [
    "l.append(30)\n",
    "l.append(40)"
   ]
  },
  {
   "cell_type": "code",
   "execution_count": 208,
   "id": "7c92b679-bd5c-469c-bd34-40592abf8f5b",
   "metadata": {},
   "outputs": [
    {
     "data": {
      "text/plain": [
       "[10, 10, 10, 20, 30, 40]"
      ]
     },
     "execution_count": 208,
     "metadata": {},
     "output_type": "execute_result"
    }
   ],
   "source": [
    "l"
   ]
  },
  {
   "cell_type": "code",
   "execution_count": 210,
   "id": "ff400f93-2b48-4e69-92b9-41886a73b67d",
   "metadata": {},
   "outputs": [],
   "source": [
    "l1 = [40,30,20,10,40,30,20]"
   ]
  },
  {
   "cell_type": "code",
   "execution_count": 212,
   "id": "a70efa07-9b77-4efa-8e72-7d4d51f73db3",
   "metadata": {},
   "outputs": [],
   "source": [
    "l2 =[70,2.3,True,1+2j,[1,2,3]]"
   ]
  },
  {
   "cell_type": "code",
   "execution_count": 214,
   "id": "cd602d1d-5322-4bb4-8a6d-e2846bba18e7",
   "metadata": {},
   "outputs": [
    {
     "data": {
      "text/plain": [
       "[40, 30, 20, 10, 40, 30, 20]"
      ]
     },
     "execution_count": 214,
     "metadata": {},
     "output_type": "execute_result"
    }
   ],
   "source": [
    "l1"
   ]
  },
  {
   "cell_type": "code",
   "execution_count": 216,
   "id": "89f26952-286e-4c6d-b676-4a9431fbb3b3",
   "metadata": {},
   "outputs": [
    {
     "data": {
      "text/plain": [
       "[70, 2.3, True, (1+2j), [1, 2, 3]]"
      ]
     },
     "execution_count": 216,
     "metadata": {},
     "output_type": "execute_result"
    }
   ],
   "source": [
    "l2"
   ]
  },
  {
   "cell_type": "code",
   "execution_count": 218,
   "id": "1a74ab38-95c4-4faa-a7d3-deb7971a47c8",
   "metadata": {},
   "outputs": [
    {
     "data": {
      "text/plain": [
       "1"
      ]
     },
     "execution_count": 218,
     "metadata": {},
     "output_type": "execute_result"
    }
   ],
   "source": [
    "l2.count(True)"
   ]
  },
  {
   "cell_type": "code",
   "execution_count": 220,
   "id": "9c9e74d3-7da1-48b7-845b-df7404a734ba",
   "metadata": {},
   "outputs": [
    {
     "data": {
      "text/plain": [
       "1"
      ]
     },
     "execution_count": 220,
     "metadata": {},
     "output_type": "execute_result"
    }
   ],
   "source": [
    "l2.count(70)"
   ]
  },
  {
   "cell_type": "code",
   "execution_count": 222,
   "id": "56249553-c7ab-4b56-9c41-6a7234825496",
   "metadata": {},
   "outputs": [
    {
     "data": {
      "text/plain": [
       "0"
      ]
     },
     "execution_count": 222,
     "metadata": {},
     "output_type": "execute_result"
    }
   ],
   "source": [
    "l2.count(5)"
   ]
  },
  {
   "cell_type": "code",
   "execution_count": 224,
   "id": "b34572cf-fbcb-4b77-88ca-6a53dcf674f1",
   "metadata": {},
   "outputs": [],
   "source": [
    "l2.append(70)"
   ]
  },
  {
   "cell_type": "code",
   "execution_count": 226,
   "id": "7c5a0eb8-fe3c-499e-a68e-ad960b4babca",
   "metadata": {},
   "outputs": [
    {
     "data": {
      "text/plain": [
       "[70, 2.3, True, (1+2j), [1, 2, 3], 70]"
      ]
     },
     "execution_count": 226,
     "metadata": {},
     "output_type": "execute_result"
    }
   ],
   "source": [
    "l2"
   ]
  },
  {
   "cell_type": "code",
   "execution_count": 228,
   "id": "7e4208e5-8cca-432f-99b9-bcaa6da8cfef",
   "metadata": {},
   "outputs": [
    {
     "data": {
      "text/plain": [
       "2"
      ]
     },
     "execution_count": 228,
     "metadata": {},
     "output_type": "execute_result"
    }
   ],
   "source": [
    "l2.count(70)"
   ]
  },
  {
   "cell_type": "code",
   "execution_count": 230,
   "id": "b44ef495-111d-4c73-bf05-2aa31609ce44",
   "metadata": {},
   "outputs": [
    {
     "data": {
      "text/plain": [
       "[70, 2.3, True, (1+2j), [1, 2, 3], 70]"
      ]
     },
     "execution_count": 230,
     "metadata": {},
     "output_type": "execute_result"
    }
   ],
   "source": [
    "l2[:]"
   ]
  },
  {
   "cell_type": "code",
   "execution_count": 232,
   "id": "abe5e1ec-7bd8-4dcb-bae1-fe759fe9ee40",
   "metadata": {},
   "outputs": [
    {
     "data": {
      "text/plain": [
       "[70, 2.3, True, (1+2j), [1, 2, 3]]"
      ]
     },
     "execution_count": 232,
     "metadata": {},
     "output_type": "execute_result"
    }
   ],
   "source": [
    "l2[:5]"
   ]
  },
  {
   "cell_type": "code",
   "execution_count": 234,
   "id": "feba4a53-9b85-45d5-8a2a-9d17ba8c76fc",
   "metadata": {},
   "outputs": [
    {
     "data": {
      "text/plain": [
       "5"
      ]
     },
     "execution_count": 234,
     "metadata": {},
     "output_type": "execute_result"
    }
   ],
   "source": [
    "l.index(40)\n"
   ]
  },
  {
   "cell_type": "code",
   "execution_count": 236,
   "id": "1330928b-8414-4f14-aa95-128c219ee0c0",
   "metadata": {},
   "outputs": [
    {
     "data": {
      "text/plain": [
       "3"
      ]
     },
     "execution_count": 236,
     "metadata": {},
     "output_type": "execute_result"
    }
   ],
   "source": [
    "l.index(20)"
   ]
  },
  {
   "cell_type": "code",
   "execution_count": 238,
   "id": "c24ee94b-d649-4952-8266-965ec4677a83",
   "metadata": {},
   "outputs": [
    {
     "ename": "ValueError",
     "evalue": "90 is not in list",
     "output_type": "error",
     "traceback": [
      "\u001b[1;31m---------------------------------------------------------------------------\u001b[0m",
      "\u001b[1;31mValueError\u001b[0m                                Traceback (most recent call last)",
      "Cell \u001b[1;32mIn[238], line 1\u001b[0m\n\u001b[1;32m----> 1\u001b[0m \u001b[43ml\u001b[49m\u001b[38;5;241;43m.\u001b[39;49m\u001b[43mindex\u001b[49m\u001b[43m(\u001b[49m\u001b[38;5;241;43m90\u001b[39;49m\u001b[43m)\u001b[49m\n",
      "\u001b[1;31mValueError\u001b[0m: 90 is not in list"
     ]
    }
   ],
   "source": [
    "l.index(90)"
   ]
  },
  {
   "cell_type": "code",
   "execution_count": 240,
   "id": "666b9d76-4ff7-44c4-a922-c77d7c82a63b",
   "metadata": {},
   "outputs": [
    {
     "data": {
      "text/plain": [
       "5"
      ]
     },
     "execution_count": 240,
     "metadata": {},
     "output_type": "execute_result"
    }
   ],
   "source": [
    "l.index(40.0)"
   ]
  },
  {
   "cell_type": "code",
   "execution_count": 242,
   "id": "ffa7e333-eaa1-4397-b40a-7390d39a7b1d",
   "metadata": {},
   "outputs": [
    {
     "data": {
      "text/plain": [
       "[70, 2.3, True, (1+2j), [1, 2, 3], 70]"
      ]
     },
     "execution_count": 242,
     "metadata": {},
     "output_type": "execute_result"
    }
   ],
   "source": [
    "l2"
   ]
  },
  {
   "cell_type": "code",
   "execution_count": 244,
   "id": "ed75a63d-4690-479d-b690-c97546bcce0d",
   "metadata": {},
   "outputs": [
    {
     "data": {
      "text/plain": [
       "2172524382720"
      ]
     },
     "execution_count": 244,
     "metadata": {},
     "output_type": "execute_result"
    }
   ],
   "source": [
    "id(l2)"
   ]
  },
  {
   "cell_type": "code",
   "execution_count": 248,
   "id": "811f1d83-6771-466e-8c54-b5348faef4b2",
   "metadata": {},
   "outputs": [
    {
     "data": {
      "text/plain": [
       "6"
      ]
     },
     "execution_count": 248,
     "metadata": {},
     "output_type": "execute_result"
    }
   ],
   "source": [
    "len(l2)"
   ]
  },
  {
   "cell_type": "code",
   "execution_count": 250,
   "id": "3c8d894e-95cf-48a4-82f7-c5a69d572860",
   "metadata": {},
   "outputs": [],
   "source": [
    "l2.clear()"
   ]
  },
  {
   "cell_type": "code",
   "execution_count": 252,
   "id": "d0f07cd0-a5a1-4212-ae78-0119e9f583bd",
   "metadata": {},
   "outputs": [
    {
     "data": {
      "text/plain": [
       "[]"
      ]
     },
     "execution_count": 252,
     "metadata": {},
     "output_type": "execute_result"
    }
   ],
   "source": [
    "l2"
   ]
  },
  {
   "cell_type": "code",
   "execution_count": 254,
   "id": "81409277-3a87-4611-b31e-2836b5124109",
   "metadata": {},
   "outputs": [
    {
     "data": {
      "text/plain": [
       "2172524382720"
      ]
     },
     "execution_count": 254,
     "metadata": {},
     "output_type": "execute_result"
    }
   ],
   "source": [
    "id(l2)"
   ]
  },
  {
   "cell_type": "code",
   "execution_count": 256,
   "id": "b4678c6d-c192-4ac4-9429-e20f8f265920",
   "metadata": {},
   "outputs": [],
   "source": [
    "del l2"
   ]
  },
  {
   "cell_type": "code",
   "execution_count": 260,
   "id": "e516b458-d475-4ce6-8d22-d385da4e989e",
   "metadata": {},
   "outputs": [
    {
     "data": {
      "text/plain": [
       "20"
      ]
     },
     "execution_count": 260,
     "metadata": {},
     "output_type": "execute_result"
    }
   ],
   "source": [
    "l1.pop()"
   ]
  },
  {
   "cell_type": "code",
   "execution_count": 262,
   "id": "297c2515-9163-4fe9-bc22-c1d54006e4d9",
   "metadata": {},
   "outputs": [
    {
     "data": {
      "text/plain": [
       "40"
      ]
     },
     "execution_count": 262,
     "metadata": {},
     "output_type": "execute_result"
    }
   ],
   "source": [
    "l1.pop(0)"
   ]
  },
  {
   "cell_type": "code",
   "execution_count": 264,
   "id": "957b5b1e-cd81-45d2-bbc2-150b8f00ff27",
   "metadata": {},
   "outputs": [
    {
     "data": {
      "text/plain": [
       "[30, 20, 10, 40, 30]"
      ]
     },
     "execution_count": 264,
     "metadata": {},
     "output_type": "execute_result"
    }
   ],
   "source": [
    "l1"
   ]
  },
  {
   "cell_type": "code",
   "execution_count": 272,
   "id": "016ae665-6473-42b3-b17b-2b1b759b8578",
   "metadata": {},
   "outputs": [],
   "source": [
    "l1.remove(40)"
   ]
  },
  {
   "cell_type": "code",
   "execution_count": 274,
   "id": "1641f96f-6f15-4722-b48d-58774865a5c6",
   "metadata": {},
   "outputs": [
    {
     "data": {
      "text/plain": [
       "[30, 20, 10, 30]"
      ]
     },
     "execution_count": 274,
     "metadata": {},
     "output_type": "execute_result"
    }
   ],
   "source": [
    "l1"
   ]
  },
  {
   "cell_type": "code",
   "execution_count": 284,
   "id": "bc1ca313-7d9a-4475-9306-2d428a844314",
   "metadata": {},
   "outputs": [
    {
     "data": {
      "text/plain": [
       "[30, 20, 25, 10, 30]"
      ]
     },
     "execution_count": 284,
     "metadata": {},
     "output_type": "execute_result"
    }
   ],
   "source": [
    "l1.insert(2,25)\n",
    "l1"
   ]
  },
  {
   "cell_type": "code",
   "execution_count": 288,
   "id": "7f2650b4-40e3-4ddc-9fdd-6ce9696068d7",
   "metadata": {},
   "outputs": [
    {
     "data": {
      "text/plain": [
       "[30, 20, 25, 10, 30]"
      ]
     },
     "execution_count": 288,
     "metadata": {},
     "output_type": "execute_result"
    }
   ],
   "source": [
    "l1"
   ]
  },
  {
   "cell_type": "code",
   "execution_count": 298,
   "id": "e7ef3f8a-44b2-41ac-87b4-dc4c0898a489",
   "metadata": {},
   "outputs": [
    {
     "data": {
      "text/plain": [
       "[400, 10, 10, 20, 30, 40]"
      ]
     },
     "execution_count": 298,
     "metadata": {},
     "output_type": "execute_result"
    }
   ],
   "source": [
    "l"
   ]
  },
  {
   "cell_type": "code",
   "execution_count": 292,
   "id": "429fb95d-be4f-452a-98ee-c30f5be1ab6d",
   "metadata": {},
   "outputs": [],
   "source": [
    "l[0]=400"
   ]
  },
  {
   "cell_type": "code",
   "execution_count": 294,
   "id": "a5347203-51c8-4613-a755-da2484ed2212",
   "metadata": {},
   "outputs": [
    {
     "data": {
      "text/plain": [
       "[400, 10, 10, 20, 30, 40]"
      ]
     },
     "execution_count": 294,
     "metadata": {},
     "output_type": "execute_result"
    }
   ],
   "source": [
    "l"
   ]
  },
  {
   "cell_type": "code",
   "execution_count": 300,
   "id": "01d3124c-96d5-41a8-b759-600b597a1195",
   "metadata": {},
   "outputs": [
    {
     "data": {
      "text/plain": [
       "[30, 20, 25, 10, 30]"
      ]
     },
     "execution_count": 300,
     "metadata": {},
     "output_type": "execute_result"
    }
   ],
   "source": [
    "l1"
   ]
  },
  {
   "cell_type": "code",
   "execution_count": 302,
   "id": "b0d69f8c-4ec0-42f4-a4d6-333c5edf3a44",
   "metadata": {},
   "outputs": [
    {
     "data": {
      "text/plain": [
       "30"
      ]
     },
     "execution_count": 302,
     "metadata": {},
     "output_type": "execute_result"
    }
   ],
   "source": [
    "l1[0]"
   ]
  },
  {
   "cell_type": "code",
   "execution_count": 304,
   "id": "b0d75fc3-af09-4d48-942a-c4c8c95b5c27",
   "metadata": {},
   "outputs": [
    {
     "data": {
      "text/plain": [
       "[500, 20, 25, 10, 30]"
      ]
     },
     "execution_count": 304,
     "metadata": {},
     "output_type": "execute_result"
    }
   ],
   "source": [
    "l1[0]=500\n",
    "l1"
   ]
  },
  {
   "cell_type": "code",
   "execution_count": 306,
   "id": "aae4cbf3-fd67-4507-b340-ae710fcecaf8",
   "metadata": {},
   "outputs": [
    {
     "data": {
      "text/plain": [
       "[500, 20, 25, 10, 30]"
      ]
     },
     "execution_count": 306,
     "metadata": {},
     "output_type": "execute_result"
    }
   ],
   "source": [
    "l1"
   ]
  },
  {
   "cell_type": "code",
   "execution_count": 310,
   "id": "a30d2428-f4ac-4916-bded-123ec665ffcd",
   "metadata": {},
   "outputs": [],
   "source": [
    "l2 =[70,3.4,'ghwrf',True]"
   ]
  },
  {
   "cell_type": "code",
   "execution_count": 312,
   "id": "b6e8cdf4-9ac0-4f31-b645-b6502c0ca9ae",
   "metadata": {},
   "outputs": [],
   "source": [
    "l2.extend(l1)"
   ]
  },
  {
   "cell_type": "code",
   "execution_count": 314,
   "id": "bb50c4de-88ad-45c8-9890-88cf8e50f16f",
   "metadata": {},
   "outputs": [
    {
     "data": {
      "text/plain": [
       "[70, 3.4, 'ghwrf', True, 500, 20, 25, 10, 30]"
      ]
     },
     "execution_count": 314,
     "metadata": {},
     "output_type": "execute_result"
    }
   ],
   "source": [
    "l2"
   ]
  },
  {
   "cell_type": "code",
   "execution_count": 316,
   "id": "9a1b153e-07e3-44b6-bba6-03857244c8ac",
   "metadata": {},
   "outputs": [
    {
     "ename": "TypeError",
     "evalue": "list.extend() takes exactly one argument (2 given)",
     "output_type": "error",
     "traceback": [
      "\u001b[1;31m---------------------------------------------------------------------------\u001b[0m",
      "\u001b[1;31mTypeError\u001b[0m                                 Traceback (most recent call last)",
      "Cell \u001b[1;32mIn[316], line 1\u001b[0m\n\u001b[1;32m----> 1\u001b[0m \u001b[43ml2\u001b[49m\u001b[38;5;241;43m.\u001b[39;49m\u001b[43mextend\u001b[49m\u001b[43m(\u001b[49m\u001b[38;5;241;43m40\u001b[39;49m\u001b[43m,\u001b[49m\u001b[38;5;241;43m50\u001b[39;49m\u001b[43m)\u001b[49m\n",
      "\u001b[1;31mTypeError\u001b[0m: list.extend() takes exactly one argument (2 given)"
     ]
    }
   ],
   "source": [
    "l2.extend(40,50)"
   ]
  },
  {
   "cell_type": "code",
   "execution_count": 318,
   "id": "581c0d9b-1596-49e9-8746-c0c683046084",
   "metadata": {},
   "outputs": [],
   "source": [
    "l2.extend([40,50])"
   ]
  },
  {
   "cell_type": "code",
   "execution_count": 320,
   "id": "879fc0c0-425c-47e4-90f9-6f99199c0bcd",
   "metadata": {},
   "outputs": [
    {
     "data": {
      "text/plain": [
       "[70, 3.4, 'ghwrf', True, 500, 20, 25, 10, 30, 40, 50]"
      ]
     },
     "execution_count": 320,
     "metadata": {},
     "output_type": "execute_result"
    }
   ],
   "source": [
    "l2"
   ]
  },
  {
   "cell_type": "code",
   "execution_count": null,
   "id": "75f20783-f7ce-419e-8e67-4818da9a77f8",
   "metadata": {},
   "outputs": [],
   "source": []
  }
 ],
 "metadata": {
  "kernelspec": {
   "display_name": "Python 3 (ipykernel)",
   "language": "python",
   "name": "python3"
  },
  "language_info": {
   "codemirror_mode": {
    "name": "ipython",
    "version": 3
   },
   "file_extension": ".py",
   "mimetype": "text/x-python",
   "name": "python",
   "nbconvert_exporter": "python",
   "pygments_lexer": "ipython3",
   "version": "3.12.4"
  }
 },
 "nbformat": 4,
 "nbformat_minor": 5
}
