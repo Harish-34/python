{
 "cells": [
  {
   "cell_type": "markdown",
   "id": "47fecbfc-58f3-4926-bdbb-d3f76887bdea",
   "metadata": {},
   "source": [
    "# Number system\n",
    "## 1. Binary -- 2 base values, 0 & 1, bin(Decimal) -- Gives the binary equivalent value of the decimal number given in the function, example: ob1100 = 15 (ob 1.2^3 + 1.2^2 + 0.2^1 + 0.2^0 = 1*8 + 1*4 + 0*2 + 0*1 = 12) decimal value\n",
    "## 2. Octal -- 8 base values, 0 to 7, oct(Decimal) -- Gives the octal equivalent value of the decimal number given in the function, example: 0o44 = 36 (0o 4.8^1 + 4.8^0 = 4*8 + 4*1 = 36) decimal value\n",
    "## 3. Decimal --10 base values, 0 to 9,  values we use is decimal example: 10264, 68826300, 2768391\n",
    "## 4. Hexadecimal--16 base values, 0 to 9, a to f, hex(Decimal) -- Gives the hexadecimal equivalent value of the decimal number given in the function, example: ox15 = 21 (ox 1.16^1 + 5.16^0 = 1*16 + 5*1 = 21) decimal value"
   ]
  },
  {
   "cell_type": "code",
   "execution_count": 31,
   "id": "b3a68780-505c-4f39-9022-0137296d67c4",
   "metadata": {},
   "outputs": [
    {
     "data": {
      "text/plain": [
       "'0b1111'"
      ]
     },
     "execution_count": 31,
     "metadata": {},
     "output_type": "execute_result"
    }
   ],
   "source": [
    "bin(15)"
   ]
  },
  {
   "cell_type": "code",
   "execution_count": 55,
   "id": "52ce1eb9-252f-44f3-8a20-8d61fb209aae",
   "metadata": {},
   "outputs": [
    {
     "ename": "TypeError",
     "evalue": "'float' object cannot be interpreted as an integer",
     "output_type": "error",
     "traceback": [
      "\u001b[1;31m---------------------------------------------------------------------------\u001b[0m",
      "\u001b[1;31mTypeError\u001b[0m                                 Traceback (most recent call last)",
      "Cell \u001b[1;32mIn[55], line 1\u001b[0m\n\u001b[1;32m----> 1\u001b[0m \u001b[38;5;28;43mbin\u001b[39;49m\u001b[43m(\u001b[49m\u001b[38;5;241;43m2.0\u001b[39;49m\u001b[43m)\u001b[49m\n",
      "\u001b[1;31mTypeError\u001b[0m: 'float' object cannot be interpreted as an integer"
     ]
    }
   ],
   "source": [
    "bin(2.0)"
   ]
  },
  {
   "cell_type": "code",
   "execution_count": 33,
   "id": "d49cf48d-409e-4f6f-a8a2-5339e19e4086",
   "metadata": {},
   "outputs": [
    {
     "name": "stdout",
     "output_type": "stream",
     "text": [
      "0b1111\n"
     ]
    }
   ],
   "source": [
    "x = '0b1111'\n",
    "print(x)"
   ]
  },
  {
   "cell_type": "code",
   "execution_count": 35,
   "id": "2e66e51a-1a58-4e53-adea-454d2d0aab8b",
   "metadata": {},
   "outputs": [
    {
     "name": "stdout",
     "output_type": "stream",
     "text": [
      "15\n"
     ]
    }
   ],
   "source": [
    "x = 0b1111\n",
    "print(x)"
   ]
  },
  {
   "cell_type": "code",
   "execution_count": 39,
   "id": "ed7c6971-467a-4e31-8787-41e5426e8c5a",
   "metadata": {},
   "outputs": [
    {
     "data": {
      "text/plain": [
       "15"
      ]
     },
     "execution_count": 39,
     "metadata": {},
     "output_type": "execute_result"
    }
   ],
   "source": [
    "int(0b1111)"
   ]
  },
  {
   "cell_type": "code",
   "execution_count": 41,
   "id": "44fb882d-224b-421f-8319-d003b1cebe29",
   "metadata": {},
   "outputs": [
    {
     "data": {
      "text/plain": [
       "'0o17'"
      ]
     },
     "execution_count": 41,
     "metadata": {},
     "output_type": "execute_result"
    }
   ],
   "source": [
    "oct(15)"
   ]
  },
  {
   "cell_type": "code",
   "execution_count": 43,
   "id": "4705c1a9-5e54-4584-865d-40fa4ebe18e2",
   "metadata": {},
   "outputs": [
    {
     "data": {
      "text/plain": [
       "15"
      ]
     },
     "execution_count": 43,
     "metadata": {},
     "output_type": "execute_result"
    }
   ],
   "source": [
    "0o17"
   ]
  },
  {
   "cell_type": "code",
   "execution_count": 45,
   "id": "2be67989-a24c-4dd4-9100-7b5bf1a7d890",
   "metadata": {},
   "outputs": [
    {
     "data": {
      "text/plain": [
       "15"
      ]
     },
     "execution_count": 45,
     "metadata": {},
     "output_type": "execute_result"
    }
   ],
   "source": [
    "int(0o17)"
   ]
  },
  {
   "cell_type": "code",
   "execution_count": 47,
   "id": "c6f95c7b-22fa-409e-9fc3-1a6cd306425a",
   "metadata": {},
   "outputs": [
    {
     "data": {
      "text/plain": [
       "225"
      ]
     },
     "execution_count": 47,
     "metadata": {},
     "output_type": "execute_result"
    }
   ],
   "source": [
    "0o17**2"
   ]
  },
  {
   "cell_type": "code",
   "execution_count": 49,
   "id": "33e46b57-0de4-49ea-bdaa-01f74d2531cd",
   "metadata": {},
   "outputs": [
    {
     "data": {
      "text/plain": [
       "22.5"
      ]
     },
     "execution_count": 49,
     "metadata": {},
     "output_type": "execute_result"
    }
   ],
   "source": [
    "0o17*1.5"
   ]
  },
  {
   "cell_type": "code",
   "execution_count": 51,
   "id": "67883bd0-94a0-417d-ba6e-092bcbc5e59e",
   "metadata": {},
   "outputs": [
    {
     "data": {
      "text/plain": [
       "15.0"
      ]
     },
     "execution_count": 51,
     "metadata": {},
     "output_type": "execute_result"
    }
   ],
   "source": [
    "float(0o17)"
   ]
  },
  {
   "cell_type": "code",
   "execution_count": 57,
   "id": "0b081b68-8fdc-4e26-a267-06c674baf929",
   "metadata": {},
   "outputs": [
    {
     "ename": "TypeError",
     "evalue": "'float' object cannot be interpreted as an integer",
     "output_type": "error",
     "traceback": [
      "\u001b[1;31m---------------------------------------------------------------------------\u001b[0m",
      "\u001b[1;31mTypeError\u001b[0m                                 Traceback (most recent call last)",
      "Cell \u001b[1;32mIn[57], line 1\u001b[0m\n\u001b[1;32m----> 1\u001b[0m \u001b[38;5;28;43moct\u001b[39;49m\u001b[43m(\u001b[49m\u001b[38;5;241;43m12.7\u001b[39;49m\u001b[43m)\u001b[49m\n",
      "\u001b[1;31mTypeError\u001b[0m: 'float' object cannot be interpreted as an integer"
     ]
    }
   ],
   "source": [
    "oct(12.7)"
   ]
  },
  {
   "cell_type": "code",
   "execution_count": 59,
   "id": "fcd8e19e-60b5-4661-a7b4-b6e0330fef04",
   "metadata": {},
   "outputs": [
    {
     "data": {
      "text/plain": [
       "'0xf'"
      ]
     },
     "execution_count": 59,
     "metadata": {},
     "output_type": "execute_result"
    }
   ],
   "source": [
    "hex(15)"
   ]
  },
  {
   "cell_type": "code",
   "execution_count": 61,
   "id": "a7f08209-627d-4f6d-b5a4-11c9978587ec",
   "metadata": {},
   "outputs": [
    {
     "data": {
      "text/plain": [
       "'0x23cace'"
      ]
     },
     "execution_count": 61,
     "metadata": {},
     "output_type": "execute_result"
    }
   ],
   "source": [
    "hex(2345678)"
   ]
  },
  {
   "cell_type": "code",
   "execution_count": 63,
   "id": "4c9fa217-bd35-4581-a5f5-096e44d62388",
   "metadata": {},
   "outputs": [
    {
     "data": {
      "text/plain": [
       "'0x6b14ea050251e7ad2'"
      ]
     },
     "execution_count": 63,
     "metadata": {},
     "output_type": "execute_result"
    }
   ],
   "source": [
    "hex(123456789901234567890)"
   ]
  },
  {
   "cell_type": "code",
   "execution_count": 71,
   "id": "bab18e1e-d804-45db-99a1-b18763e75adf",
   "metadata": {},
   "outputs": [
    {
     "data": {
      "text/plain": [
       "4691356"
      ]
     },
     "execution_count": 71,
     "metadata": {},
     "output_type": "execute_result"
    }
   ],
   "source": [
    "a = 0x23cace\n",
    "2*a"
   ]
  },
  {
   "cell_type": "code",
   "execution_count": 73,
   "id": "92fe92d0-8829-4d02-baac-5c8cd7cdca35",
   "metadata": {},
   "outputs": [
    {
     "data": {
      "text/plain": [
       "2345678.0"
      ]
     },
     "execution_count": 73,
     "metadata": {},
     "output_type": "execute_result"
    }
   ],
   "source": [
    "float(a)"
   ]
  },
  {
   "cell_type": "code",
   "execution_count": null,
   "id": "2f3bd3a6-b2d7-4c9a-bf1d-9bff4515f277",
   "metadata": {},
   "outputs": [],
   "source": []
  }
 ],
 "metadata": {
  "kernelspec": {
   "display_name": "Python 3 (ipykernel)",
   "language": "python",
   "name": "python3"
  },
  "language_info": {
   "codemirror_mode": {
    "name": "ipython",
    "version": 3
   },
   "file_extension": ".py",
   "mimetype": "text/x-python",
   "name": "python",
   "nbconvert_exporter": "python",
   "pygments_lexer": "ipython3",
   "version": "3.12.4"
  }
 },
 "nbformat": 4,
 "nbformat_minor": 5
}
