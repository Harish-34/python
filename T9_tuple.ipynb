{
 "cells": [
  {
   "cell_type": "markdown",
   "id": "bb0ce6fc-4d0e-4a92-bd9d-f09bd9fccf65",
   "metadata": {},
   "source": [
    "# TUPLE"
   ]
  },
  {
   "cell_type": "markdown",
   "id": "e8c810a9-78e6-46aa-93e9-77f2171d74c2",
   "metadata": {},
   "source": [
    "- Silimar to list except objects are immutable cant change the elements once asigned\n",
    "- - prefered for data that cant be changed over time\n",
    "  - - iterating over the lements is faster that in list"
   ]
  },
  {
   "cell_type": "code",
   "execution_count": 8,
   "id": "4e932c19-c092-4aa5-91ef-62e73e0258bd",
   "metadata": {},
   "outputs": [],
   "source": [
    "t = ()"
   ]
  },
  {
   "cell_type": "code",
   "execution_count": 10,
   "id": "f9619a5f-ad05-4afa-a3bc-597931f0fa3f",
   "metadata": {},
   "outputs": [
    {
     "data": {
      "text/plain": [
       "()"
      ]
     },
     "execution_count": 10,
     "metadata": {},
     "output_type": "execute_result"
    }
   ],
   "source": [
    "t"
   ]
  },
  {
   "cell_type": "code",
   "execution_count": 12,
   "id": "4bfe63d1-75d0-4579-aa6e-0a7c268f2e89",
   "metadata": {},
   "outputs": [
    {
     "data": {
      "text/plain": [
       "tuple"
      ]
     },
     "execution_count": 12,
     "metadata": {},
     "output_type": "execute_result"
    }
   ],
   "source": [
    "type(t)"
   ]
  },
  {
   "cell_type": "code",
   "execution_count": 14,
   "id": "46870746-d42c-42b6-bad4-d5aebe42fec0",
   "metadata": {},
   "outputs": [],
   "source": [
    "t1 = 3, 4, 5, 6"
   ]
  },
  {
   "cell_type": "code",
   "execution_count": 16,
   "id": "0b528ca4-4b57-434f-a9bf-fabe0ec19300",
   "metadata": {},
   "outputs": [
    {
     "data": {
      "text/plain": [
       "(3, 4, 5, 6)"
      ]
     },
     "execution_count": 16,
     "metadata": {},
     "output_type": "execute_result"
    }
   ],
   "source": [
    "t1"
   ]
  },
  {
   "cell_type": "code",
   "execution_count": 18,
   "id": "265baeb2-7a83-4c6e-8663-044084badfd5",
   "metadata": {},
   "outputs": [
    {
     "data": {
      "text/plain": [
       "tuple"
      ]
     },
     "execution_count": 18,
     "metadata": {},
     "output_type": "execute_result"
    }
   ],
   "source": [
    "type(t1)"
   ]
  },
  {
   "cell_type": "code",
   "execution_count": 20,
   "id": "fa981d72-716d-4d6a-b42c-cb289e119bdc",
   "metadata": {},
   "outputs": [],
   "source": [
    "t2 =(10,20,30)"
   ]
  },
  {
   "cell_type": "code",
   "execution_count": 22,
   "id": "6e69d35d-4f43-49aa-8c25-7b68a71a157a",
   "metadata": {},
   "outputs": [
    {
     "data": {
      "text/plain": [
       "(10, 20, 30)"
      ]
     },
     "execution_count": 22,
     "metadata": {},
     "output_type": "execute_result"
    }
   ],
   "source": [
    "t2"
   ]
  },
  {
   "cell_type": "code",
   "execution_count": 24,
   "id": "9368c998-ddac-42d1-ae4f-68d2c380f465",
   "metadata": {},
   "outputs": [
    {
     "ename": "TypeError",
     "evalue": "tuple.count() takes exactly one argument (0 given)",
     "output_type": "error",
     "traceback": [
      "\u001b[1;31m---------------------------------------------------------------------------\u001b[0m",
      "\u001b[1;31mTypeError\u001b[0m                                 Traceback (most recent call last)",
      "Cell \u001b[1;32mIn[24], line 1\u001b[0m\n\u001b[1;32m----> 1\u001b[0m \u001b[43mt\u001b[49m\u001b[38;5;241;43m.\u001b[39;49m\u001b[43mcount\u001b[49m\u001b[43m(\u001b[49m\u001b[43m)\u001b[49m\n",
      "\u001b[1;31mTypeError\u001b[0m: tuple.count() takes exactly one argument (0 given)"
     ]
    }
   ],
   "source": [
    "t.count() # can pass one argument"
   ]
  },
  {
   "cell_type": "code",
   "execution_count": 26,
   "id": "00e2e5d0-9f81-4351-8b54-288742c734e0",
   "metadata": {},
   "outputs": [
    {
     "data": {
      "text/plain": [
       "1"
      ]
     },
     "execution_count": 26,
     "metadata": {},
     "output_type": "execute_result"
    }
   ],
   "source": [
    "t1.count(5)"
   ]
  },
  {
   "cell_type": "code",
   "execution_count": 28,
   "id": "ecbbc309-89d2-4674-a1aa-e56d1e65b8fd",
   "metadata": {},
   "outputs": [
    {
     "data": {
      "text/plain": [
       "3"
      ]
     },
     "execution_count": 28,
     "metadata": {},
     "output_type": "execute_result"
    }
   ],
   "source": [
    "t1[0]"
   ]
  },
  {
   "cell_type": "code",
   "execution_count": 30,
   "id": "e2191212-4a87-4432-8846-a6d74bae8eaf",
   "metadata": {},
   "outputs": [
    {
     "ename": "TypeError",
     "evalue": "'tuple' object does not support item assignment",
     "output_type": "error",
     "traceback": [
      "\u001b[1;31m---------------------------------------------------------------------------\u001b[0m",
      "\u001b[1;31mTypeError\u001b[0m                                 Traceback (most recent call last)",
      "Cell \u001b[1;32mIn[30], line 1\u001b[0m\n\u001b[1;32m----> 1\u001b[0m \u001b[43mt1\u001b[49m\u001b[43m[\u001b[49m\u001b[38;5;241;43m0\u001b[39;49m\u001b[43m]\u001b[49m \u001b[38;5;241m=\u001b[39m \u001b[38;5;241m35\u001b[39m\n",
      "\u001b[1;31mTypeError\u001b[0m: 'tuple' object does not support item assignment"
     ]
    }
   ],
   "source": [
    "t1[0] = 35"
   ]
  },
  {
   "cell_type": "code",
   "execution_count": 32,
   "id": "1f95021b-4fd8-4d16-8ac8-1cfa4edc138d",
   "metadata": {},
   "outputs": [],
   "source": [
    "l = [400,20,30]"
   ]
  },
  {
   "cell_type": "code",
   "execution_count": 34,
   "id": "a05bcb21-17d2-4d96-b3cd-18c0db3b662d",
   "metadata": {},
   "outputs": [
    {
     "data": {
      "text/plain": [
       "[400, 20, 30]"
      ]
     },
     "execution_count": 34,
     "metadata": {},
     "output_type": "execute_result"
    }
   ],
   "source": [
    "l"
   ]
  },
  {
   "cell_type": "code",
   "execution_count": 36,
   "id": "8ba77cf1-f788-4453-ba59-35a1aba68779",
   "metadata": {},
   "outputs": [],
   "source": [
    "l[0]=10"
   ]
  },
  {
   "cell_type": "code",
   "execution_count": 38,
   "id": "abecd400-fec9-4fbd-a3f7-09e6176f2d28",
   "metadata": {},
   "outputs": [
    {
     "data": {
      "text/plain": [
       "[10, 20, 30]"
      ]
     },
     "execution_count": 38,
     "metadata": {},
     "output_type": "execute_result"
    }
   ],
   "source": [
    "l"
   ]
  },
  {
   "cell_type": "code",
   "execution_count": 40,
   "id": "ae9b0c0b-351e-4f29-8317-9599ab2e9f5b",
   "metadata": {},
   "outputs": [],
   "source": [
    "icici = 234, 'jhgvaidfb767', 67898765"
   ]
  },
  {
   "cell_type": "code",
   "execution_count": 42,
   "id": "498eeaa2-20e8-4e8c-a04d-4addf8dc957c",
   "metadata": {},
   "outputs": [
    {
     "data": {
      "text/plain": [
       "234"
      ]
     },
     "execution_count": 42,
     "metadata": {},
     "output_type": "execute_result"
    }
   ],
   "source": [
    "icici[0]"
   ]
  },
  {
   "cell_type": "code",
   "execution_count": 44,
   "id": "7c4456d9-d38c-4b2e-9b04-30bd953765b0",
   "metadata": {},
   "outputs": [
    {
     "ename": "TypeError",
     "evalue": "'tuple' object does not support item assignment",
     "output_type": "error",
     "traceback": [
      "\u001b[1;31m---------------------------------------------------------------------------\u001b[0m",
      "\u001b[1;31mTypeError\u001b[0m                                 Traceback (most recent call last)",
      "Cell \u001b[1;32mIn[44], line 1\u001b[0m\n\u001b[1;32m----> 1\u001b[0m \u001b[43micici\u001b[49m\u001b[43m[\u001b[49m\u001b[38;5;241;43m0\u001b[39;49m\u001b[43m]\u001b[49m \u001b[38;5;241m=\u001b[39m \u001b[38;5;241m567\u001b[39m\n",
      "\u001b[1;31mTypeError\u001b[0m: 'tuple' object does not support item assignment"
     ]
    }
   ],
   "source": [
    "icici[0] = 567"
   ]
  },
  {
   "cell_type": "code",
   "execution_count": 46,
   "id": "b73ec2f9-9ec3-4752-bc18-26a20682abd6",
   "metadata": {},
   "outputs": [
    {
     "data": {
      "text/plain": [
       "(3, 4, 5, 6, 3, 4, 5, 6, 3, 4, 5, 6)"
      ]
     },
     "execution_count": 46,
     "metadata": {},
     "output_type": "execute_result"
    }
   ],
   "source": [
    "t1*3"
   ]
  },
  {
   "cell_type": "code",
   "execution_count": 50,
   "id": "d459877d-e630-4450-8ce6-38ec1b121be0",
   "metadata": {},
   "outputs": [
    {
     "data": {
      "text/plain": [
       "[10, 20, 30, 10, 20, 30, 10, 20, 30]"
      ]
     },
     "execution_count": 50,
     "metadata": {},
     "output_type": "execute_result"
    }
   ],
   "source": [
    "l*3"
   ]
  },
  {
   "cell_type": "code",
   "execution_count": 52,
   "id": "0c5bc8e0-b5ad-4024-a293-45f40c59c3ff",
   "metadata": {},
   "outputs": [
    {
     "data": {
      "text/plain": [
       "[10, 20, 30]"
      ]
     },
     "execution_count": 52,
     "metadata": {},
     "output_type": "execute_result"
    }
   ],
   "source": [
    "l"
   ]
  },
  {
   "cell_type": "code",
   "execution_count": 54,
   "id": "1c70c263-3393-47f4-972d-94491b20cfeb",
   "metadata": {},
   "outputs": [
    {
     "data": {
      "text/plain": [
       "(3, 4, 5, 6)"
      ]
     },
     "execution_count": 54,
     "metadata": {},
     "output_type": "execute_result"
    }
   ],
   "source": [
    "t1"
   ]
  },
  {
   "cell_type": "code",
   "execution_count": 56,
   "id": "7fce45fd-f0c9-42d7-8694-455e9c1debdf",
   "metadata": {},
   "outputs": [
    {
     "data": {
      "text/plain": [
       "(3, 4)"
      ]
     },
     "execution_count": 56,
     "metadata": {},
     "output_type": "execute_result"
    }
   ],
   "source": [
    "t1[:2]"
   ]
  },
  {
   "cell_type": "code",
   "execution_count": 58,
   "id": "caf18672-2618-4c94-aabf-0c06fabd05c8",
   "metadata": {},
   "outputs": [
    {
     "data": {
      "text/plain": [
       "(3, 4, 5, 6)"
      ]
     },
     "execution_count": 58,
     "metadata": {},
     "output_type": "execute_result"
    }
   ],
   "source": [
    "t1[:10]"
   ]
  },
  {
   "cell_type": "code",
   "execution_count": 64,
   "id": "4afb170f-d9a6-4760-8001-4c02e66c40ea",
   "metadata": {},
   "outputs": [
    {
     "name": "stdout",
     "output_type": "stream",
     "text": [
      "3\n",
      "4\n",
      "5\n",
      "6\n"
     ]
    }
   ],
   "source": [
    "for i in t1:\n",
    "    print(i)"
   ]
  },
  {
   "cell_type": "code",
   "execution_count": 68,
   "id": "bdb0820c-a7f6-4a3f-abfd-80a744a92975",
   "metadata": {},
   "outputs": [
    {
     "name": "stdout",
     "output_type": "stream",
     "text": [
      "(0, 3)\n",
      "(1, 4)\n",
      "(2, 5)\n",
      "(3, 6)\n"
     ]
    }
   ],
   "source": [
    "for i in enumerate(t1):\n",
    "    print(i)"
   ]
  },
  {
   "cell_type": "code",
   "execution_count": 70,
   "id": "d986f171-1a51-48f1-9c66-1f81ee46f8a0",
   "metadata": {},
   "outputs": [],
   "source": [
    "t3 = 10,10,10"
   ]
  },
  {
   "cell_type": "code",
   "execution_count": 72,
   "id": "28d18f4d-0416-404e-babd-7df8598766a7",
   "metadata": {},
   "outputs": [
    {
     "data": {
      "text/plain": [
       "(10, 10, 10)"
      ]
     },
     "execution_count": 72,
     "metadata": {},
     "output_type": "execute_result"
    }
   ],
   "source": [
    "t3"
   ]
  },
  {
   "cell_type": "code",
   "execution_count": 74,
   "id": "ab18c4c5-988a-478b-b16d-b453b7bbe9ba",
   "metadata": {},
   "outputs": [],
   "source": [
    "t4 = 10,20,'kjhgfdg', 23.5, 6+7j"
   ]
  },
  {
   "cell_type": "code",
   "execution_count": 76,
   "id": "b898c8a9-fca5-4361-b924-17dd67425b52",
   "metadata": {},
   "outputs": [
    {
     "data": {
      "text/plain": [
       "(10, 20, 'kjhgfdg', 23.5, (6+7j))"
      ]
     },
     "execution_count": 76,
     "metadata": {},
     "output_type": "execute_result"
    }
   ],
   "source": [
    "t4"
   ]
  },
  {
   "cell_type": "code",
   "execution_count": 80,
   "id": "248254b1-c358-4edc-9d71-0a70a3ae74c7",
   "metadata": {},
   "outputs": [],
   "source": [
    "t5 = ('nit', 45)"
   ]
  },
  {
   "cell_type": "code",
   "execution_count": 82,
   "id": "4d7729db-f48b-417f-b4b6-d9af03ad05fb",
   "metadata": {},
   "outputs": [
    {
     "data": {
      "text/plain": [
       "'nit'"
      ]
     },
     "execution_count": 82,
     "metadata": {},
     "output_type": "execute_result"
    }
   ],
   "source": [
    "t5[0]"
   ]
  },
  {
   "cell_type": "code",
   "execution_count": 2,
   "id": "a2dbceb3-74ae-4963-85fe-fa89d6b57b75",
   "metadata": {},
   "outputs": [],
   "source": [
    "# craeting tuple\n",
    "tup1 = ()"
   ]
  },
  {
   "cell_type": "code",
   "execution_count": 4,
   "id": "83105af3-8d03-44d7-988a-6df1ea60ab9f",
   "metadata": {},
   "outputs": [],
   "source": [
    "tup2 = (60,70,80)"
   ]
  },
  {
   "cell_type": "code",
   "execution_count": 6,
   "id": "4d25e472-b4b6-4477-ac15-caf6bcec7b1a",
   "metadata": {},
   "outputs": [],
   "source": [
    "tup3 = (10.77,6.98,4)"
   ]
  },
  {
   "cell_type": "code",
   "execution_count": 8,
   "id": "d104fd82-f1e9-4c63-be07-ad4ce7647d78",
   "metadata": {},
   "outputs": [],
   "source": [
    "tup4 = (10,40.66,'ram', 3+4j)"
   ]
  },
  {
   "cell_type": "code",
   "execution_count": 10,
   "id": "d1546ae6-b4f6-4af6-a81d-24bc95137359",
   "metadata": {},
   "outputs": [],
   "source": [
    "tup5 = ('Asif', 25 ,[50, 100],[150, 90] , {'John' , 'David'} , (99,22,33))"
   ]
  },
  {
   "cell_type": "code",
   "execution_count": 12,
   "id": "e6f0ab35-32b3-4a4f-a868-4ce95f4adaaf",
   "metadata": {},
   "outputs": [
    {
     "data": {
      "text/plain": [
       "('Asif', 25, [50, 100], [150, 90], {'David', 'John'}, (99, 22, 33))"
      ]
     },
     "execution_count": 12,
     "metadata": {},
     "output_type": "execute_result"
    }
   ],
   "source": [
    "tup5"
   ]
  },
  {
   "cell_type": "code",
   "execution_count": 14,
   "id": "b8ad23ee-7b9e-4445-80a5-f80e481e3403",
   "metadata": {},
   "outputs": [],
   "source": [
    "#tuple indexing"
   ]
  },
  {
   "cell_type": "code",
   "execution_count": 20,
   "id": "9542de5a-ab49-4056-8c2a-0ccc39dd9893",
   "metadata": {},
   "outputs": [
    {
     "data": {
      "text/plain": [
       "60"
      ]
     },
     "execution_count": 20,
     "metadata": {},
     "output_type": "execute_result"
    }
   ],
   "source": [
    "tup2[0]"
   ]
  },
  {
   "cell_type": "code",
   "execution_count": 22,
   "id": "3ba1e097-1794-4875-9179-41a82ded4f28",
   "metadata": {},
   "outputs": [
    {
     "data": {
      "text/plain": [
       "4"
      ]
     },
     "execution_count": 22,
     "metadata": {},
     "output_type": "execute_result"
    }
   ],
   "source": [
    "tup3[-1]"
   ]
  },
  {
   "cell_type": "code",
   "execution_count": 24,
   "id": "d758fa48-3ce2-4f1a-ba11-367e3cfdc27a",
   "metadata": {},
   "outputs": [
    {
     "data": {
      "text/plain": [
       "'ram'"
      ]
     },
     "execution_count": 24,
     "metadata": {},
     "output_type": "execute_result"
    }
   ],
   "source": [
    "tup4[2]"
   ]
  },
  {
   "cell_type": "code",
   "execution_count": 26,
   "id": "531c266f-7438-4038-a83d-e2daecdcfe6e",
   "metadata": {},
   "outputs": [
    {
     "data": {
      "text/plain": [
       "100"
      ]
     },
     "execution_count": 26,
     "metadata": {},
     "output_type": "execute_result"
    }
   ],
   "source": [
    "tup5[2][-1]"
   ]
  },
  {
   "cell_type": "code",
   "execution_count": 28,
   "id": "47237861-b8ec-46a3-ac28-7477a50f0241",
   "metadata": {},
   "outputs": [
    {
     "data": {
      "text/plain": [
       "((99, 22, 33), {'David', 'John'}, [150, 90], [50, 100], 25, 'Asif')"
      ]
     },
     "execution_count": 28,
     "metadata": {},
     "output_type": "execute_result"
    }
   ],
   "source": [
    "tup5[::-1]"
   ]
  },
  {
   "cell_type": "code",
   "execution_count": 32,
   "id": "2755c8ea-3bec-432c-8046-31724f6ead23",
   "metadata": {},
   "outputs": [
    {
     "data": {
      "text/plain": [
       "{'David', 'John'}"
      ]
     },
     "execution_count": 32,
     "metadata": {},
     "output_type": "execute_result"
    }
   ],
   "source": [
    "tup5[4]"
   ]
  },
  {
   "cell_type": "code",
   "execution_count": 36,
   "id": "38373160-0c38-4253-8190-c9fe0765d433",
   "metadata": {},
   "outputs": [],
   "source": [
    "# remove and change items"
   ]
  },
  {
   "cell_type": "code",
   "execution_count": 38,
   "id": "9941929f-89af-49a2-9d0f-5c4d231fc485",
   "metadata": {},
   "outputs": [
    {
     "data": {
      "text/plain": [
       "10"
      ]
     },
     "execution_count": 38,
     "metadata": {},
     "output_type": "execute_result"
    }
   ],
   "source": [
    "tup4[0]"
   ]
  },
  {
   "cell_type": "code",
   "execution_count": 40,
   "id": "88386ff4-5b48-4483-a169-a3d631e3f14b",
   "metadata": {},
   "outputs": [
    {
     "data": {
      "text/plain": [
       "False"
      ]
     },
     "execution_count": 40,
     "metadata": {},
     "output_type": "execute_result"
    }
   ],
   "source": [
    "tup4[0]==5"
   ]
  },
  {
   "cell_type": "code",
   "execution_count": 42,
   "id": "df246a37-38ff-4078-ad97-65c23a801f26",
   "metadata": {},
   "outputs": [
    {
     "ename": "TypeError",
     "evalue": "'tuple' object does not support item assignment",
     "output_type": "error",
     "traceback": [
      "\u001b[1;31m---------------------------------------------------------------------------\u001b[0m",
      "\u001b[1;31mTypeError\u001b[0m                                 Traceback (most recent call last)",
      "Cell \u001b[1;32mIn[42], line 1\u001b[0m\n\u001b[1;32m----> 1\u001b[0m \u001b[43mtup4\u001b[49m\u001b[43m[\u001b[49m\u001b[38;5;241;43m1\u001b[39;49m\u001b[43m]\u001b[49m \u001b[38;5;241m=\u001b[39m \u001b[38;5;241m5\u001b[39m\n",
      "\u001b[1;31mTypeError\u001b[0m: 'tuple' object does not support item assignment"
     ]
    }
   ],
   "source": [
    "tup4[1] = 5"
   ]
  },
  {
   "cell_type": "code",
   "execution_count": 44,
   "id": "926d978d-5ea5-4b6d-8b4e-70067fb1a23a",
   "metadata": {},
   "outputs": [],
   "source": [
    "mytuple = ('one' , 'two' , 'three' , 'four' , 'five' , 'six' , 'seven' , 'eight')"
   ]
  },
  {
   "cell_type": "code",
   "execution_count": 46,
   "id": "d34ca5af-51d4-42d7-9042-074866a5a84e",
   "metadata": {},
   "outputs": [
    {
     "ename": "TypeError",
     "evalue": "'tuple' object doesn't support item deletion",
     "output_type": "error",
     "traceback": [
      "\u001b[1;31m---------------------------------------------------------------------------\u001b[0m",
      "\u001b[1;31mTypeError\u001b[0m                                 Traceback (most recent call last)",
      "Cell \u001b[1;32mIn[46], line 1\u001b[0m\n\u001b[1;32m----> 1\u001b[0m \u001b[38;5;28;01mdel\u001b[39;00m \u001b[43mmytuple\u001b[49m\u001b[43m[\u001b[49m\u001b[38;5;241;43m0\u001b[39;49m\u001b[43m]\u001b[49m\n",
      "\u001b[1;31mTypeError\u001b[0m: 'tuple' object doesn't support item deletion"
     ]
    }
   ],
   "source": [
    "del mytuple[0]"
   ]
  },
  {
   "cell_type": "code",
   "execution_count": 48,
   "id": "b9e53f0b-a560-405c-b9f2-359472abe5cf",
   "metadata": {},
   "outputs": [
    {
     "ename": "TypeError",
     "evalue": "'tuple' object does not support item assignment",
     "output_type": "error",
     "traceback": [
      "\u001b[1;31m---------------------------------------------------------------------------\u001b[0m",
      "\u001b[1;31mTypeError\u001b[0m                                 Traceback (most recent call last)",
      "Cell \u001b[1;32mIn[48], line 1\u001b[0m\n\u001b[1;32m----> 1\u001b[0m \u001b[43mmytuple\u001b[49m\u001b[43m[\u001b[49m\u001b[38;5;241;43m0\u001b[39;49m\u001b[43m]\u001b[49m \u001b[38;5;241m=\u001b[39m \u001b[38;5;241m1\u001b[39m\n",
      "\u001b[1;31mTypeError\u001b[0m: 'tuple' object does not support item assignment"
     ]
    }
   ],
   "source": [
    "mytuple[0] = 1"
   ]
  },
  {
   "cell_type": "code",
   "execution_count": 50,
   "id": "cd8ed93d-cb99-4fdd-a66a-88405dc53050",
   "metadata": {},
   "outputs": [],
   "source": [
    "del mytuple"
   ]
  },
  {
   "cell_type": "code",
   "execution_count": 52,
   "id": "23c2b7bc-ea77-415c-91b5-5280f0958ff7",
   "metadata": {},
   "outputs": [
    {
     "ename": "NameError",
     "evalue": "name 'mytuple' is not defined",
     "output_type": "error",
     "traceback": [
      "\u001b[1;31m---------------------------------------------------------------------------\u001b[0m",
      "\u001b[1;31mNameError\u001b[0m                                 Traceback (most recent call last)",
      "Cell \u001b[1;32mIn[52], line 1\u001b[0m\n\u001b[1;32m----> 1\u001b[0m \u001b[43mmytuple\u001b[49m\n",
      "\u001b[1;31mNameError\u001b[0m: name 'mytuple' is not defined"
     ]
    }
   ],
   "source": [
    "mytuple"
   ]
  },
  {
   "cell_type": "code",
   "execution_count": 54,
   "id": "cfaab261-1fdc-493a-a7d9-c97f8faea0c7",
   "metadata": {},
   "outputs": [],
   "source": [
    "#Loop through a tuple"
   ]
  },
  {
   "cell_type": "code",
   "execution_count": 56,
   "id": "6968be21-aed6-490e-a397-38163b38203b",
   "metadata": {},
   "outputs": [],
   "source": [
    "mytuple = ('one' , 'two' , 'three' , 'four' , 'five' , 'six' , 'seven' , 'eight')"
   ]
  },
  {
   "cell_type": "code",
   "execution_count": 58,
   "id": "29ad79c6-4a71-4e7b-8a09-897111140260",
   "metadata": {},
   "outputs": [
    {
     "name": "stdout",
     "output_type": "stream",
     "text": [
      "one\n",
      "two\n",
      "three\n",
      "four\n",
      "five\n",
      "six\n",
      "seven\n",
      "eight\n"
     ]
    }
   ],
   "source": [
    "for i in mytuple:\n",
    "    print(i)"
   ]
  },
  {
   "cell_type": "code",
   "execution_count": 60,
   "id": "d4ec9f03-9ff2-4fa1-b941-2b7d3a884bc4",
   "metadata": {},
   "outputs": [
    {
     "name": "stdout",
     "output_type": "stream",
     "text": [
      "(0, 'one')\n",
      "(1, 'two')\n",
      "(2, 'three')\n",
      "(3, 'four')\n",
      "(4, 'five')\n",
      "(5, 'six')\n",
      "(6, 'seven')\n",
      "(7, 'eight')\n"
     ]
    }
   ],
   "source": [
    "for i in enumerate(mytuple):\n",
    "    print(i)"
   ]
  },
  {
   "cell_type": "code",
   "execution_count": 62,
   "id": "8dae214b-7c0a-4067-9863-873f635d5a66",
   "metadata": {},
   "outputs": [
    {
     "data": {
      "text/plain": [
       "1"
      ]
     },
     "execution_count": 62,
     "metadata": {},
     "output_type": "execute_result"
    }
   ],
   "source": [
    "mytuple.count('one')"
   ]
  },
  {
   "cell_type": "code",
   "execution_count": 64,
   "id": "7c5b80f8-be69-474d-91f3-1f261203522b",
   "metadata": {},
   "outputs": [],
   "source": [
    "mytuple1 =('one', 'two', 'three', 'four', 'one', 'one', 'two', 'three')"
   ]
  },
  {
   "cell_type": "code",
   "execution_count": 66,
   "id": "43e44b0d-5018-4d60-84c0-af82b2d8485c",
   "metadata": {},
   "outputs": [
    {
     "data": {
      "text/plain": [
       "3"
      ]
     },
     "execution_count": 66,
     "metadata": {},
     "output_type": "execute_result"
    }
   ],
   "source": [
    "mytuple1.count('one')"
   ]
  },
  {
   "cell_type": "code",
   "execution_count": 68,
   "id": "3cb26958-c86a-4076-b246-1d6c869f50fd",
   "metadata": {},
   "outputs": [],
   "source": [
    "# tuple membership"
   ]
  },
  {
   "cell_type": "code",
   "execution_count": 72,
   "id": "56826431-335c-4489-99d8-5806126a620f",
   "metadata": {},
   "outputs": [
    {
     "data": {
      "text/plain": [
       "True"
      ]
     },
     "execution_count": 72,
     "metadata": {},
     "output_type": "execute_result"
    }
   ],
   "source": [
    "'one' in mytuple"
   ]
  },
  {
   "cell_type": "code",
   "execution_count": 74,
   "id": "d1d12605-3613-4161-9a57-36e9fba7dc98",
   "metadata": {},
   "outputs": [
    {
     "data": {
      "text/plain": [
       "False"
      ]
     },
     "execution_count": 74,
     "metadata": {},
     "output_type": "execute_result"
    }
   ],
   "source": [
    "'ten' in mytuple"
   ]
  },
  {
   "cell_type": "code",
   "execution_count": 76,
   "id": "91ac0164-be97-46f5-a6b6-090571519c1f",
   "metadata": {},
   "outputs": [
    {
     "name": "stdout",
     "output_type": "stream",
     "text": [
      "Three is present in the tuple\n"
     ]
    }
   ],
   "source": [
    "if 'three' in mytuple: # Check if 'three' exist in the list\n",
    "    print('Three is present in the tuple')\n",
    "else:\n",
    "    print('Three is not present in the tuple')"
   ]
  },
  {
   "cell_type": "code",
   "execution_count": 78,
   "id": "e9e7b15a-aaa2-4304-b425-b3ec1dc1f3ae",
   "metadata": {},
   "outputs": [
    {
     "name": "stdout",
     "output_type": "stream",
     "text": [
      "Ten is not present in the tuple\n"
     ]
    }
   ],
   "source": [
    "if 'ten' in mytuple: # Check if 'three' exist in the list\n",
    "    print('Ten is present in the tuple')\n",
    "else:\n",
    "    print('Ten is not present in the tuple')"
   ]
  },
  {
   "cell_type": "code",
   "execution_count": 80,
   "id": "ab0658fb-a96f-48cb-bc24-8d567ce912cb",
   "metadata": {},
   "outputs": [
    {
     "data": {
      "text/plain": [
       "('one', 'two', 'three', 'four', 'one', 'one', 'two', 'three')"
      ]
     },
     "execution_count": 80,
     "metadata": {},
     "output_type": "execute_result"
    }
   ],
   "source": [
    "# sorting\n",
    "mytuple1"
   ]
  },
  {
   "cell_type": "code",
   "execution_count": 82,
   "id": "a050451d-b619-46e7-8f1a-7613b7d2595c",
   "metadata": {},
   "outputs": [
    {
     "data": {
      "text/plain": [
       "['four', 'one', 'one', 'one', 'three', 'three', 'two', 'two']"
      ]
     },
     "execution_count": 82,
     "metadata": {},
     "output_type": "execute_result"
    }
   ],
   "source": [
    "sorted(mytuple1)"
   ]
  },
  {
   "cell_type": "code",
   "execution_count": 86,
   "id": "dc763fc2-630e-4647-a916-ea38bbc68938",
   "metadata": {},
   "outputs": [
    {
     "data": {
      "text/plain": [
       "['two', 'two', 'three', 'three', 'one', 'one', 'one', 'four']"
      ]
     },
     "execution_count": 86,
     "metadata": {},
     "output_type": "execute_result"
    }
   ],
   "source": [
    "sorted(mytuple1, reverse = True)"
   ]
  },
  {
   "cell_type": "code",
   "execution_count": 88,
   "id": "016cb0ef-7a8a-4e0f-8ebd-ec5c4dc9e3e6",
   "metadata": {},
   "outputs": [
    {
     "data": {
      "text/plain": [
       "('one', 'two', 'three', 'four', 'one', 'one', 'two', 'three')"
      ]
     },
     "execution_count": 88,
     "metadata": {},
     "output_type": "execute_result"
    }
   ],
   "source": [
    "mytuple1"
   ]
  },
  {
   "cell_type": "code",
   "execution_count": 90,
   "id": "cfcea8cb-86ed-4642-bd33-9ee1121b409d",
   "metadata": {},
   "outputs": [
    {
     "data": {
      "text/plain": [
       "('one', 'two', 'three', 'four', 'one', 'one', 'two', 'three')"
      ]
     },
     "execution_count": 90,
     "metadata": {},
     "output_type": "execute_result"
    }
   ],
   "source": [
    "mytuple1"
   ]
  },
  {
   "cell_type": "code",
   "execution_count": 92,
   "id": "ecb428b1-9b9e-4871-ad9f-df42d129c955",
   "metadata": {},
   "outputs": [
    {
     "name": "stdin",
     "output_type": "stream",
     "text": [
      "enter a character: hello\n"
     ]
    },
    {
     "name": "stdout",
     "output_type": "stream",
     "text": [
      "hello\n"
     ]
    }
   ],
   "source": [
    "# using different funct\n",
    "ch = input('enter a character:')\n",
    "print(ch)"
   ]
  },
  {
   "cell_type": "code",
   "execution_count": 98,
   "id": "330e57d8-ed02-483c-9e46-be319bd65c4a",
   "metadata": {},
   "outputs": [
    {
     "name": "stdin",
     "output_type": "stream",
     "text": [
      "enter a character: qwergthfvd\n"
     ]
    },
    {
     "name": "stdout",
     "output_type": "stream",
     "text": [
      "t\n"
     ]
    }
   ],
   "source": [
    "ch1= input('enter a character:')[5]                               \n",
    "print(ch1)"
   ]
  },
  {
   "cell_type": "code",
   "execution_count": 102,
   "id": "ddb9ff5c-cca6-4f52-a96c-b16e0d613083",
   "metadata": {},
   "outputs": [
    {
     "name": "stdin",
     "output_type": "stream",
     "text": [
      "enter a number: 5\n",
      "enter a  number: 6\n"
     ]
    },
    {
     "name": "stdout",
     "output_type": "stream",
     "text": [
      "sum is: 56\n"
     ]
    }
   ],
   "source": [
    "# add 2 numbers by taking input frorm user\n",
    "ch3= input('enter a number:')      \n",
    "ch4= input('enter a  number:')  \n",
    "sum = ch3+ch4\n",
    "print('sum is:',sum)"
   ]
  },
  {
   "cell_type": "code",
   "execution_count": 106,
   "id": "6184956d-6682-4ec6-b383-f7c3862a7c50",
   "metadata": {},
   "outputs": [
    {
     "name": "stdin",
     "output_type": "stream",
     "text": [
      "enter a number: 5\n",
      "enter a  number: 6\n"
     ]
    },
    {
     "name": "stdout",
     "output_type": "stream",
     "text": [
      "sum is: 11\n"
     ]
    }
   ],
   "source": [
    "# add 2 numbers by taking input frorm user\n",
    "ch5= int(input('enter a number:'))      \n",
    "ch6= int(input('enter a  number:'))  \n",
    "sum = ch5+ch6\n",
    "print('sum is:',sum)"
   ]
  },
  {
   "cell_type": "code",
   "execution_count": 112,
   "id": "1d94b0c9-e8e8-4769-89b3-904f1d126f23",
   "metadata": {},
   "outputs": [
    {
     "name": "stdin",
     "output_type": "stream",
     "text": [
      "enter an expression: 5/4+8-6+23-86/96**2\n"
     ]
    },
    {
     "name": "stdout",
     "output_type": "stream",
     "text": [
      "evaluated expression: 26.24066840277778\n"
     ]
    }
   ],
   "source": [
    "# ela;luate an user expression\n",
    "ch7= eval(input('enter an expression:'))      \n",
    "print('evaluated expression:',ch7)"
   ]
  },
  {
   "cell_type": "code",
   "execution_count": null,
   "id": "becf6aad-3237-41a8-add9-8867fa09ca35",
   "metadata": {},
   "outputs": [],
   "source": []
  }
 ],
 "metadata": {
  "kernelspec": {
   "display_name": "Python 3 (ipykernel)",
   "language": "python",
   "name": "python3"
  },
  "language_info": {
   "codemirror_mode": {
    "name": "ipython",
    "version": 3
   },
   "file_extension": ".py",
   "mimetype": "text/x-python",
   "name": "python",
   "nbconvert_exporter": "python",
   "pygments_lexer": "ipython3",
   "version": "3.12.4"
  }
 },
 "nbformat": 4,
 "nbformat_minor": 5
}
