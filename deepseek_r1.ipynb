{
  "nbformat": 4,
  "nbformat_minor": 0,
  "metadata": {
    "colab": {
      "provenance": [],
      "gpuType": "T4",
      "authorship_tag": "ABX9TyOiY/Csg4mK/1XCPpdu1puT",
      "include_colab_link": true
    },
    "kernelspec": {
      "name": "python3",
      "display_name": "Python 3"
    },
    "language_info": {
      "name": "python"
    },
    "accelerator": "GPU"
  },
  "cells": [
    {
      "cell_type": "markdown",
      "metadata": {
        "id": "view-in-github",
        "colab_type": "text"
      },
      "source": [
        "<a href=\"https://colab.research.google.com/github/Harish-34/python/blob/main/deepseek_r1.ipynb\" target=\"_parent\"><img src=\"https://colab.research.google.com/assets/colab-badge.svg\" alt=\"Open In Colab\"/></a>"
      ]
    },
    {
      "cell_type": "code",
      "execution_count": 1,
      "metadata": {
        "colab": {
          "base_uri": "https://localhost:8080/"
        },
        "id": "Xp7qxirKhvLT",
        "outputId": "64a66bbf-262c-4c66-92c5-7e8a21137fab"
      },
      "outputs": [
        {
          "output_type": "stream",
          "name": "stdout",
          "text": [
            "Tue Feb 11 05:45:40 2025       \n",
            "+-----------------------------------------------------------------------------------------+\n",
            "| NVIDIA-SMI 550.54.15              Driver Version: 550.54.15      CUDA Version: 12.4     |\n",
            "|-----------------------------------------+------------------------+----------------------+\n",
            "| GPU  Name                 Persistence-M | Bus-Id          Disp.A | Volatile Uncorr. ECC |\n",
            "| Fan  Temp   Perf          Pwr:Usage/Cap |           Memory-Usage | GPU-Util  Compute M. |\n",
            "|                                         |                        |               MIG M. |\n",
            "|=========================================+========================+======================|\n",
            "|   0  Tesla T4                       Off |   00000000:00:04.0 Off |                    0 |\n",
            "| N/A   47C    P8              9W /   70W |       0MiB /  15360MiB |      0%      Default |\n",
            "|                                         |                        |                  N/A |\n",
            "+-----------------------------------------+------------------------+----------------------+\n",
            "                                                                                         \n",
            "+-----------------------------------------------------------------------------------------+\n",
            "| Processes:                                                                              |\n",
            "|  GPU   GI   CI        PID   Type   Process name                              GPU Memory |\n",
            "|        ID   ID                                                               Usage      |\n",
            "|=========================================================================================|\n",
            "|  No running processes found                                                             |\n",
            "+-----------------------------------------------------------------------------------------+\n"
          ]
        }
      ],
      "source": [
        "!nvidia-smi"
      ]
    },
    {
      "cell_type": "code",
      "source": [
        "from openai import OpenAI\n",
        "\n",
        "client = OpenAI(\n",
        "  base_url=\"https://openrouter.ai/api/v1\",\n",
        "  api_key=\"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\",\n",
        ")\n",
        "\n",
        "completion = client.chat.completions.create(\n",
        "  extra_headers={\n",
        "    \"HTTP-Referer\": \"<YOUR_SITE_URL>\", # Optional. Site URL for rankings on openrouter.ai.\n",
        "    \"X-Title\": \"<YOUR_SITE_NAME>\", # Optional. Site title for rankings on openrouter.ai.\n",
        "  },\n",
        "  extra_body={},\n",
        "  model=\"deepseek/deepseek-r1:free\",\n",
        "  messages=[\n",
        "    {\n",
        "      \"role\": \"user\",\n",
        "      \"content\": \"What is the data science?\"\n",
        "    }\n",
        "  ]\n",
        ")\n",
        "print(completion.choices[0].message.content)"
      ],
      "metadata": {
        "colab": {
          "base_uri": "https://localhost:8080/"
        },
        "id": "5iFpbwX6irLA",
        "outputId": "a368a198-c015-4a5d-dd2d-2dc010a7d463"
      },
      "execution_count": 5,
      "outputs": [
        {
          "output_type": "stream",
          "name": "stdout",
          "text": [
            "Data science is an interdisciplinary field that combines statistical analysis, machine learning, data visualization, domain expertise, and computer science to extract actionable insights and knowledge from structured or unstructured data. It involves the entire data lifecycle—from collection, cleaning, and preprocessing to analysis, modeling, interpretation, and deployment of results. Key components include:\n",
            "\n",
            "1. **Data Collection & Preparation**: Gathering raw data from databases, APIs, sensors, or web scraping, then cleaning and transforming it into a usable format.\n",
            "2. **Exploratory Data Analysis (EDA)**: Using statistical and visualization techniques to identify patterns, anomalies, and relationships within the data.\n",
            "3. **Modeling & Machine Learning**: Building predictive or descriptive models (e.g., regression, classification, clustering) to uncover trends or make forecasts.\n",
            "4. **Evaluation & Validation**: Assessing model performance using metrics like accuracy, precision, recall, or AUC-ROC to ensure robustness.\n",
            "5. **Deployment & Monitoring**: Implementing models into production systems and continuously monitoring their performance over time.\n",
            "6. **Communication**: Translating technical results into actionable insights for non-technical stakeholders through reports, dashboards, or visualizations.\n",
            "\n",
            "Data science is applied across industries like healthcare (diagnostics), finance (risk assessment), marketing (customer segmentation), and tech (recommendation systems). Tools include programming languages (Python, R), libraries (Pandas, TensorFlow), and platforms (Jupyter, Tableau). Ethical considerations, such as privacy (GDPR) and bias mitigation, are also critical to responsible practice.\n"
          ]
        }
      ]
    },
    {
      "cell_type": "code",
      "source": [],
      "metadata": {
        "id": "0c690sENjav_"
      },
      "execution_count": null,
      "outputs": []
    }
  ]
}