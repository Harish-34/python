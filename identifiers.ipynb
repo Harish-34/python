{
 "cells": [
  {
   "cell_type": "markdown",
   "id": "f6a743a1-5bee-48b0-b0e3-2216bf4ddec1",
   "metadata": {},
   "source": [
    "# valid identifiers"
   ]
  },
  {
   "cell_type": "code",
   "execution_count": 41,
   "id": "01c64228-bc8a-48cc-9a9a-76b0c8fbda36",
   "metadata": {},
   "outputs": [],
   "source": [
    "age = 25\n",
    "name = 'hari'\n",
    "my_var = 35.65\n",
    "score_1 = 345\n",
    "_ram_is_reading = True\n",
    "my_numb = 3+4j\n",
    "_PI = 3.14159"
   ]
  },
  {
   "cell_type": "markdown",
   "id": "a662f162-9600-41b7-9486-4f2e42711faa",
   "metadata": {},
   "source": [
    "# invalid identifiers"
   ]
  },
  {
   "cell_type": "code",
   "execution_count": 11,
   "id": "649f0e44-bf46-4d2c-abd5-fef30678229a",
   "metadata": {},
   "outputs": [
    {
     "ename": "SyntaxError",
     "evalue": "invalid decimal literal (1379749492.py, line 1)",
     "output_type": "error",
     "traceback": [
      "\u001b[1;36m  Cell \u001b[1;32mIn[11], line 1\u001b[1;36m\u001b[0m\n\u001b[1;33m    1st_name = 'nidamaneni'\u001b[0m\n\u001b[1;37m    ^\u001b[0m\n\u001b[1;31mSyntaxError\u001b[0m\u001b[1;31m:\u001b[0m invalid decimal literal\n"
     ]
    }
   ],
   "source": [
    "1st_name = 'nidamaneni'"
   ]
  },
  {
   "cell_type": "code",
   "execution_count": 23,
   "id": "95c067e8-287e-4888-871c-1a666e52ef65",
   "metadata": {},
   "outputs": [
    {
     "ename": "SyntaxError",
     "evalue": "cannot assign to expression here. Maybe you meant '==' instead of '='? (829636676.py, line 1)",
     "output_type": "error",
     "traceback": [
      "\u001b[1;36m  Cell \u001b[1;32mIn[23], line 1\u001b[1;36m\u001b[0m\n\u001b[1;33m    total -price = 200.6\u001b[0m\n\u001b[1;37m    ^\u001b[0m\n\u001b[1;31mSyntaxError\u001b[0m\u001b[1;31m:\u001b[0m cannot assign to expression here. Maybe you meant '==' instead of '='?\n"
     ]
    }
   ],
   "source": [
    "total -price = 200.6"
   ]
  },
  {
   "cell_type": "code",
   "execution_count": 15,
   "id": "162d68fb-c399-40a2-8144-aac13fe679d5",
   "metadata": {},
   "outputs": [
    {
     "ename": "SyntaxError",
     "evalue": "invalid syntax (1215685000.py, line 1)",
     "output_type": "error",
     "traceback": [
      "\u001b[1;36m  Cell \u001b[1;32mIn[15], line 1\u001b[1;36m\u001b[0m\n\u001b[1;33m    class = 'python'\u001b[0m\n\u001b[1;37m          ^\u001b[0m\n\u001b[1;31mSyntaxError\u001b[0m\u001b[1;31m:\u001b[0m invalid syntax\n"
     ]
    }
   ],
   "source": [
    "class = 'python'"
   ]
  },
  {
   "cell_type": "code",
   "execution_count": 17,
   "id": "09079e59-7f34-4e78-b2c9-53a7004048c7",
   "metadata": {},
   "outputs": [
    {
     "ename": "SyntaxError",
     "evalue": "invalid syntax (1312878432.py, line 1)",
     "output_type": "error",
     "traceback": [
      "\u001b[1;36m  Cell \u001b[1;32mIn[17], line 1\u001b[1;36m\u001b[0m\n\u001b[1;33m    my variable = 34\u001b[0m\n\u001b[1;37m       ^\u001b[0m\n\u001b[1;31mSyntaxError\u001b[0m\u001b[1;31m:\u001b[0m invalid syntax\n"
     ]
    }
   ],
   "source": [
    "my variable = 34"
   ]
  },
  {
   "cell_type": "markdown",
   "id": "aac57457-89e5-48a2-aa86-270fb602e9ad",
   "metadata": {},
   "source": [
    "# variable identifier"
   ]
  },
  {
   "cell_type": "code",
   "execution_count": 26,
   "id": "1da8e86d-e93f-4d84-b407-c2fe37b30bb6",
   "metadata": {},
   "outputs": [],
   "source": [
    "x = 10  # x and y are valid variable identifiers\n",
    "y = 'ram'"
   ]
  },
  {
   "cell_type": "markdown",
   "id": "28e4ea50-4dcd-43cb-91bb-3b93f73c915c",
   "metadata": {},
   "source": [
    "# function identifier"
   ]
  },
  {
   "cell_type": "code",
   "execution_count": 31,
   "id": "972eb10c-913a-4c1a-936b-6e9b87d4ebc6",
   "metadata": {},
   "outputs": [
    {
     "name": "stdout",
     "output_type": "stream",
     "text": [
      "hello ram!\n"
     ]
    }
   ],
   "source": [
    "def greating(name):  # greating is a function identifier\n",
    "    print(f'hello {name}!')\n",
    "\n",
    "greating('ram')"
   ]
  },
  {
   "cell_type": "markdown",
   "id": "9f4468de-2a88-4917-85f7-1a50e6e39289",
   "metadata": {},
   "source": [
    "# class identifier"
   ]
  },
  {
   "cell_type": "code",
   "execution_count": 36,
   "id": "615c5aca-387a-4e52-9a2b-dfdc5fd71dd8",
   "metadata": {},
   "outputs": [],
   "source": [
    "class car:  # car is a valid class identifier\n",
    "    def __init__(self, make, model):\n",
    "        self.make = make\n",
    "        self.model = model\n",
    "\n",
    "\n",
    "my_car = car('toyota','corolla')  # my_car is  and identifier for the car"
   ]
  },
  {
   "cell_type": "markdown",
   "id": "4bbaf254-1f97-4edd-aa12-c50b1d93cd76",
   "metadata": {},
   "source": [
    "# module identifier"
   ]
  },
  {
   "cell_type": "code",
   "execution_count": 39,
   "id": "12936b0c-7c1d-4346-b24e-370692fcacd5",
   "metadata": {},
   "outputs": [
    {
     "name": "stdout",
     "output_type": "stream",
     "text": [
      "3.141592653589793\n"
     ]
    }
   ],
   "source": [
    "import math  #math is module name and is an identifier\n",
    "print(math.pi)"
   ]
  },
  {
   "cell_type": "code",
   "execution_count": null,
   "id": "606daf79-0719-4b17-99be-ee8a2f7b5f15",
   "metadata": {},
   "outputs": [],
   "source": []
  }
 ],
 "metadata": {
  "kernelspec": {
   "display_name": "Python 3 (ipykernel)",
   "language": "python",
   "name": "python3"
  },
  "language_info": {
   "codemirror_mode": {
    "name": "ipython",
    "version": 3
   },
   "file_extension": ".py",
   "mimetype": "text/x-python",
   "name": "python",
   "nbconvert_exporter": "python",
   "pygments_lexer": "ipython3",
   "version": "3.12.4"
  }
 },
 "nbformat": 4,
 "nbformat_minor": 5
}
